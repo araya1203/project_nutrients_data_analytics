{
 "cells": [
  {
   "cell_type": "markdown",
   "id": "e2b9967a-3e59-40c7-b70b-ec8406ca9f89",
   "metadata": {},
   "source": [
    "## recovery product\n",
    "- 11번가, 쿠팡"
   ]
  },
  {
   "cell_type": "markdown",
   "id": "7ff1656b-9a82-41a9-9ddb-11d406f36a56",
   "metadata": {
    "tags": []
   },
   "source": [
    "### recovery product_쿠팡"
   ]
  },
  {
   "cell_type": "code",
   "execution_count": 1,
   "id": "03aa19d5-86ba-43ab-9442-8231ee2159cb",
   "metadata": {
    "tags": []
   },
   "outputs": [],
   "source": [
    "import pymongo as mg\n",
    "import pandas as pd"
   ]
  },
  {
   "cell_type": "code",
   "execution_count": 2,
   "id": "9f0a8bb6-820d-4bd3-a3cc-9bf3f189abea",
   "metadata": {
    "tags": []
   },
   "outputs": [],
   "source": [
    "client = mg.MongoClient(host='mongodb://localhost:27017')"
   ]
  },
  {
   "cell_type": "code",
   "execution_count": 3,
   "id": "636acf47-89b4-4f99-aa6b-adb65402a13d",
   "metadata": {
    "tags": []
   },
   "outputs": [],
   "source": [
    "database = client['project_nutrients']"
   ]
  },
  {
   "cell_type": "code",
   "execution_count": 4,
   "id": "a753d2b1-ca88-4c89-8b8c-265dc6d14849",
   "metadata": {
    "tags": []
   },
   "outputs": [],
   "source": [
    "collection = database['coupang_recovery_review']"
   ]
  },
  {
   "cell_type": "code",
   "execution_count": 5,
   "id": "52eba772-42e0-4b34-8b67-33f88050bda3",
   "metadata": {
    "tags": []
   },
   "outputs": [],
   "source": [
    "cursor = collection.find({})"
   ]
  },
  {
   "cell_type": "code",
   "execution_count": 6,
   "id": "b50ba05f-031a-49f1-b443-5e27a81c9361",
   "metadata": {
    "tags": []
   },
   "outputs": [],
   "source": [
    "recovery_coupang = list(cursor)"
   ]
  },
  {
   "cell_type": "code",
   "execution_count": 7,
   "id": "34cbd4f1-5497-470d-b409-25fdc3fa87d4",
   "metadata": {
    "tags": []
   },
   "outputs": [
    {
     "data": {
      "text/plain": [
       "[{'_id': ObjectId('6512a329f82160e0ae9e7523'),\n",
       "  'product_name': '[조아제약] 블랙마카 마스터클래스 아르기닌 야관문 흑마늘 활력강화, 60정, 810mg, 3박스',\n",
       "  'review_date': '2023.09.07',\n",
       "  'review_content': '일주일 정도 먹은거 같은데 좋아요..피곤한 느낌이 많이 사라졌네요..\\n맛은 뭐 그냥 물과 함께 삼키면 끝이고요...',\n",
       "  'review_star': '5',\n",
       "  'review_writer': '이*철 '},\n",
       " {'_id': ObjectId('6512a329f82160e0ae9e7524'),\n",
       "  'product_name': '[조아제약] 블랙마카 마스터클래스 아르기닌 야관문 흑마늘 활력강화, 60정, 810mg, 3박스',\n",
       "  'review_date': '2023.08.05',\n",
       "  'review_content': '복용한지 얼마되지않았지만 피로회복 활력증강에 좋은것 같아요',\n",
       "  'review_star': '5',\n",
       "  'review_writer': '김*운 '}]"
      ]
     },
     "execution_count": 7,
     "metadata": {},
     "output_type": "execute_result"
    }
   ],
   "source": [
    "recovery_coupang[:2]"
   ]
  },
  {
   "cell_type": "code",
   "execution_count": 8,
   "id": "fd1f5834-be05-4f3e-8cf9-2b9281dc4320",
   "metadata": {
    "tags": []
   },
   "outputs": [],
   "source": [
    "df_recovery_coupang = pd.DataFrame(recovery_coupang)"
   ]
  },
  {
   "cell_type": "code",
   "execution_count": 9,
   "id": "26f993e3-7bde-40cc-ba95-583bab015138",
   "metadata": {
    "tags": []
   },
   "outputs": [
    {
     "data": {
      "text/html": [
       "<div>\n",
       "<style scoped>\n",
       "    .dataframe tbody tr th:only-of-type {\n",
       "        vertical-align: middle;\n",
       "    }\n",
       "\n",
       "    .dataframe tbody tr th {\n",
       "        vertical-align: top;\n",
       "    }\n",
       "\n",
       "    .dataframe thead th {\n",
       "        text-align: right;\n",
       "    }\n",
       "</style>\n",
       "<table border=\"1\" class=\"dataframe\">\n",
       "  <thead>\n",
       "    <tr style=\"text-align: right;\">\n",
       "      <th></th>\n",
       "      <th>_id</th>\n",
       "      <th>product_name</th>\n",
       "      <th>review_date</th>\n",
       "      <th>review_content</th>\n",
       "      <th>review_star</th>\n",
       "      <th>review_writer</th>\n",
       "    </tr>\n",
       "  </thead>\n",
       "  <tbody>\n",
       "    <tr>\n",
       "      <th>0</th>\n",
       "      <td>6512a329f82160e0ae9e7523</td>\n",
       "      <td>[조아제약] 블랙마카 마스터클래스 아르기닌 야관문 흑마늘 활력강화, 60정, 810...</td>\n",
       "      <td>2023.09.07</td>\n",
       "      <td>일주일 정도 먹은거 같은데 좋아요..피곤한 느낌이 많이 사라졌네요..\\n맛은 뭐 그...</td>\n",
       "      <td>5</td>\n",
       "      <td>이*철</td>\n",
       "    </tr>\n",
       "    <tr>\n",
       "      <th>1</th>\n",
       "      <td>6512a329f82160e0ae9e7524</td>\n",
       "      <td>[조아제약] 블랙마카 마스터클래스 아르기닌 야관문 흑마늘 활력강화, 60정, 810...</td>\n",
       "      <td>2023.08.05</td>\n",
       "      <td>복용한지 얼마되지않았지만 피로회복 활력증강에 좋은것 같아요</td>\n",
       "      <td>5</td>\n",
       "      <td>김*운</td>\n",
       "    </tr>\n",
       "  </tbody>\n",
       "</table>\n",
       "</div>"
      ],
      "text/plain": [
       "                        _id  \\\n",
       "0  6512a329f82160e0ae9e7523   \n",
       "1  6512a329f82160e0ae9e7524   \n",
       "\n",
       "                                        product_name review_date  \\\n",
       "0  [조아제약] 블랙마카 마스터클래스 아르기닌 야관문 흑마늘 활력강화, 60정, 810...  2023.09.07   \n",
       "1  [조아제약] 블랙마카 마스터클래스 아르기닌 야관문 흑마늘 활력강화, 60정, 810...  2023.08.05   \n",
       "\n",
       "                                      review_content review_star review_writer  \n",
       "0  일주일 정도 먹은거 같은데 좋아요..피곤한 느낌이 많이 사라졌네요..\\n맛은 뭐 그...           5          이*철   \n",
       "1                   복용한지 얼마되지않았지만 피로회복 활력증강에 좋은것 같아요           5          김*운   "
      ]
     },
     "execution_count": 9,
     "metadata": {},
     "output_type": "execute_result"
    }
   ],
   "source": [
    "df_recovery_coupang[:2]"
   ]
  },
  {
   "cell_type": "code",
   "execution_count": 10,
   "id": "824a1f10-2d86-451d-8d67-6aa633a8a9f3",
   "metadata": {
    "tags": []
   },
   "outputs": [],
   "source": [
    "df_recovery_coupang.to_csv('../datasets/recovery_coupang_raw.csv')"
   ]
  },
  {
   "cell_type": "code",
   "execution_count": 11,
   "id": "0fb7bfe6-6e04-4dba-b4fe-450292e435d7",
   "metadata": {
    "tags": []
   },
   "outputs": [
    {
     "data": {
      "text/plain": [
       "18180"
      ]
     },
     "execution_count": 11,
     "metadata": {},
     "output_type": "execute_result"
    }
   ],
   "source": [
    "len(df_recovery_coupang)"
   ]
  },
  {
   "cell_type": "code",
   "execution_count": 12,
   "id": "6abae7b4-fcd2-42ae-bffa-7f01c76698e6",
   "metadata": {
    "tags": []
   },
   "outputs": [
    {
     "data": {
      "text/plain": [
       "Index(['뉴트리원 르시크릿 에스트로업 포 우먼, 100정, 85g, 1박스',\n",
       "       '조아제약 블랙마카 M클래스 / 아르기닌 아연 야관문 흑마늘 홍삼 녹용 칼슘, 3개, 60정, 60정',\n",
       "       '뉴트리원 루테인 지아잔틴 164 알티지 오메가3, 100정, 1개', '대웅제약 우루샷 멀티비타민, 20정, 1개',\n",
       "       '하루1팩 데일리밸런스원 rTG오메가3+밀크씨슬+루테인을 한번에, 23.475g, 2박스',\n",
       "       '대웅제약 우루샷 피로회복 멀티 비타민 UDCA 포함, 30정, 1개',\n",
       "       '[조아제약] 블랙마카 마스터클래스 아르기닌 야관문 흑마늘 활력강화, 60정, 810mg, 3박스',\n",
       "       '내츄럴플러스 아연 50, 90정, 1개', '일양약품 굿모닝 간건강 밀크씨슬 24g, 30정, 3개',\n",
       "       '하루웰빙 L아르기닌 L에너르기닌 5800mg 고함량 아르지닌 엘아르기닌 BCAA 부스터, 20g, 1개',\n",
       "       ...\n",
       "       '나우푸드 글루텐 다이제스트 베지 캡슐 비건, 60정, 3개', '나우푸드 소이 이소플라본 베지 캡슐, 60개입, 1개',\n",
       "       '얼라이브 원스데일리 멀티 비타민 + 밀크씨슬 42.8g, 60정, 3개',\n",
       "       '세노비스 Advanced 트리플러스 멀티비타민, 100정, 3개',\n",
       "       'JW중외제약 활력 비타민b 밀크씨슬 테아닌 고함량비타민b군 복합비타민B군 컴플렉스 수용성 60정 B1 B2 B6 B12 나이아신 판토텐산 비오틴 엽산, 3개',\n",
       "       'JW중외제약 활력 비타민b 밀크씨슬 테아닌 고함량비타민b군 복합비타민B군 컴플렉스 수용성 60정 B1 B2 B6 B12 나이아신 판토텐산 비오틴 엽산, 4개',\n",
       "       '홀리데이즈 밀크씨슬 선물세트 6개월분, 90정, 2개입',\n",
       "       '홀리데이즈 남성맞춤 필수영양 멀티비타민&미네랄 포맨, 90정, 4개',\n",
       "       '나우푸드 글루텐 다이제스트 베지 캡슐 비건, 60정, 4개', '애플트리김약사네 눈건강 비타민A, 1개, 135g'],\n",
       "      dtype='object', name='product_name', length=646)"
      ]
     },
     "execution_count": 12,
     "metadata": {},
     "output_type": "execute_result"
    }
   ],
   "source": [
    "df_recovery_coupang['product_name'].value_counts().index"
   ]
  },
  {
   "cell_type": "code",
   "execution_count": 13,
   "id": "932c943f-af65-4c16-8acb-6ed1c86c392d",
   "metadata": {
    "tags": []
   },
   "outputs": [
    {
     "data": {
      "text/plain": [
       "646"
      ]
     },
     "execution_count": 13,
     "metadata": {},
     "output_type": "execute_result"
    }
   ],
   "source": [
    "len(df_recovery_coupang['product_name'].value_counts().index)"
   ]
  },
  {
   "cell_type": "code",
   "execution_count": 14,
   "id": "10b758c0-cfff-40bc-9b18-f02406c25faa",
   "metadata": {
    "tags": []
   },
   "outputs": [
    {
     "data": {
      "text/plain": [
       "_id               0\n",
       "product_name      0\n",
       "review_date       0\n",
       "review_content    0\n",
       "review_star       0\n",
       "review_writer     0\n",
       "dtype: int64"
      ]
     },
     "execution_count": 14,
     "metadata": {},
     "output_type": "execute_result"
    }
   ],
   "source": [
    "df_recovery_coupang.isnull().sum()"
   ]
  },
  {
   "cell_type": "code",
   "execution_count": 15,
   "id": "e2093350-ad75-4f15-85af-b15c9ad3e440",
   "metadata": {
    "tags": []
   },
   "outputs": [],
   "source": [
    "df_recovery_coupang=df_recovery_coupang.dropna() # null값 제거 "
   ]
  },
  {
   "cell_type": "code",
   "execution_count": 16,
   "id": "ef11e214-bb67-4a52-82e9-47bbce6373f8",
   "metadata": {
    "tags": []
   },
   "outputs": [],
   "source": [
    "df_recovery_coupang= df_recovery_coupang.drop_duplicates() # 중복 제거 "
   ]
  },
  {
   "cell_type": "code",
   "execution_count": 17,
   "id": "f14f6340-d293-428e-92ea-2ee9f7701478",
   "metadata": {
    "tags": []
   },
   "outputs": [
    {
     "data": {
      "text/plain": [
       "18180"
      ]
     },
     "execution_count": 17,
     "metadata": {},
     "output_type": "execute_result"
    }
   ],
   "source": [
    "len(df_recovery_coupang)"
   ]
  },
  {
   "cell_type": "code",
   "execution_count": 18,
   "id": "4a0e7f50-5804-47ff-8c81-99c1b84f955a",
   "metadata": {
    "tags": []
   },
   "outputs": [
    {
     "name": "stdout",
     "output_type": "stream",
     "text": [
      "<class 'pandas.core.frame.DataFrame'>\n",
      "RangeIndex: 18180 entries, 0 to 18179\n",
      "Data columns (total 6 columns):\n",
      " #   Column          Non-Null Count  Dtype \n",
      "---  ------          --------------  ----- \n",
      " 0   _id             18180 non-null  object\n",
      " 1   product_name    18180 non-null  object\n",
      " 2   review_date     18180 non-null  object\n",
      " 3   review_content  18180 non-null  object\n",
      " 4   review_star     18180 non-null  object\n",
      " 5   review_writer   18180 non-null  object\n",
      "dtypes: object(6)\n",
      "memory usage: 852.3+ KB\n"
     ]
    }
   ],
   "source": [
    "df_recovery_coupang.info()"
   ]
  },
  {
   "cell_type": "code",
   "execution_count": 19,
   "id": "5287bf3f-b93a-4186-ae1d-de349ad8eebe",
   "metadata": {
    "tags": []
   },
   "outputs": [],
   "source": [
    "# null 제거함, 중복 제거함\n",
    "df_recovery_coupang.to_csv('../datasets/recovery_coupang.csv')"
   ]
  },
  {
   "cell_type": "markdown",
   "id": "c5d82201-b4f2-40c0-988c-ea0a68b4c2ad",
   "metadata": {
    "tags": []
   },
   "source": [
    "### recovery product_11번가 "
   ]
  },
  {
   "cell_type": "code",
   "execution_count": 20,
   "id": "a57306bb-f299-4763-95af-d03936e16c3c",
   "metadata": {
    "tags": []
   },
   "outputs": [],
   "source": [
    "collection_elev = database['recovery_elevenstreet_review']"
   ]
  },
  {
   "cell_type": "code",
   "execution_count": 21,
   "id": "094b52a4-2762-4871-a856-761fbd6f7def",
   "metadata": {
    "tags": []
   },
   "outputs": [],
   "source": [
    "cursor_elev = collection_elev.find({})"
   ]
  },
  {
   "cell_type": "code",
   "execution_count": 22,
   "id": "fff8a816-430a-408c-a838-5aaa020b77ea",
   "metadata": {
    "tags": []
   },
   "outputs": [],
   "source": [
    "recovery_eleven=list(cursor_elev)"
   ]
  },
  {
   "cell_type": "code",
   "execution_count": 23,
   "id": "ec1e4e90-b157-44bc-bea4-6b428bf76126",
   "metadata": {
    "tags": []
   },
   "outputs": [
    {
     "data": {
      "text/plain": [
       "[{'_id': ObjectId('6511605641ecef914dbd1612'),\n",
       "  'product_name': '브리오 비타민B 컴플렉스 맥스 / 고함량 비타민B군 피로회복제 종합영양제 / 비오틴 엽산 판토텐산 B12',\n",
       "  'review_content': '유통기한 기한이 넉넉해요 포장상태 포장이 깔끔해요 효과 보통이에요\\n가격이 비싸지만 좋을거같아서 구매했어요\\n상세보기\\n판매자 답글\\n판매자\\n2023.09.18\\n안녕하세요 고객님^^\\n브리오 제품을 구매해주셔서 대단히 감사합니다. ^^ \\n브리오 제품 드시고 고객님 건강에 많은 도움이 되셨으면 좋겠습니다. \\n문의사항 있으시면 언제든지 연락주세요. ^^감사합니다. ^^ -(주)브리오 올림-\\n더보기',\n",
       "  'review_date': '2023.09.17',\n",
       "  'review_star': '4',\n",
       "  'review_writer': 'rfn0**'},\n",
       " {'_id': ObjectId('6511605641ecef914dbd1613'),\n",
       "  'product_name': '브리오 비타민B 컴플렉스 맥스 / 고함량 비타민B군 피로회복제 종합영양제 / 비오틴 엽산 판토텐산 B12',\n",
       "  'review_content': '배송 빨라요 성능 성능이 뛰어나요 유통기한 기한이 넉넉해요\\n브리오비타민 피로 회복에 좋다고 들었습니다 이번에 처음으로 구매해 보는데 효과가 있으면 장기 복용 해 보려고 생각합니다 그리고 사은품으로 주신 치약 너무 고맙고요\\n상세보기\\n상세보기\\n상세보기',\n",
       "  'review_date': '2021.09.16',\n",
       "  'review_star': '5',\n",
       "  'review_writer': '다아라'}]"
      ]
     },
     "execution_count": 23,
     "metadata": {},
     "output_type": "execute_result"
    }
   ],
   "source": [
    "recovery_eleven[:2]"
   ]
  },
  {
   "cell_type": "code",
   "execution_count": 24,
   "id": "ec427769-e846-4148-a974-583a2426bfe9",
   "metadata": {
    "tags": []
   },
   "outputs": [],
   "source": [
    "df_recover_elev=pd.DataFrame(recovery_eleven)"
   ]
  },
  {
   "cell_type": "code",
   "execution_count": 25,
   "id": "e167759f-7991-4773-8542-7acf07648bb3",
   "metadata": {
    "tags": []
   },
   "outputs": [
    {
     "data": {
      "text/plain": [
       "7981"
      ]
     },
     "execution_count": 25,
     "metadata": {},
     "output_type": "execute_result"
    }
   ],
   "source": [
    "len(df_recover_elev)"
   ]
  },
  {
   "cell_type": "code",
   "execution_count": 26,
   "id": "d01db5bd-f53a-4591-9ab3-bbd13e64b489",
   "metadata": {
    "tags": []
   },
   "outputs": [
    {
     "data": {
      "text/plain": [
       "0       False\n",
       "1       False\n",
       "2       False\n",
       "3       False\n",
       "4       False\n",
       "        ...  \n",
       "7976    False\n",
       "7977    False\n",
       "7978    False\n",
       "7979    False\n",
       "7980    False\n",
       "Length: 7981, dtype: bool"
      ]
     },
     "execution_count": 26,
     "metadata": {},
     "output_type": "execute_result"
    }
   ],
   "source": [
    "df_recover_elev.duplicated()"
   ]
  },
  {
   "cell_type": "code",
   "execution_count": 27,
   "id": "66278e51-91a4-430b-9e63-243fa0a3508d",
   "metadata": {
    "tags": []
   },
   "outputs": [],
   "source": [
    "df_recover_elev.to_csv('../datasets/recovery_eleven_raw.csv')"
   ]
  },
  {
   "cell_type": "code",
   "execution_count": 28,
   "id": "1602733e-a558-408b-91f1-f7b15e433d24",
   "metadata": {
    "tags": []
   },
   "outputs": [
    {
     "data": {
      "text/plain": [
       "_id               0\n",
       "product_name      0\n",
       "review_content    0\n",
       "review_date       0\n",
       "review_star       0\n",
       "review_writer     0\n",
       "dtype: int64"
      ]
     },
     "execution_count": 28,
     "metadata": {},
     "output_type": "execute_result"
    }
   ],
   "source": [
    "df_recover_elev.isnull().sum() "
   ]
  },
  {
   "cell_type": "code",
   "execution_count": 29,
   "id": "00f426d7-08cd-44e5-a3e8-a326d345eefa",
   "metadata": {
    "tags": []
   },
   "outputs": [],
   "source": [
    "df_recover_elev=df_recover_elev.drop_duplicates() # 중복 제거"
   ]
  },
  {
   "cell_type": "code",
   "execution_count": 30,
   "id": "56be9f0a-d410-4ab5-a6f6-bb8aa3ea38c2",
   "metadata": {},
   "outputs": [
    {
     "data": {
      "text/plain": [
       "7981"
      ]
     },
     "execution_count": 30,
     "metadata": {},
     "output_type": "execute_result"
    }
   ],
   "source": [
    "len(df_recover_elev)"
   ]
  },
  {
   "cell_type": "code",
   "execution_count": 31,
   "id": "8b441134-e769-426b-8a94-28e798c09069",
   "metadata": {
    "tags": []
   },
   "outputs": [],
   "source": [
    "# null 제거함, 중복 제거함\n",
    "df_recover_elev.to_csv('../datasets/recovery_eleven.csv')"
   ]
  }
 ],
 "metadata": {
  "kernelspec": {
   "display_name": "Python 3 (ipykernel)",
   "language": "python",
   "name": "python3"
  },
  "language_info": {
   "codemirror_mode": {
    "name": "ipython",
    "version": 3
   },
   "file_extension": ".py",
   "mimetype": "text/x-python",
   "name": "python",
   "nbconvert_exporter": "python",
   "pygments_lexer": "ipython3",
   "version": "3.11.3"
  }
 },
 "nbformat": 4,
 "nbformat_minor": 5
}
