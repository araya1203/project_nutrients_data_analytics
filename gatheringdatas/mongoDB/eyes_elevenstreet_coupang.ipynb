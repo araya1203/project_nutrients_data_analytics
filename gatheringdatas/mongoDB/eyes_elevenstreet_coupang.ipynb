{
 "cells": [
  {
   "cell_type": "markdown",
   "id": "e2b9967a-3e59-40c7-b70b-ec8406ca9f89",
   "metadata": {},
   "source": [
    "## eyes product\n",
    "- 11번가, 쿠팡"
   ]
  },
  {
   "cell_type": "markdown",
   "id": "7ff1656b-9a82-41a9-9ddb-11d406f36a56",
   "metadata": {
    "tags": []
   },
   "source": [
    "### eyes product_쿠팡"
   ]
  },
  {
   "cell_type": "code",
   "execution_count": 31,
   "id": "03aa19d5-86ba-43ab-9442-8231ee2159cb",
   "metadata": {
    "tags": []
   },
   "outputs": [],
   "source": [
    "import pymongo as mg\n",
    "import pandas as pd"
   ]
  },
  {
   "cell_type": "code",
   "execution_count": 32,
   "id": "9f0a8bb6-820d-4bd3-a3cc-9bf3f189abea",
   "metadata": {
    "tags": []
   },
   "outputs": [],
   "source": [
    "client = mg.MongoClient(host='mongodb://localhost:27017')"
   ]
  },
  {
   "cell_type": "code",
   "execution_count": 33,
   "id": "636acf47-89b4-4f99-aa6b-adb65402a13d",
   "metadata": {
    "tags": []
   },
   "outputs": [],
   "source": [
    "database = client['project_nutrients']"
   ]
  },
  {
   "cell_type": "code",
   "execution_count": 34,
   "id": "a753d2b1-ca88-4c89-8b8c-265dc6d14849",
   "metadata": {
    "tags": []
   },
   "outputs": [],
   "source": [
    "collection = database['coupang_eyes_review']"
   ]
  },
  {
   "cell_type": "code",
   "execution_count": 35,
   "id": "52eba772-42e0-4b34-8b67-33f88050bda3",
   "metadata": {
    "tags": []
   },
   "outputs": [],
   "source": [
    "cursor = collection.find({})"
   ]
  },
  {
   "cell_type": "code",
   "execution_count": 36,
   "id": "b50ba05f-031a-49f1-b443-5e27a81c9361",
   "metadata": {
    "tags": []
   },
   "outputs": [],
   "source": [
    "coupang_list = list(cursor)"
   ]
  },
  {
   "cell_type": "code",
   "execution_count": 37,
   "id": "34cbd4f1-5497-470d-b409-25fdc3fa87d4",
   "metadata": {
    "tags": []
   },
   "outputs": [
    {
     "data": {
      "text/plain": [
       "[{'_id': ObjectId('65125634cc39635438e0fb0e'),\n",
       "  'product_name': '여에스더 루테인&지아잔틴 눈, 30정, 1개',\n",
       "  'review_date': '2023.06.02',\n",
       "  'review_content': '먹어보니 좋고 몇번더 먹어봐야 알수 있을것 같아요',\n",
       "  'review_star': 5,\n",
       "  'review_writer': '최*정 '},\n",
       " {'_id': ObjectId('65125634cc39635438e0fb0f'),\n",
       "  'product_name': '여에스더 루테인&지아잔틴 눈, 30정, 1개',\n",
       "  'review_date': '2022.11.15',\n",
       "  'review_content': '꾸준하게 재구매 중입니다.\\\\n처음엔 몰랐는데 효과가 있는거 같아요.\\\\n눈이 많이 안좋고 녹내장도 있는데 이걸 먹고부터는 눈통증도 덜하고 좋은거 같아요. 덜 피로한거 같고.',\n",
       "  'review_star': 5,\n",
       "  'review_writer': '정*섭 '}]"
      ]
     },
     "execution_count": 37,
     "metadata": {},
     "output_type": "execute_result"
    }
   ],
   "source": [
    "coupang_list[:2]"
   ]
  },
  {
   "cell_type": "code",
   "execution_count": 38,
   "id": "fd1f5834-be05-4f3e-8cf9-2b9281dc4320",
   "metadata": {
    "tags": []
   },
   "outputs": [],
   "source": [
    "df_eyes_coupang = pd.DataFrame(coupang_list)"
   ]
  },
  {
   "cell_type": "code",
   "execution_count": 39,
   "id": "26f993e3-7bde-40cc-ba95-583bab015138",
   "metadata": {
    "tags": []
   },
   "outputs": [
    {
     "data": {
      "text/html": [
       "<div>\n",
       "<style scoped>\n",
       "    .dataframe tbody tr th:only-of-type {\n",
       "        vertical-align: middle;\n",
       "    }\n",
       "\n",
       "    .dataframe tbody tr th {\n",
       "        vertical-align: top;\n",
       "    }\n",
       "\n",
       "    .dataframe thead th {\n",
       "        text-align: right;\n",
       "    }\n",
       "</style>\n",
       "<table border=\"1\" class=\"dataframe\">\n",
       "  <thead>\n",
       "    <tr style=\"text-align: right;\">\n",
       "      <th></th>\n",
       "      <th>_id</th>\n",
       "      <th>product_name</th>\n",
       "      <th>review_date</th>\n",
       "      <th>review_content</th>\n",
       "      <th>review_star</th>\n",
       "      <th>review_writer</th>\n",
       "    </tr>\n",
       "  </thead>\n",
       "  <tbody>\n",
       "    <tr>\n",
       "      <th>0</th>\n",
       "      <td>65125634cc39635438e0fb0e</td>\n",
       "      <td>여에스더 루테인&amp;지아잔틴 눈, 30정, 1개</td>\n",
       "      <td>2023.06.02</td>\n",
       "      <td>먹어보니 좋고 몇번더 먹어봐야 알수 있을것 같아요</td>\n",
       "      <td>5.0</td>\n",
       "      <td>최*정</td>\n",
       "    </tr>\n",
       "    <tr>\n",
       "      <th>1</th>\n",
       "      <td>65125634cc39635438e0fb0f</td>\n",
       "      <td>여에스더 루테인&amp;지아잔틴 눈, 30정, 1개</td>\n",
       "      <td>2022.11.15</td>\n",
       "      <td>꾸준하게 재구매 중입니다.\\n처음엔 몰랐는데 효과가 있는거 같아요.\\n눈이 많이 안...</td>\n",
       "      <td>5.0</td>\n",
       "      <td>정*섭</td>\n",
       "    </tr>\n",
       "  </tbody>\n",
       "</table>\n",
       "</div>"
      ],
      "text/plain": [
       "                        _id              product_name review_date  \\\n",
       "0  65125634cc39635438e0fb0e  여에스더 루테인&지아잔틴 눈, 30정, 1개  2023.06.02   \n",
       "1  65125634cc39635438e0fb0f  여에스더 루테인&지아잔틴 눈, 30정, 1개  2022.11.15   \n",
       "\n",
       "                                      review_content  review_star  \\\n",
       "0                        먹어보니 좋고 몇번더 먹어봐야 알수 있을것 같아요          5.0   \n",
       "1  꾸준하게 재구매 중입니다.\\n처음엔 몰랐는데 효과가 있는거 같아요.\\n눈이 많이 안...          5.0   \n",
       "\n",
       "  review_writer  \n",
       "0          최*정   \n",
       "1          정*섭   "
      ]
     },
     "execution_count": 39,
     "metadata": {},
     "output_type": "execute_result"
    }
   ],
   "source": [
    "df_eyes_coupang[:2]"
   ]
  },
  {
   "cell_type": "code",
   "execution_count": 40,
   "id": "824a1f10-2d86-451d-8d67-6aa633a8a9f3",
   "metadata": {
    "tags": []
   },
   "outputs": [],
   "source": [
    "df_eyes_coupang.to_csv('../datasets/eyes_coupang_raw.csv')"
   ]
  },
  {
   "cell_type": "code",
   "execution_count": 41,
   "id": "0fb7bfe6-6e04-4dba-b4fe-450292e435d7",
   "metadata": {
    "tags": []
   },
   "outputs": [
    {
     "data": {
      "text/plain": [
       "3600"
      ]
     },
     "execution_count": 41,
     "metadata": {},
     "output_type": "execute_result"
    }
   ],
   "source": [
    "len(df_eyes_coupang)"
   ]
  },
  {
   "cell_type": "code",
   "execution_count": 42,
   "id": "6abae7b4-fcd2-42ae-bffa-7f01c76698e6",
   "metadata": {
    "tags": []
   },
   "outputs": [
    {
     "data": {
      "text/plain": [
       "Index(['헬리움 눈 건강 노화 케어 초소형 캡슐 루테인 미니 플러스 최대 함량 마리골드꽃추출물 식약처 인정 건강기능식품, 1개, 180캡슐',\n",
       "       '여에스더 루테인&지아잔틴 눈, 30정, 3개, 30정', '네이처부스터 차즈기 추출물 루테올린 차조기 자소엽, 60정, 1개',\n",
       "       '여에스더 루테인&지아잔틴 눈, 30정, 1개', '여에스더 루테인&지아잔틴 눈, 30정, 4개',\n",
       "       'JW중외제약 루테인 지아잔틴 오메가3, 3개, 30정, 30정',\n",
       "       '뉴트리원 루테인 지아잔틴 아스타잔틴 164 AX 눈 피로 눈 집중 토탈케어 활력환 기획세트, 1개, 30정',\n",
       "       'JW중외제약 리얼메디 루테인지아잔틴 아스타잔틴 지아잔틴 루테인 눈건강 눈영양제 헤마토코쿠스, 30정, 3개',\n",
       "       '아이클리어 루테인 지아잔틴 오메가3 36g, 60정, 3개', '아이클리어 루테인 구미 60p, 240g, 1개',\n",
       "       ...\n",
       "       '종근당건강 눈에 좋은 아이팜 루테인, 90정, 2개',\n",
       "       '유한양행 루테인 지아잔틴 복합추출물 눈 건강 영양제 120캡슐, 60정, 2개',\n",
       "       '뉴트리원 루테인 지아잔틴 알티지오메가3 164 눈 건조 노화 혈행개선 활력환 기획세트, 3개, 30정',\n",
       "       '뉴트리디데이 프리미엄 루테인 지아잔틴12 영양제, 2개, 30캡슐',\n",
       "       '종근당 아이클리어 루테인 지아잔틴 누테인 눈노화 눈피로 눈침침 눈에좋은 황반 차인표 영양제 종근당 +알약통, 1개월분(인기)',\n",
       "       '닥터스베스트 루테인 20mg 소프트젤, 180정, 2개', '스완슨 루테인 소프트젤, 100정, 2개',\n",
       "       '더리얼 베타카로틴 루테인 630mg, 90정, 2개', 'JW중외제약 루테인 지아잔틴 오메가3, 30정, 9개',\n",
       "       '국제약품 오큐테인3 120캡슐 루테인 지아잔틴, 120정, 3개'],\n",
       "      dtype='object', length=173)"
      ]
     },
     "execution_count": 42,
     "metadata": {},
     "output_type": "execute_result"
    }
   ],
   "source": [
    "df_eyes_coupang['product_name'].value_counts().index"
   ]
  },
  {
   "cell_type": "code",
   "execution_count": 43,
   "id": "932c943f-af65-4c16-8acb-6ed1c86c392d",
   "metadata": {
    "tags": []
   },
   "outputs": [
    {
     "data": {
      "text/plain": [
       "173"
      ]
     },
     "execution_count": 43,
     "metadata": {},
     "output_type": "execute_result"
    }
   ],
   "source": [
    "len(df_eyes_coupang['product_name'].value_counts().index)"
   ]
  },
  {
   "cell_type": "code",
   "execution_count": 44,
   "id": "10b758c0-cfff-40bc-9b18-f02406c25faa",
   "metadata": {
    "tags": []
   },
   "outputs": [
    {
     "data": {
      "text/plain": [
       "_id                  0\n",
       "product_name         4\n",
       "review_date          4\n",
       "review_content    1610\n",
       "review_star          4\n",
       "review_writer        4\n",
       "dtype: int64"
      ]
     },
     "execution_count": 44,
     "metadata": {},
     "output_type": "execute_result"
    }
   ],
   "source": [
    "df_eyes_coupang.isnull().sum()"
   ]
  },
  {
   "cell_type": "code",
   "execution_count": 45,
   "id": "e2093350-ad75-4f15-85af-b15c9ad3e440",
   "metadata": {
    "tags": []
   },
   "outputs": [],
   "source": [
    "df_eyes_coupang=df_eyes_coupang.dropna() # null값 제거 "
   ]
  },
  {
   "cell_type": "code",
   "execution_count": 46,
   "id": "ef11e214-bb67-4a52-82e9-47bbce6373f8",
   "metadata": {
    "tags": []
   },
   "outputs": [],
   "source": [
    "df_eyes_coup= df_eyes_coupang.drop_duplicates() # 중복 제거 "
   ]
  },
  {
   "cell_type": "code",
   "execution_count": 47,
   "id": "4a0e7f50-5804-47ff-8c81-99c1b84f955a",
   "metadata": {
    "tags": []
   },
   "outputs": [
    {
     "name": "stdout",
     "output_type": "stream",
     "text": [
      "<class 'pandas.core.frame.DataFrame'>\n",
      "Int64Index: 1990 entries, 0 to 3555\n",
      "Data columns (total 6 columns):\n",
      " #   Column          Non-Null Count  Dtype  \n",
      "---  ------          --------------  -----  \n",
      " 0   _id             1990 non-null   object \n",
      " 1   product_name    1990 non-null   object \n",
      " 2   review_date     1990 non-null   object \n",
      " 3   review_content  1990 non-null   object \n",
      " 4   review_star     1990 non-null   float64\n",
      " 5   review_writer   1990 non-null   object \n",
      "dtypes: float64(1), object(5)\n",
      "memory usage: 108.8+ KB\n"
     ]
    }
   ],
   "source": [
    "df_eyes_coup.info()"
   ]
  },
  {
   "cell_type": "code",
   "execution_count": 48,
   "id": "5287bf3f-b93a-4186-ae1d-de349ad8eebe",
   "metadata": {
    "tags": []
   },
   "outputs": [],
   "source": [
    "# null 제거함, 중복 제거함\n",
    "df_eyes_coup.to_csv('../datasets/eyes_coupang.csv')"
   ]
  },
  {
   "cell_type": "markdown",
   "id": "c5d82201-b4f2-40c0-988c-ea0a68b4c2ad",
   "metadata": {
    "tags": []
   },
   "source": [
    "### eyes product_11번가 "
   ]
  },
  {
   "cell_type": "code",
   "execution_count": 49,
   "id": "a57306bb-f299-4763-95af-d03936e16c3c",
   "metadata": {
    "tags": []
   },
   "outputs": [],
   "source": [
    "collection_elev = database['eyes_review']"
   ]
  },
  {
   "cell_type": "code",
   "execution_count": 50,
   "id": "094b52a4-2762-4871-a856-761fbd6f7def",
   "metadata": {
    "tags": []
   },
   "outputs": [],
   "source": [
    "cursor_elev = collection_elev.find({})"
   ]
  },
  {
   "cell_type": "code",
   "execution_count": 51,
   "id": "fff8a816-430a-408c-a838-5aaa020b77ea",
   "metadata": {
    "tags": []
   },
   "outputs": [],
   "source": [
    "eyes_eleven=list(cursor_elev)"
   ]
  },
  {
   "cell_type": "code",
   "execution_count": 52,
   "id": "ec1e4e90-b157-44bc-bea4-6b428bf76126",
   "metadata": {
    "tags": []
   },
   "outputs": [
    {
     "data": {
      "text/plain": [
       "[{'_id': ObjectId('650e68ca550ffe54a57b9b66'),\n",
       "  'product_name': '종근당건강 아이케어 오메가3 6개월분 비타민A 비타민E 혈행 중성지질 개선 항산화 눈영양제 눈건강',\n",
       "  'review_content': '배송 빨라요 유통기한 기한이 넉넉해요\\n아직 복용을 안했지만 종근당꺼면 틀림없이 효과 좋을 꺼에요 잘 먹고 건강 챙길께요 근데 배송이 문제에요 한층에 현관문이 둘인데 옆지앞에다 쾅 소리가 나게 던지고 갔네요 얼마나 힘들었음 그랬을까 생각하려해도 그건 너무한거 같아요 다른 상품이랑 2박스가 나뒹그러 있었네요\\n상세보기',\n",
       "  'review_date': '2018.09.12',\n",
       "  'review_star': '5',\n",
       "  'review_writer': 'tofe*****'},\n",
       " {'_id': ObjectId('650e68ca550ffe54a57b9b67'),\n",
       "  'product_name': '종근당건강 아이케어 오메가3 6개월분 비타민A 비타민E 혈행 중성지질 개선 항산화 눈영양제 눈건강',\n",
       "  'review_content': '유통기한 기한이 넉넉해요 포장상태 포장이 깔끔해요 효과 효과 좋아요\\n어머님이 효과도 좋다고 하시네요 꾸준히 복용하고 괜찮아 재구매 했어요 배송도 빠르고 포장도 꼼꼼히 잘되어있어 있어요\\n상세보기\\n상세보기\\n상세보기',\n",
       "  'review_date': '2023.08.17',\n",
       "  'review_star': '5',\n",
       "  'review_writer': 'kwon****'}]"
      ]
     },
     "execution_count": 52,
     "metadata": {},
     "output_type": "execute_result"
    }
   ],
   "source": [
    "eyes_eleven[:2]"
   ]
  },
  {
   "cell_type": "code",
   "execution_count": 53,
   "id": "ec427769-e846-4148-a974-583a2426bfe9",
   "metadata": {
    "tags": []
   },
   "outputs": [],
   "source": [
    "df_eyes_elev=pd.DataFrame(eyes_eleven)"
   ]
  },
  {
   "cell_type": "code",
   "execution_count": 54,
   "id": "e167759f-7991-4773-8542-7acf07648bb3",
   "metadata": {
    "tags": []
   },
   "outputs": [
    {
     "data": {
      "text/plain": [
       "65019"
      ]
     },
     "execution_count": 54,
     "metadata": {},
     "output_type": "execute_result"
    }
   ],
   "source": [
    "len(df_eyes_elev)"
   ]
  },
  {
   "cell_type": "code",
   "execution_count": 55,
   "id": "66278e51-91a4-430b-9e63-243fa0a3508d",
   "metadata": {
    "tags": []
   },
   "outputs": [],
   "source": [
    "df_eyes_elev.to_csv('../datasets/eyes_eleven_raw.csv')"
   ]
  },
  {
   "cell_type": "code",
   "execution_count": 56,
   "id": "1602733e-a558-408b-91f1-f7b15e433d24",
   "metadata": {
    "tags": []
   },
   "outputs": [
    {
     "data": {
      "text/plain": [
       "_id               0\n",
       "product_name      0\n",
       "review_content    0\n",
       "review_date       0\n",
       "review_star       0\n",
       "review_writer     0\n",
       "dtype: int64"
      ]
     },
     "execution_count": 56,
     "metadata": {},
     "output_type": "execute_result"
    }
   ],
   "source": [
    "df_eyes_elev.isnull().sum() "
   ]
  },
  {
   "cell_type": "code",
   "execution_count": 57,
   "id": "00f426d7-08cd-44e5-a3e8-a326d345eefa",
   "metadata": {
    "tags": []
   },
   "outputs": [],
   "source": [
    "df_eyes_elev=df_eyes_elev.drop_duplicates() # 중복 제거"
   ]
  },
  {
   "cell_type": "code",
   "execution_count": 58,
   "id": "8b441134-e769-426b-8a94-28e798c09069",
   "metadata": {
    "tags": []
   },
   "outputs": [],
   "source": [
    "# null 제거함, 중복 제거함\n",
    "df_eyes_elev.to_csv('../datasets/eyes_eleven.csv')"
   ]
  },
  {
   "cell_type": "code",
   "execution_count": null,
   "id": "746f1b89-c0b7-4d8b-bd71-d8e292f9ca3a",
   "metadata": {},
   "outputs": [],
   "source": []
  }
 ],
 "metadata": {
  "kernelspec": {
   "display_name": "Python 3 (ipykernel)",
   "language": "python",
   "name": "python3"
  },
  "language_info": {
   "codemirror_mode": {
    "name": "ipython",
    "version": 3
   },
   "file_extension": ".py",
   "mimetype": "text/x-python",
   "name": "python",
   "nbconvert_exporter": "python",
   "pygments_lexer": "ipython3",
   "version": "3.11.3"
  }
 },
 "nbformat": 4,
 "nbformat_minor": 5
}
