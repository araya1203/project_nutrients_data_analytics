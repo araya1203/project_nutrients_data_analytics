{
 "cells": [
  {
   "cell_type": "code",
   "execution_count": 1,
   "id": "773223ed-f8f0-4bdf-bb02-db600aab20af",
   "metadata": {
    "tags": []
   },
   "outputs": [],
   "source": [
    "from selenium import webdriver\n",
    "from selenium.webdriver.common.by import By\n",
    "from selenium.webdriver.support.ui import WebDriverWait\n",
    "from selenium.webdriver.support import expected_conditions as EC\n",
    "from selenium.webdriver.chrome.options import Options\n",
    "import subprocess\n",
    "import shutil\n",
    "import time\n",
    "import pandas as pd\n",
    "import pymongo as mg"
   ]
  },
  {
   "cell_type": "code",
   "execution_count": 2,
   "id": "3f927bbb-fde3-4f9b-91f9-d164e77de5e4",
   "metadata": {
    "tags": []
   },
   "outputs": [],
   "source": [
    "# MongoDB 연결\n",
    "client = mg.MongoClient(host='mongodb://localhost:27017')\n",
    "database = client['project_nutrients']\n",
    "collection = database['11st_corelsterolsupplement_review']"
   ]
  },
  {
   "cell_type": "code",
   "execution_count": 3,
   "id": "5296bcd4-0e2b-4164-bb35-d64fa26785dc",
   "metadata": {
    "tags": []
   },
   "outputs": [],
   "source": [
    "# Chrome 웹 드라이버 설정\n",
    "subprocess.Popen(r'C:\\Program Files\\Google\\Chrome\\Application\\chrome.exe --remote-debugging-port=9222 --user-data-dir=\"C:\\chrometemp\"')\n",
    "options = webdriver.ChromeOptions()\n",
    "options.add_experimental_option(\"debuggerAddress\", \"127.0.0.1:9222\")"
   ]
  },
  {
   "cell_type": "code",
   "execution_count": 4,
   "id": "79b8c466-1b9d-4985-b3ba-39fc492e7ee3",
   "metadata": {
    "tags": []
   },
   "outputs": [],
   "source": [
    "# open chrome browser\n",
    "browser = webdriver.Chrome(executable_path='C:/Users/04-02/Develops/chromedriver.exe', options=options)\n",
    "browser.set_window_size(1560,2000)"
   ]
  },
  {
   "cell_type": "code",
   "execution_count": 5,
   "id": "610e7ac9-c48e-4e74-b9b6-8abf31239c88",
   "metadata": {
    "tags": []
   },
   "outputs": [],
   "source": [
    "# url in address window 리뷰 많은 순/ 영양제별 검색어 변경하기  \n",
    "browser.get('https://search.11st.co.kr/pc/total-search?kwd=%25EC%25BD%259C%25EB%25A0%2588%25EC%258A%25A4%25ED%2585%258C%25EB%25A1%25A4%2520%25EC%2598%2581%25EC%2596%2591%25EC%25A0%259C&fromACK=recent&tabId=TOTAL_SEARCH&sortCd=I&pageNo=1')\n",
    "browser.implicitly_wait(10)"
   ]
  },
  {
   "cell_type": "code",
   "execution_count": 6,
   "id": "0a6bff18-f6c4-41ad-8a61-935d77b70480",
   "metadata": {
    "tags": []
   },
   "outputs": [],
   "source": [
    "# pagination 하기\n",
    "## 리뷰건수 확인 \n",
    "product_total = browser.find_element_by_css_selector('div.search_content > div > p > span')\n",
    "product_total_str = product_total.text\n",
    "product_total_del = product_total_str.replace(',', '')\n",
    "product_total_count = int(product_total_del)"
   ]
  },
  {
   "cell_type": "code",
   "execution_count": 7,
   "id": "5d8923ab-a850-4380-a54f-397729f58180",
   "metadata": {
    "tags": []
   },
   "outputs": [
    {
     "name": "stdout",
     "output_type": "stream",
     "text": [
      "6291\n"
     ]
    }
   ],
   "source": [
    "print(product_total_count) \n",
    "\n",
    "# 한 페이지 상품 목록 수\n",
    "product_standard_count_per = 60 "
   ]
  },
  {
   "cell_type": "code",
   "execution_count": 8,
   "id": "b42395fe-95dd-4017-95fe-7a0a4e883749",
   "metadata": {
    "tags": []
   },
   "outputs": [
    {
     "name": "stdout",
     "output_type": "stream",
     "text": [
      "104\n"
     ]
    }
   ],
   "source": [
    "# 상품 총 페이지수\n",
    "loop_count_int = int(product_total_count / product_standard_count_per) \n",
    "print(loop_count_int)  "
   ]
  },
  {
   "cell_type": "code",
   "execution_count": null,
   "id": "25562cf7-f768-4b67-9b23-b4e1c574f50f",
   "metadata": {
    "tags": []
   },
   "outputs": [
    {
     "name": "stdout",
     "output_type": "stream",
     "text": [
      "예외 발생: Message: \n",
      "\n"
     ]
    }
   ],
   "source": [
    "current_page = 1\n",
    "# pagination 버튼을 끝까지 순환하면서 페이지 이동합니다.\n",
    "while current_page <= loop_count_int:\n",
    "    for i in range(1, 61):  # 1부터 60까지 순회합니다.\n",
    "        try:\n",
    "            product_page = f'#section_commonPrd > div.c-search-list > ul > li:nth-child({i}) > div > a'\n",
    "            product = browser.find_element_by_css_selector(product_page)\n",
    "            product.click()\n",
    "            # 새로 열린 창으로 브라우저 컨텍스트를 전환합니다.\n",
    "            browser.switch_to.window(browser.window_handles[-1]) \n",
    "            browser.implicitly_wait(2)\n",
    "          \n",
    "            \n",
    "            try:\n",
    "                product_name = browser.find_element_by_css_selector('#layBodyWrap > div > div.s_product.s_product_detail > div.l_product_cont_wrap > div > div.l_product_view_wrap > div.l_product_summary > div.l_product_side_info > div.c_product_info_title > h1').text\n",
    "            except :\n",
    "                product_name = str()\n",
    "\n",
    "            # product new window / produt name 옆 리뷰 보기클릭->페이지 하단 리뷰로 이동\n",
    "            browser.find_element_by_css_selector('#prdReview > strong').click() \n",
    "            # iframe을 html로 전환시킴. ifram에 name은 'ifrmReview'\n",
    "            browser.switch_to.frame('ifrmReview')\n",
    "         \n",
    "            # 전체 리뷰 펼치기: 리뷰 더보기 button click\n",
    "            while True:\n",
    "                try:\n",
    "                    button = WebDriverWait(browser, 10).until(\n",
    "                        EC.element_to_be_clickable((By.CSS_SELECTOR, '#review-list-page-area > div > button'))\n",
    "                    )\n",
    "                    button.click()\n",
    "                    time.sleep(2)  # 사이트 로딩 대기\n",
    "                except Exception as e:\n",
    "                    print(f'예외 발생: {e}')\n",
    "                    break  # 예외 발생 시 루프를 종료\n",
    "\n",
    "            # 단일 리뷰 펼치기 : 더보기 button click\n",
    "            review_bundle = browser.find_elements_by_css_selector('.review_list_element')\n",
    "            len(review_bundle)\n",
    "\n",
    "            ul_index = 1\n",
    "            li_index = 1\n",
    "\n",
    "            for i in range(1, len(review_bundle)+1):\n",
    "                try:\n",
    "                    time.sleep(1)\n",
    "                    expand_button_css_selector = f'#review-list-page-area > ul:nth-child({ul_index}) > li:nth-child({li_index}) > div > div > div.cont_text_wrap > p.cont_btn.review-expand > button.c_product_btn.c_product_btn_more6.review-expand-open-text' \n",
    "                    expand_button = browser.find_elements_by_css_selector(expand_button_css_selector)\n",
    "\n",
    "                    expand_button[0].click()  # Click the button if it exists \n",
    "                except:\n",
    "                    time.sleep(1)\n",
    "                    pass\n",
    "                    # print('pass')  \n",
    "                if li_index == 10:\n",
    "                    ul_index += 1\n",
    "                    li_index = 1\n",
    "                else:\n",
    "                    li_index += 1 \n",
    "\n",
    "            # 리뷰들 리스트 (제품명,작성자,날짜,별점,내용)< 제품명포함 위에 있어서 같이 가져올 수 있음.\n",
    "            reviews_list = list()\n",
    "            def find_total_reviews():\n",
    "                review_elements = browser.find_elements_by_css_selector('#review-list-page-area dl')\n",
    "                total_reviews = len(review_elements)\n",
    "                return total_reviews\n",
    "\n",
    "            # \"사용 가능한 리뷰의 총 수 찾기\"\n",
    "            total_reviews = find_total_reviews()\n",
    "\n",
    "            # \"ul\"과 \"li\" 요소의 인덱스를 초기화하는 변수 설정\n",
    "            ul_index = 1\n",
    "            li_index = 1\n",
    "\n",
    "            # \"리뷰의 총 수까지 1부터 루프 실행\"\n",
    "            for i in range(1, total_reviews + 1):\n",
    "                # 계산된 인덱스로 CSS 선택자 구성 \n",
    "                css_selector_writer = f'#review-list-page-area > ul:nth-child({ul_index}) > li:nth-child({li_index}) > dl > dt'\n",
    "                css_selector_date = f'#review-list-page-area > ul:nth-child({ul_index}) > li:nth-child({li_index}) > div > p.side > span'\n",
    "                css_selector_star = f'#review-list-page-area > ul:nth-child({ul_index}) > li:nth-child({li_index}) > div > p.grade > span > em'\n",
    "                css_selector_content = f'#review-list-page-area > ul:nth-child({ul_index}) > li:nth-child({li_index}) > div > div'\n",
    "\n",
    "                try:\n",
    "                    try:\n",
    "                        review_writer = browser.find_element_by_css_selector(css_selector_writer).text\n",
    "                    except :\n",
    "                        review_writer = str()\n",
    "                    try:    \n",
    "                        review_date = browser.find_element_by_css_selector(css_selector_date).text\n",
    "                    except :\n",
    "                        review_date = str()\n",
    "                    try:      \n",
    "                        review_star = browser.find_element_by_css_selector(css_selector_star).text\n",
    "                    except :\n",
    "                        review_star = str()\n",
    "                    try:\n",
    "                        review_content = browser.find_element_by_css_selector(css_selector_content).text\n",
    "                    except :\n",
    "                        review_content = str()\n",
    "                    # 리뷰 정보를 딕셔너리로 저장하고 리스트에 추가\n",
    "                    review_list = [product_name, review_writer, review_date, review_star, review_content]\n",
    "                    reviews_list.append(review_list)\n",
    "                except:\n",
    "                    break  \n",
    "\n",
    "                # 패턴을 기반으로 ul과 li 인덱스를 업데이트\n",
    "                if li_index == 10:\n",
    "                    ul_index += 1\n",
    "                    li_index = 1\n",
    "                else:\n",
    "                    li_index += 1\n",
    "\n",
    "\n",
    "            review_columns_name = [\"product_name\", \"review_writer\", \"review_date\", \"review_star\", \"review_content\"]\n",
    "            df_reviews = pd.DataFrame(data=reviews_list, columns=review_columns_name)\n",
    "            data_dict = df_reviews.to_dict(orient='records')\n",
    "            collection.insert_many(data_dict)\n",
    "            print(len(reviews_list))\n",
    "            \n",
    "            # 현재 페이지를 닫습니다.\n",
    "            browser.close()\n",
    "            # 다음 상품을 클릭하기 전에 원래의 창으로 다시 전환합니다.\n",
    "            browser.switch_to.window(browser.window_handles[0])\n",
    "                        \n",
    "        except:\n",
    "            print(f'에러: {i}')\n",
    "            pass\n",
    "    # Pagination 버튼을 클릭합니다.\n",
    "    # 다음 페이지 버튼이 클릭 가능할 때까지 대기 \n",
    "    current_page += 1\n",
    "    wait = WebDriverWait(browser, 3)  \n",
    "    page_button_css = f'#section_commonPrd > nav > ul > li:nth-child({current_page % 10 + 2}) > button'\n",
    "    page_button = browser.find_element_by_css_selector(page_button_css)\n",
    "    page_button.click()\n",
    "    \n",
    "    # 10번째 페이지일 경우 next 버튼 클릭\n",
    "    if current_page % 10 == 0:\n",
    "        next_button = browser.find_element_by_css_selector('#section_commonPrd > nav > ul > li.next > button')\n",
    "        next_button.click()\n"
   ]
  },
  {
   "cell_type": "code",
   "execution_count": null,
   "id": "8777c382-dd3e-450d-8160-df17f977760a",
   "metadata": {},
   "outputs": [],
   "source": []
  }
 ],
 "metadata": {
  "kernelspec": {
   "display_name": "Python 3 (ipykernel)",
   "language": "python",
   "name": "python3"
  },
  "language_info": {
   "codemirror_mode": {
    "name": "ipython",
    "version": 3
   },
   "file_extension": ".py",
   "mimetype": "text/x-python",
   "name": "python",
   "nbconvert_exporter": "python",
   "pygments_lexer": "ipython3",
   "version": "3.11.3"
  }
 },
 "nbformat": 4,
 "nbformat_minor": 5
}
