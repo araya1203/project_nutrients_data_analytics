{
 "cells": [
  {
   "cell_type": "code",
   "execution_count": 1,
   "id": "773223ed-f8f0-4bdf-bb02-db600aab20af",
   "metadata": {
    "tags": []
   },
   "outputs": [],
   "source": [
    "from selenium import webdriver\n",
    "from selenium.webdriver.common.by import By\n",
    "from selenium.webdriver.support.ui import WebDriverWait\n",
    "from selenium.webdriver.support import expected_conditions as EC\n",
    "from selenium.webdriver.chrome.options import Options\n",
    "import subprocess\n",
    "import shutil\n",
    "import time\n",
    "import pandas as pd\n",
    "import pymongo as mg"
   ]
  },
  {
   "cell_type": "code",
   "execution_count": 2,
   "id": "3f927bbb-fde3-4f9b-91f9-d164e77de5e4",
   "metadata": {
    "tags": []
   },
   "outputs": [],
   "source": [
    "# MongoDB 연결\n",
    "client = mg.MongoClient(host='mongodb://localhost:27017')\n",
    "database = client['project_nutrients']\n",
    "collection = database['11st_liversupplement_images']"
   ]
  },
  {
   "cell_type": "code",
   "execution_count": 3,
   "id": "5296bcd4-0e2b-4164-bb35-d64fa26785dc",
   "metadata": {
    "tags": []
   },
   "outputs": [],
   "source": [
    "# Chrome 웹 드라이버 설정\n",
    "subprocess.Popen(r'C:\\Program Files\\Google\\Chrome\\Application\\chrome.exe --remote-debugging-port=9222 --user-data-dir=\"C:\\chrometemp\"')\n",
    "options = webdriver.ChromeOptions()\n",
    "options.add_experimental_option(\"debuggerAddress\", \"127.0.0.1:9222\")"
   ]
  },
  {
   "cell_type": "code",
   "execution_count": 4,
   "id": "79b8c466-1b9d-4985-b3ba-39fc492e7ee3",
   "metadata": {
    "tags": []
   },
   "outputs": [],
   "source": [
    "# open chrome browser\n",
    "browser = webdriver.Chrome(executable_path='C:/Users/04-02/Develops/chromedriver.exe', options=options)\n",
    "browser.set_window_size(1560,2000)"
   ]
  },
  {
   "cell_type": "code",
   "execution_count": 5,
   "id": "610e7ac9-c48e-4e74-b9b6-8abf31239c88",
   "metadata": {
    "tags": []
   },
   "outputs": [],
   "source": [
    "# url in address window 리뷰 많은 순\n",
    "browser.get('https://search.11st.co.kr/pc/total-search?kwd=%25EA%25B0%2584%2520%25EC%2598%2581%25EC%2596%2591%25EC%25A0%259C&tabId=TOTAL_SEARCH&sortCd=I&pageNo=1')\n",
    "browser.implicitly_wait(10)"
   ]
  },
  {
   "cell_type": "code",
   "execution_count": 6,
   "id": "0a6bff18-f6c4-41ad-8a61-935d77b70480",
   "metadata": {
    "tags": []
   },
   "outputs": [],
   "source": [
    "# pagination 하기\n",
    "product_total = browser.find_element_by_css_selector('div.search_content > div > p > span')\n",
    "product_total_str = product_total.text\n",
    "product_total_del = product_total_str.replace(',', '')\n",
    "product_total_count = int(product_total_del)"
   ]
  },
  {
   "cell_type": "code",
   "execution_count": 7,
   "id": "5d8923ab-a850-4380-a54f-397729f58180",
   "metadata": {
    "tags": []
   },
   "outputs": [
    {
     "name": "stdout",
     "output_type": "stream",
     "text": [
      "3504\n"
     ]
    }
   ],
   "source": [
    "print(product_total_count) \n",
    "\n",
    "# 한 페이지 상품 목록 수\n",
    "product_standard_count_per = 60 "
   ]
  },
  {
   "cell_type": "code",
   "execution_count": 8,
   "id": "b42395fe-95dd-4017-95fe-7a0a4e883749",
   "metadata": {
    "tags": []
   },
   "outputs": [
    {
     "name": "stdout",
     "output_type": "stream",
     "text": [
      "58\n"
     ]
    }
   ],
   "source": [
    "# 상품 총 페이지수\n",
    "loop_count_int = int(product_total_count / product_standard_count_per) \n",
    "print(loop_count_int)  "
   ]
  },
  {
   "cell_type": "code",
   "execution_count": 9,
   "id": "70a83bb6-4c52-4e49-aa9e-b5bba86accc5",
   "metadata": {},
   "outputs": [],
   "source": [
    "## 혜인설명: 총 댓글 수를 정규화로 뽑아냄 .\n",
    "# 정규 표현식을 사용하여 숫자 추출 (',' 포함)\n",
    "import re"
   ]
  },
  {
   "cell_type": "code",
   "execution_count": 10,
   "id": "618cd6c4-1c7e-4e5f-85f1-b4c5694984e0",
   "metadata": {},
   "outputs": [],
   "source": [
    "# 상품 이름 (f'#section_commonPrd > div.c-search-list > ul > li:nth-child({i}) > div > div:nth-child(3) > div.c-card-item__info-top > dl > div.c-card-item__name > dd').text \n",
    "# 상품 링크 (f'#section_commonPrd > div.c-search-list > ul > li:nth-child({i}) > div > a').get_attribute('href')\n",
    "# 상품 이미지 (f'#section_commonPrd > div.c-search-list > ul > li:nth-child({i}) > div > div.c-card-item__thumb > span > img').get_attribute('src')\n",
    "# 상품 댓글 총 갯수 (f'#section_commonPrd > div.c-search-list > ul > li:nth-child({i}) > div > div:nth-child(3) > div.c-card-item__info-top > dl > div.c-starrate > dl > dd:nth-child(3) > span > span.value').text"
   ]
  },
  {
   "cell_type": "code",
   "execution_count": 11,
   "id": "33084917-1251-4f59-adcd-8b1b1cd4181d",
   "metadata": {},
   "outputs": [
    {
     "name": "stdout",
     "output_type": "stream",
     "text": [
      "에러: 13\n",
      "에러: 14\n",
      "에러: 15\n",
      "에러: 16\n",
      "에러: 17\n",
      "에러: 18\n",
      "에러: 19\n",
      "에러: 20\n",
      "에러: 21\n",
      "에러: 22\n",
      "에러: 23\n",
      "에러: 24\n",
      "에러: 25\n",
      "에러: 26\n",
      "에러: 27\n",
      "에러: 28\n",
      "에러: 29\n",
      "에러: 30\n",
      "에러: 31\n",
      "에러: 32\n",
      "에러: 33\n",
      "에러: 34\n",
      "에러: 35\n",
      "에러: 36\n",
      "에러: 37\n",
      "에러: 38\n",
      "에러: 39\n",
      "에러: 40\n",
      "에러: 41\n",
      "에러: 42\n",
      "에러: 43\n",
      "에러: 44\n",
      "에러: 45\n",
      "에러: 46\n",
      "에러: 47\n",
      "에러: 48\n",
      "에러: 49\n",
      "에러: 50\n",
      "에러: 51\n",
      "에러: 52\n",
      "에러: 53\n",
      "에러: 54\n",
      "에러: 55\n",
      "에러: 56\n",
      "에러: 57\n",
      "에러: 58\n",
      "에러: 59\n",
      "에러: 60\n"
     ]
    },
    {
     "ename": "NoSuchWindowException",
     "evalue": "Message: no such window: target window already closed\nfrom unknown error: web view not found\n  (Session info: chrome=117.0.5938.150)\n",
     "output_type": "error",
     "traceback": [
      "\u001b[1;31m---------------------------------------------------------------------------\u001b[0m",
      "\u001b[1;31mNoSuchWindowException\u001b[0m                     Traceback (most recent call last)",
      "Cell \u001b[1;32mIn[11], line 45\u001b[0m\n\u001b[0;32m     41\u001b[0m \u001b[38;5;66;03m# Pagination 버튼을 클릭합니다.\u001b[39;00m\n\u001b[0;32m     42\u001b[0m \u001b[38;5;66;03m# 다음 페이지 버튼이 클릭 가능할 때까지 대기 \u001b[39;00m\n\u001b[0;32m     44\u001b[0m page_button_css \u001b[38;5;241m=\u001b[39m \u001b[38;5;124mf\u001b[39m\u001b[38;5;124m'\u001b[39m\u001b[38;5;124m#section_commonPrd > nav > ul > li:nth-child(\u001b[39m\u001b[38;5;132;01m{\u001b[39;00mcurrent_page\u001b[38;5;250m \u001b[39m\u001b[38;5;241m%\u001b[39m\u001b[38;5;250m \u001b[39m\u001b[38;5;241m10\u001b[39m\u001b[38;5;250m \u001b[39m\u001b[38;5;241m+\u001b[39m\u001b[38;5;250m \u001b[39m\u001b[38;5;241m2\u001b[39m\u001b[38;5;132;01m}\u001b[39;00m\u001b[38;5;124m) > button\u001b[39m\u001b[38;5;124m'\u001b[39m\n\u001b[1;32m---> 45\u001b[0m page_button \u001b[38;5;241m=\u001b[39m \u001b[43mbrowser\u001b[49m\u001b[38;5;241;43m.\u001b[39;49m\u001b[43mfind_element_by_css_selector\u001b[49m\u001b[43m(\u001b[49m\u001b[43mpage_button_css\u001b[49m\u001b[43m)\u001b[49m\n\u001b[0;32m     46\u001b[0m page_button\u001b[38;5;241m.\u001b[39mclick()\n\u001b[0;32m     48\u001b[0m \u001b[38;5;66;03m# # 10번째 페이지일 경우 next 버튼 클릭\u001b[39;00m\n",
      "File \u001b[1;32m~\\anaconda3\\Lib\\site-packages\\selenium\\webdriver\\remote\\webdriver.py:598\u001b[0m, in \u001b[0;36mWebDriver.find_element_by_css_selector\u001b[1;34m(self, css_selector)\u001b[0m\n\u001b[0;32m    582\u001b[0m \u001b[38;5;28;01mdef\u001b[39;00m \u001b[38;5;21mfind_element_by_css_selector\u001b[39m(\u001b[38;5;28mself\u001b[39m, css_selector):\n\u001b[0;32m    583\u001b[0m \u001b[38;5;250m    \u001b[39m\u001b[38;5;124;03m\"\"\"\u001b[39;00m\n\u001b[0;32m    584\u001b[0m \u001b[38;5;124;03m    Finds an element by css selector.\u001b[39;00m\n\u001b[0;32m    585\u001b[0m \n\u001b[1;32m   (...)\u001b[0m\n\u001b[0;32m    596\u001b[0m \u001b[38;5;124;03m        element = driver.find_element_by_css_selector('#foo')\u001b[39;00m\n\u001b[0;32m    597\u001b[0m \u001b[38;5;124;03m    \"\"\"\u001b[39;00m\n\u001b[1;32m--> 598\u001b[0m     \u001b[38;5;28;01mreturn\u001b[39;00m \u001b[38;5;28;43mself\u001b[39;49m\u001b[38;5;241;43m.\u001b[39;49m\u001b[43mfind_element\u001b[49m\u001b[43m(\u001b[49m\u001b[43mby\u001b[49m\u001b[38;5;241;43m=\u001b[39;49m\u001b[43mBy\u001b[49m\u001b[38;5;241;43m.\u001b[39;49m\u001b[43mCSS_SELECTOR\u001b[49m\u001b[43m,\u001b[49m\u001b[43m \u001b[49m\u001b[43mvalue\u001b[49m\u001b[38;5;241;43m=\u001b[39;49m\u001b[43mcss_selector\u001b[49m\u001b[43m)\u001b[49m\n",
      "File \u001b[1;32m~\\anaconda3\\Lib\\site-packages\\selenium\\webdriver\\remote\\webdriver.py:976\u001b[0m, in \u001b[0;36mWebDriver.find_element\u001b[1;34m(self, by, value)\u001b[0m\n\u001b[0;32m    974\u001b[0m         by \u001b[38;5;241m=\u001b[39m By\u001b[38;5;241m.\u001b[39mCSS_SELECTOR\n\u001b[0;32m    975\u001b[0m         value \u001b[38;5;241m=\u001b[39m \u001b[38;5;124m'\u001b[39m\u001b[38;5;124m[name=\u001b[39m\u001b[38;5;124m\"\u001b[39m\u001b[38;5;132;01m%s\u001b[39;00m\u001b[38;5;124m\"\u001b[39m\u001b[38;5;124m]\u001b[39m\u001b[38;5;124m'\u001b[39m \u001b[38;5;241m%\u001b[39m value\n\u001b[1;32m--> 976\u001b[0m \u001b[38;5;28;01mreturn\u001b[39;00m \u001b[38;5;28;43mself\u001b[39;49m\u001b[38;5;241;43m.\u001b[39;49m\u001b[43mexecute\u001b[49m\u001b[43m(\u001b[49m\u001b[43mCommand\u001b[49m\u001b[38;5;241;43m.\u001b[39;49m\u001b[43mFIND_ELEMENT\u001b[49m\u001b[43m,\u001b[49m\u001b[43m \u001b[49m\u001b[43m{\u001b[49m\n\u001b[0;32m    977\u001b[0m \u001b[43m    \u001b[49m\u001b[38;5;124;43m'\u001b[39;49m\u001b[38;5;124;43musing\u001b[39;49m\u001b[38;5;124;43m'\u001b[39;49m\u001b[43m:\u001b[49m\u001b[43m \u001b[49m\u001b[43mby\u001b[49m\u001b[43m,\u001b[49m\n\u001b[0;32m    978\u001b[0m \u001b[43m    \u001b[49m\u001b[38;5;124;43m'\u001b[39;49m\u001b[38;5;124;43mvalue\u001b[39;49m\u001b[38;5;124;43m'\u001b[39;49m\u001b[43m:\u001b[49m\u001b[43m \u001b[49m\u001b[43mvalue\u001b[49m\u001b[43m}\u001b[49m\u001b[43m)\u001b[49m[\u001b[38;5;124m'\u001b[39m\u001b[38;5;124mvalue\u001b[39m\u001b[38;5;124m'\u001b[39m]\n",
      "File \u001b[1;32m~\\anaconda3\\Lib\\site-packages\\selenium\\webdriver\\remote\\webdriver.py:321\u001b[0m, in \u001b[0;36mWebDriver.execute\u001b[1;34m(self, driver_command, params)\u001b[0m\n\u001b[0;32m    319\u001b[0m response \u001b[38;5;241m=\u001b[39m \u001b[38;5;28mself\u001b[39m\u001b[38;5;241m.\u001b[39mcommand_executor\u001b[38;5;241m.\u001b[39mexecute(driver_command, params)\n\u001b[0;32m    320\u001b[0m \u001b[38;5;28;01mif\u001b[39;00m response:\n\u001b[1;32m--> 321\u001b[0m     \u001b[38;5;28;43mself\u001b[39;49m\u001b[38;5;241;43m.\u001b[39;49m\u001b[43merror_handler\u001b[49m\u001b[38;5;241;43m.\u001b[39;49m\u001b[43mcheck_response\u001b[49m\u001b[43m(\u001b[49m\u001b[43mresponse\u001b[49m\u001b[43m)\u001b[49m\n\u001b[0;32m    322\u001b[0m     response[\u001b[38;5;124m'\u001b[39m\u001b[38;5;124mvalue\u001b[39m\u001b[38;5;124m'\u001b[39m] \u001b[38;5;241m=\u001b[39m \u001b[38;5;28mself\u001b[39m\u001b[38;5;241m.\u001b[39m_unwrap_value(\n\u001b[0;32m    323\u001b[0m         response\u001b[38;5;241m.\u001b[39mget(\u001b[38;5;124m'\u001b[39m\u001b[38;5;124mvalue\u001b[39m\u001b[38;5;124m'\u001b[39m, \u001b[38;5;28;01mNone\u001b[39;00m))\n\u001b[0;32m    324\u001b[0m     \u001b[38;5;28;01mreturn\u001b[39;00m response\n",
      "File \u001b[1;32m~\\anaconda3\\Lib\\site-packages\\selenium\\webdriver\\remote\\errorhandler.py:242\u001b[0m, in \u001b[0;36mErrorHandler.check_response\u001b[1;34m(self, response)\u001b[0m\n\u001b[0;32m    240\u001b[0m         alert_text \u001b[38;5;241m=\u001b[39m value[\u001b[38;5;124m'\u001b[39m\u001b[38;5;124malert\u001b[39m\u001b[38;5;124m'\u001b[39m]\u001b[38;5;241m.\u001b[39mget(\u001b[38;5;124m'\u001b[39m\u001b[38;5;124mtext\u001b[39m\u001b[38;5;124m'\u001b[39m)\n\u001b[0;32m    241\u001b[0m     \u001b[38;5;28;01mraise\u001b[39;00m exception_class(message, screen, stacktrace, alert_text)\n\u001b[1;32m--> 242\u001b[0m \u001b[38;5;28;01mraise\u001b[39;00m exception_class(message, screen, stacktrace)\n",
      "\u001b[1;31mNoSuchWindowException\u001b[0m: Message: no such window: target window already closed\nfrom unknown error: web view not found\n  (Session info: chrome=117.0.5938.150)\n"
     ]
    }
   ],
   "source": [
    "current_page = 1\n",
    "# 이미지 및 리뷰 데이터를 저장할 리스트 초기화\n",
    "images_links_list = []\n",
    "\n",
    "while current_page <= loop_count_int:\n",
    "    for i in range(1, 61):  # 1부터 60까지 순회합니다.\n",
    "        try:\n",
    "            product_name = browser.find_element_by_css_selector(f'#section_commonPrd > div.c-search-list > ul > li:nth-child({i}) > div > div:nth-child(3) > div.c-card-item__info-top > dl > div.c-card-item__name > dd').text   \n",
    "            product_link = browser.find_element_by_css_selector(f'#section_commonPrd > div.c-search-list > ul > li:nth-child({i}) > div > a').get_attribute('href')\n",
    "            product_image = browser.find_element_by_css_selector(f'#section_commonPrd > div.c-search-list > ul > li:nth-child({i}) > div > div.c-card-item__thumb > span > img').get_attribute('src')\n",
    "\n",
    "            review_total_count_text = browser.find_element_by_css_selector(f'#section_commonPrd > div.c-search-list > ul > li:nth-child({i}) > div > div:nth-child(3) > div.c-card-item__info-top > dl > div.c-starrate > dl > dd:nth-child(3) > span > span.value').text\n",
    "\n",
    "            # 정규 표현식을 사용하여 숫자 추출 (',' 포함)\n",
    "            review_count = re.findall(r'\\d+', review_total_count_text)\n",
    "            \n",
    "            # 추출된 숫자들을 하나의 문자열로 결합하고 ',' 제거\n",
    "            review_count = ''.join(review_count)\n",
    "            \n",
    "            # 문자열을 정수로 변환\n",
    "            review_total_count = int(review_count)  # 리뷰 총 갯수 \n",
    "\n",
    "            # 데이터를 리스트에 추가\n",
    "            image_link_list = [product_name, product_link, product_image]\n",
    "            images_links_list.append(image_link_list)\n",
    "\n",
    "        except:\n",
    "            print(f'에러: {i}')\n",
    "            pass\n",
    "\n",
    "    # MongoDB에 데이터 저장\n",
    "    if images_links_list:\n",
    "        # 데이터프레임 생성\n",
    "        review_columns_name = [\"product_name\", \"product_link\", \"product_image\"]\n",
    "        df_images = pd.DataFrame(data=images_links_list, columns=review_columns_name)\n",
    "\n",
    "        # MongoDB에 데이터 저장\n",
    "        data_dict = df_images.to_dict(orient='records')\n",
    "        collection.insert_many(data_dict)\n",
    "\n",
    "    # Pagination 버튼을 클릭합니다.\n",
    "    # 다음 페이지 버튼이 클릭 가능할 때까지 대기 \n",
    "\n",
    "    page_button_css = f'#section_commonPrd > nav > ul > li:nth-child({current_page % 10 + 2}) > button'\n",
    "    page_button = browser.find_element_by_css_selector(page_button_css)\n",
    "    page_button.click()\n",
    "\n",
    "    # # 10번째 페이지일 경우 next 버튼 클릭\n",
    "    if current_page % 10 == 0:\n",
    "        next_button = browser.find_element_by_css_selector('#section_commonPrd > nav > ul > li.next > button')\n",
    "        next_button.click()\n",
    "\n",
    "    # 현재 페이지 번호를 업데이트\n",
    "    current_page += 1\n",
    "    # 이미지 및 리뷰 데이터를 저장할 리스트 초기화\n",
    "    images_links_list = []\n",
    "\n",
    "# 웹 드라이버 종료\n",
    "browser.quit()\n"
   ]
  },
  {
   "cell_type": "code",
   "execution_count": null,
   "id": "ddf9cd88-110e-49b7-821a-99603a677c09",
   "metadata": {
    "tags": []
   },
   "outputs": [],
   "source": [
    "### 상품 댓글 10개 이하 전까지만 가져오는 코드 \n",
    "\n",
    "\n",
    "# current_page = 1\n",
    "\n",
    "# # 이미지 및 리뷰 데이터를 저장할 리스트 초기화\n",
    "# images_links_list = []\n",
    "\n",
    "# # pagination 버튼을 끝까지 순환하면서 페이지 이동합니다.\n",
    "# while current_page <= loop_count_int:\n",
    "#     for i in range(1, 61):  # 1부터 60까지 순회합니다.\n",
    "#         try:\n",
    "#             product_name = browser.find_element_by_css_selector(f'#section_commonPrd > div.c-search-list > ul > li:nth-child({i}) > div > div:nth-child(3) > div.c-card-item__info-top > dl > div.c-card-item__name > dd').text   \n",
    "#             product_link = browser.find_element_by_css_selector(f'#section_commonPrd > div.c-search-list > ul > li:nth-child({i}) > div > a').get_attribute('href')\n",
    "#             product_image = browser.find_element_by_css_selector(f'#section_commonPrd > div.c-search-list > ul > li:nth-child({i}) > div > div.c-card-item__thumb > span > img').get_attribute('src')\n",
    "\n",
    "#             review_total_count_text = browser.find_element_by_css_selector(f'#section_commonPrd > div.c-search-list > ul > li:nth-child({i}) > div > div:nth-child(3) > div.c-card-item__info-top > dl > div.c-starrate > dl > dd:nth-child(3) > span > span.value').text\n",
    "\n",
    "#             # 정규 표현식을 사용하여 숫자 추출 (',' 포함)\n",
    "#             review_count = re.findall(r'\\d+', review_total_count_text)\n",
    "            \n",
    "#             # 추출된 숫자들을 하나의 문자열로 결합하고 ',' 제거\n",
    "#             review_count = ''.join(review_count)\n",
    "            \n",
    "#             # 문자열을 정수로 변환\n",
    "#             review_total_count = int(review_count)  # 리뷰 총 갯수 \n",
    "\n",
    "#             # if review_total_count <= 10:\n",
    "#             #     print('리뷰가 10 이하인 상품이 발견되어 코드 종료합니다.')\n",
    "#             #     current_page = loop_count_int + 1  # 루프 종료 조건을 만족하도록 페이지 번호 업데이트\n",
    "#             #     break\n",
    "\n",
    "#             # 데이터를 리스트에 추가\n",
    "#             image_link_list = [product_name, product_link, product_image]\n",
    "#             images_links_list.append(image_link_list)\n",
    "\n",
    "#         except:\n",
    "#             print(f'에러: {i}')\n",
    "#             pass\n",
    "\n",
    "#     # 현재 페이지 번호를 업데이트\n",
    "#     current_page += 1\n",
    "\n",
    "# # MongoDB에 데이터 저장\n",
    "# if images_links_list:\n",
    "#     # 데이터프레임 생성\n",
    "#     review_columns_name = [\"product_name\", \"product_link\", \"product_image\"]\n",
    "#     df_images = pd.DataFrame(data=images_links_list, columns=review_columns_name)\n",
    "\n",
    "#     # MongoDB에 데이터 저장\n",
    "#     data_dict = df_images.to_dict(orient='records')\n",
    "#     collection.insert_many(data_dict)\n",
    "\n",
    "# # Pagination 버튼을 클릭합니다.\n",
    "# # 다음 페이지 버튼이 클릭 가능할 때까지 대기 \n",
    "# current_page += 1\n",
    "# page_button_css = f'#section_commonPrd > nav > ul > li:nth-child({current_page % 10 + 2}) > button'\n",
    "# page_button = browser.find_element_by_css_selector(page_button_css)\n",
    "# page_button.click()\n",
    "\n",
    "# # # 10번째 페이지일 경우 next 버튼 클릭\n",
    "# if current_page % 10 == 0:\n",
    "#     next_button = browser.find_element_by_css_selector('#section_commonPrd > nav > ul > li.next > button')\n",
    "#     next_button.click()\n",
    "\n",
    "# # 웹 드라이버 종료\n",
    "# browser.quit()"
   ]
  },
  {
   "cell_type": "code",
   "execution_count": null,
   "id": "a10125f4-6575-4a3f-8234-3af847fa68c0",
   "metadata": {},
   "outputs": [],
   "source": []
  },
  {
   "cell_type": "code",
   "execution_count": null,
   "id": "aaeebd25-ec92-4e9e-84e7-10b0b5c6ab11",
   "metadata": {},
   "outputs": [],
   "source": []
  }
 ],
 "metadata": {
  "kernelspec": {
   "display_name": "Python 3 (ipykernel)",
   "language": "python",
   "name": "python3"
  },
  "language_info": {
   "codemirror_mode": {
    "name": "ipython",
    "version": 3
   },
   "file_extension": ".py",
   "mimetype": "text/x-python",
   "name": "python",
   "nbconvert_exporter": "python",
   "pygments_lexer": "ipython3",
   "version": "3.11.3"
  }
 },
 "nbformat": 4,
 "nbformat_minor": 5
}
