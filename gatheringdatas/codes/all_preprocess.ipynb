{
 "cells": [
  {
   "cell_type": "markdown",
   "id": "13de01a4-f19a-4d70-8b57-8f54a0cfe825",
   "metadata": {},
   "source": [
    "## 전체 영양제 리뷰 전처리 시작"
   ]
  },
  {
   "cell_type": "code",
   "execution_count": 1,
   "id": "15ca22d1-41f9-4b45-95eb-f64f92b56aca",
   "metadata": {
    "tags": []
   },
   "outputs": [],
   "source": [
    "import pandas as pd"
   ]
  },
  {
   "cell_type": "code",
   "execution_count": 2,
   "id": "833e9f31-ea0f-4dba-bb0e-29a63eba78b8",
   "metadata": {
    "tags": []
   },
   "outputs": [
    {
     "data": {
      "text/html": [
       "<div>\n",
       "<style scoped>\n",
       "    .dataframe tbody tr th:only-of-type {\n",
       "        vertical-align: middle;\n",
       "    }\n",
       "\n",
       "    .dataframe tbody tr th {\n",
       "        vertical-align: top;\n",
       "    }\n",
       "\n",
       "    .dataframe thead th {\n",
       "        text-align: right;\n",
       "    }\n",
       "</style>\n",
       "<table border=\"1\" class=\"dataframe\">\n",
       "  <thead>\n",
       "    <tr style=\"text-align: right;\">\n",
       "      <th></th>\n",
       "      <th>product_name</th>\n",
       "      <th>review_date</th>\n",
       "      <th>review_content</th>\n",
       "      <th>review_star</th>\n",
       "      <th>review_writer</th>\n",
       "    </tr>\n",
       "  </thead>\n",
       "  <tbody>\n",
       "    <tr>\n",
       "      <th>90624</th>\n",
       "      <td>푸드올로지 윤성빈PICK 에너지붐 /고함량 액상 아르기닌/ 피로회복</td>\n",
       "      <td>2022.04.06</td>\n",
       "      <td>배송 보통이에요 성능 보통이에요 유통기한 보통이에요\\n지인 선물을줬는데  좋아했어요</td>\n",
       "      <td>5.0</td>\n",
       "      <td>채슨생</td>\n",
       "    </tr>\n",
       "    <tr>\n",
       "      <th>90625</th>\n",
       "      <td>푸드올로지 윤성빈PICK 에너지붐 /고함량 액상 아르기닌/ 피로회복</td>\n",
       "      <td>2022.03.27</td>\n",
       "      <td>배송 보통이에요 성능 성능이 뛰어나요 유통기한 보통이에요</td>\n",
       "      <td>5.0</td>\n",
       "      <td>smcd***</td>\n",
       "    </tr>\n",
       "  </tbody>\n",
       "</table>\n",
       "</div>"
      ],
      "text/plain": [
       "                                product_name review_date  \\\n",
       "90624  푸드올로지 윤성빈PICK 에너지붐 /고함량 액상 아르기닌/ 피로회복  2022.04.06   \n",
       "90625  푸드올로지 윤성빈PICK 에너지붐 /고함량 액상 아르기닌/ 피로회복  2022.03.27   \n",
       "\n",
       "                                       review_content  review_star  \\\n",
       "90624  배송 보통이에요 성능 보통이에요 유통기한 보통이에요\\n지인 선물을줬는데  좋아했어요          5.0   \n",
       "90625                 배송 보통이에요 성능 성능이 뛰어나요 유통기한 보통이에요          5.0   \n",
       "\n",
       "      review_writer  \n",
       "90624           채슨생  \n",
       "90625       smcd***  "
      ]
     },
     "execution_count": 2,
     "metadata": {},
     "output_type": "execute_result"
    }
   ],
   "source": [
    "df_all=pd.read_csv('../datasets/reviews_data/all_product.csv')\n",
    "df_all[-2:]"
   ]
  },
  {
   "cell_type": "markdown",
   "id": "113d760d-25a2-45c3-9870-efb38da5870c",
   "metadata": {},
   "source": [
    "### 불용어 처리 및 한글자 살리기 및 단어 치환, "
   ]
  },
  {
   "cell_type": "markdown",
   "id": "ef06d31a-74ca-41ba-9360-3f3eab24fa83",
   "metadata": {
    "tags": []
   },
   "source": [
    "#### 전처리 필요한 파일들 가져오기"
   ]
  },
  {
   "cell_type": "code",
   "execution_count": 3,
   "id": "5d540a7d-c4a1-4150-b326-a2d0072783d5",
   "metadata": {
    "tags": []
   },
   "outputs": [
    {
     "data": {
      "text/html": [
       "<div>\n",
       "<style scoped>\n",
       "    .dataframe tbody tr th:only-of-type {\n",
       "        vertical-align: middle;\n",
       "    }\n",
       "\n",
       "    .dataframe tbody tr th {\n",
       "        vertical-align: top;\n",
       "    }\n",
       "\n",
       "    .dataframe thead th {\n",
       "        text-align: right;\n",
       "    }\n",
       "</style>\n",
       "<table border=\"1\" class=\"dataframe\">\n",
       "  <thead>\n",
       "    <tr style=\"text-align: right;\">\n",
       "      <th></th>\n",
       "      <th>stopword</th>\n",
       "    </tr>\n",
       "  </thead>\n",
       "  <tbody>\n",
       "    <tr>\n",
       "      <th>1177</th>\n",
       "      <td>\\r\\n</td>\n",
       "    </tr>\n",
       "    <tr>\n",
       "      <th>1178</th>\n",
       "      <td>\\n</td>\n",
       "    </tr>\n",
       "  </tbody>\n",
       "</table>\n",
       "</div>"
      ],
      "text/plain": [
       "     stopword\n",
       "1177     \\r\\n\n",
       "1178       \\n"
      ]
     },
     "execution_count": 3,
     "metadata": {},
     "output_type": "execute_result"
    }
   ],
   "source": [
    "# 불용어 \n",
    "df_stop = pd.read_excel('../datasets/dic/stopword_list.xlsx')\n",
    "df_stop[-2:]"
   ]
  },
  {
   "cell_type": "code",
   "execution_count": 4,
   "id": "80ff0f77-dd1a-4de7-b84c-34f26edd7302",
   "metadata": {
    "tags": []
   },
   "outputs": [
    {
     "data": {
      "text/html": [
       "<div>\n",
       "<style scoped>\n",
       "    .dataframe tbody tr th:only-of-type {\n",
       "        vertical-align: middle;\n",
       "    }\n",
       "\n",
       "    .dataframe tbody tr th {\n",
       "        vertical-align: top;\n",
       "    }\n",
       "\n",
       "    .dataframe thead th {\n",
       "        text-align: right;\n",
       "    }\n",
       "</style>\n",
       "<table border=\"1\" class=\"dataframe\">\n",
       "  <thead>\n",
       "    <tr style=\"text-align: right;\">\n",
       "      <th></th>\n",
       "      <th>one_char_keyword</th>\n",
       "    </tr>\n",
       "  </thead>\n",
       "  <tbody>\n",
       "    <tr>\n",
       "      <th>12</th>\n",
       "      <td>굿</td>\n",
       "    </tr>\n",
       "    <tr>\n",
       "      <th>13</th>\n",
       "      <td>굳</td>\n",
       "    </tr>\n",
       "  </tbody>\n",
       "</table>\n",
       "</div>"
      ],
      "text/plain": [
       "   one_char_keyword\n",
       "12                굿\n",
       "13                굳"
      ]
     },
     "execution_count": 4,
     "metadata": {},
     "output_type": "execute_result"
    }
   ],
   "source": [
    "# 한글자 살리기\n",
    "df_oneword=pd.read_excel('../datasets/dic/one_char_list.xlsx')\n",
    "df_oneword[-2:]"
   ]
  },
  {
   "cell_type": "markdown",
   "id": "1f29a161-efe4-4411-8103-bb35b48b8007",
   "metadata": {},
   "source": [
    "#### 전처리 시작 \n",
    "- 1. 형태소 분석 및 토큰화\n",
    "- 2. 단어 치환\n",
    "- 3. 불용어 처리\n"
   ]
  },
  {
   "cell_type": "code",
   "execution_count": 5,
   "id": "0de31968-eb1c-4680-bdb6-7b89e56d501f",
   "metadata": {
    "tags": []
   },
   "outputs": [],
   "source": [
    "from konlpy.tag import Okt\n",
    "from collections import Counter\n",
    "\n",
    "# Okt 형태소 분석기 인스턴스 생성\n",
    "okt = Okt()\n",
    "\n",
    "# df_all['reveiw_replaced'] 열의 각 텍스트에 대해 중복 단어 제거 및 형태소 분석 수행\n",
    "tokenized_reviews = []\n",
    "\n",
    "# 필요한 품사 리스트 정의\n",
    "desired_pos = ['Noun', 'Verb', 'Adjective', 'Adverb', 'Exclamation', 'Conjunction']\n",
    "\n",
    "# 형태소 분석 결과를 담을 리스트 초기화\n",
    "tokenized_reviews = []\n",
    "\n",
    "for review_text in df_all['review_content']:\n",
    "    try:\n",
    "        # 형태소 분석 수행\n",
    "        pos_result = okt.pos(review_text, norm=True, stem=True)\n",
    "        \n",
    "        # 필요한 조건을 만족하는 단어 선택\n",
    "        filtered_tokens = []\n",
    "        for word, pos in pos_result:\n",
    "            if pos in desired_pos and len(word) > 1:\n",
    "                filtered_tokens.append(word)\n",
    "                    \n",
    "        tokenized_reviews.append(filtered_tokens)  # 각 토큰을 개별 항목으로 유지\n",
    "    except:\n",
    "        pass"
   ]
  },
  {
   "cell_type": "code",
   "execution_count": 6,
   "id": "8dfe85ca-a997-4b47-9e94-4a793ccb5fe6",
   "metadata": {
    "tags": []
   },
   "outputs": [],
   "source": [
    "import pickle"
   ]
  },
  {
   "cell_type": "code",
   "execution_count": 7,
   "id": "97179905-e75d-4c3e-aaa0-8c98bc2036ed",
   "metadata": {
    "tags": []
   },
   "outputs": [],
   "source": [
    "# 형태소 분석 결과를 별도의 pkl 파일로 저장합니다.\n",
    "# with open('tokenized_reviews.pkl', 'wb') as preprocess_token:\n",
    "#     pickle.dump(obj=df_all['tokenized_reviews'], file=preprocess_token)\n",
    "with open('tokenized_reviews.pkl', 'wb') as preprocess_token:\n",
    "    pickle.dump(obj=tokenized_reviews, file=preprocess_token)"
   ]
  },
  {
   "cell_type": "code",
   "execution_count": 8,
   "id": "6ffa7183-30e9-4249-b28c-4fbd94ac7716",
   "metadata": {
    "tags": []
   },
   "outputs": [],
   "source": [
    "df_all['tokenized_reviews']=tokenized_reviews "
   ]
  },
  {
   "cell_type": "code",
   "execution_count": 9,
   "id": "5ce79009-a4d8-4628-8251-2e4bd627995c",
   "metadata": {
    "tags": []
   },
   "outputs": [
    {
     "name": "stdout",
     "output_type": "stream",
     "text": [
      "데이터프레임 df_all과 tokenized_reviews의 크기가 일치합니다.\n"
     ]
    }
   ],
   "source": [
    "# 데이터프레임 df_all의 행 수 확인\n",
    "df_all_shape = df_all.shape[0]\n",
    "\n",
    "# tokenized_reviews 리스트의 길이 확인\n",
    "tokenized_reviews_length = len(tokenized_reviews)\n",
    "\n",
    "# 데이터프레임 df_all과 tokenized_reviews의 크기 비교\n",
    "if df_all_shape == tokenized_reviews_length:\n",
    "    print(\"데이터프레임 df_all과 tokenized_reviews의 크기가 일치합니다.\")\n",
    "else:\n",
    "    print(\"데이터프레임 df_all과 tokenized_reviews의 크기가 일치하지 않습니다.\")\n",
    "    print(f\"df_all의 행 수: {df_all_shape}\")\n",
    "    print(f\"tokenized_reviews의 길이: {tokenized_reviews_length}\")"
   ]
  },
  {
   "cell_type": "code",
   "execution_count": 10,
   "id": "e6c9674b-c3ad-4ed9-88be-94ab47ddf1d5",
   "metadata": {
    "tags": []
   },
   "outputs": [],
   "source": [
    "# df_all['tokenized_reviews']=tokenized_reviews"
   ]
  },
  {
   "cell_type": "code",
   "execution_count": 11,
   "id": "bdeb7458-f69b-4641-9189-37ba7c477b1d",
   "metadata": {
    "tags": []
   },
   "outputs": [],
   "source": [
    "# # 단어 치환 함수\n",
    "# def replace_word(review):\n",
    "#     for number in range(len(df_replace['before_replacement'])):\n",
    "#         try: \n",
    "#             # 치환 단어만 데이터 치환\n",
    "#             if replace_list['before_replacement'][number] in review:\n",
    "#                 review = review.replace(replace_list['before_replacement'][number], replace_list['after_replacement'][number])\n",
    "#         except: \n",
    "#             pass\n",
    "#     return review"
   ]
  },
  {
   "cell_type": "code",
   "execution_count": 12,
   "id": "73cfbe0e-17d9-4137-b6ee-2722c8d01144",
   "metadata": {
    "tags": []
   },
   "outputs": [],
   "source": [
    "# # 치환된 리뷰 생성\n",
    "# df_all['review_replaced'] = df_all['tokenized_reviews'].apply(replace_word)"
   ]
  },
  {
   "cell_type": "code",
   "execution_count": 13,
   "id": "38973c0a-1b16-47b6-bc4f-8addd8874c44",
   "metadata": {
    "tags": []
   },
   "outputs": [],
   "source": [
    "# # 치환된 단어만 출력\n",
    "# for replaced_review_list in df_all['review_replaced']:\n",
    "#     for replaced_review in replaced_review_list:\n",
    "#         replaced_tokens = replaced_review.split()\n",
    "        \n",
    "#         # 치환된 단어를 한 줄에 출력\n",
    "#         for replaced in replaced_tokens:\n",
    "#             print(f\"치환된 단어: {replaced}\")"
   ]
  },
  {
   "cell_type": "code",
   "execution_count": 14,
   "id": "09f9b42d-4b7d-4dd1-90cd-28a966d85f08",
   "metadata": {
    "tags": []
   },
   "outputs": [],
   "source": [
    "# df_all['review_replaced']"
   ]
  },
  {
   "cell_type": "code",
   "execution_count": 15,
   "id": "68616742-f12a-4a49-9586-563b03eb1e99",
   "metadata": {
    "tags": []
   },
   "outputs": [],
   "source": [
    "# 불용어 목록을 리스트로 변환\n",
    "stop_list = df_stop['stopword'].tolist()\n",
    "\n",
    "# 불용어 처리 함수 정의\n",
    "def stopword(tokens):\n",
    "    removed_tokens = [word for word in tokens if word not in stop_list]\n",
    "    return ' '.join(removed_tokens)\n",
    "\n",
    "# df_all['origin_reviews'] 열의 각 리스트에 불용어 처리 적용하고 쪼개기\n",
    "df_all['replaced_review'] = df_all['tokenized_reviews'].apply(stopword)"
   ]
  },
  {
   "cell_type": "code",
   "execution_count": 20,
   "id": "95f7d00c-b3da-4958-a3ec-3821dd998081",
   "metadata": {
    "tags": []
   },
   "outputs": [],
   "source": [
    "import pickle\n",
    "\n",
    "# 불용어 목록을 리스트로 변환\n",
    "stop_list = df_stop['stopword'].tolist()\n",
    "\n",
    "# 불용어 사전을 pkl로 저장\n",
    "with open('../datasets/stopword.pkl', 'wb') as stopword:\n",
    "    pickle.dump(obj=stop_list, file=stopword)"
   ]
  },
  {
   "cell_type": "code",
   "execution_count": 16,
   "id": "6e10c877-e4e0-4cad-b723-b56ccf4eb2e6",
   "metadata": {
    "tags": []
   },
   "outputs": [],
   "source": [
    "# # 형태소 분석 결과를 별도의 pkl 파일로 저장합니다.\n",
    "# with open('replaced_review.pkl', 'wb') as preprocess_stopword:\n",
    "#     pickle.dump(obj=df_all['replaced_review'], file=preprocess_stopword)"
   ]
  },
  {
   "cell_type": "code",
   "execution_count": 17,
   "id": "67dd1a3c-cd78-44d0-9dc7-2de95aad39f3",
   "metadata": {
    "tags": []
   },
   "outputs": [
    {
     "data": {
      "text/plain": [
       "'빨르다 뛰어나다 고지혈증 수치 높다 편이 보조 제로 도움'"
      ]
     },
     "execution_count": 17,
     "metadata": {},
     "output_type": "execute_result"
    }
   ],
   "source": [
    "df_all['replaced_review'][2299]"
   ]
  },
  {
   "cell_type": "code",
   "execution_count": 18,
   "id": "cdb173a3-961d-4e2a-a12b-4bf5bf2e6333",
   "metadata": {
    "tags": []
   },
   "outputs": [
    {
     "data": {
      "text/plain": [
       "str"
      ]
     },
     "execution_count": 18,
     "metadata": {},
     "output_type": "execute_result"
    }
   ],
   "source": [
    "type(df_all['replaced_review'][2299])"
   ]
  },
  {
   "cell_type": "code",
   "execution_count": 19,
   "id": "99ef4a3d-07f2-4da3-9dfc-ab86417ee75f",
   "metadata": {
    "tags": []
   },
   "outputs": [],
   "source": [
    "# pd.read_csv('../datasets/reviews_data/all_preprocess.csv')"
   ]
  },
  {
   "cell_type": "code",
   "execution_count": 22,
   "id": "d236566a-a216-496c-a06d-7e7a7b64497e",
   "metadata": {
    "tags": []
   },
   "outputs": [
    {
     "data": {
      "text/html": [
       "<div>\n",
       "<style scoped>\n",
       "    .dataframe tbody tr th:only-of-type {\n",
       "        vertical-align: middle;\n",
       "    }\n",
       "\n",
       "    .dataframe tbody tr th {\n",
       "        vertical-align: top;\n",
       "    }\n",
       "\n",
       "    .dataframe thead th {\n",
       "        text-align: right;\n",
       "    }\n",
       "</style>\n",
       "<table border=\"1\" class=\"dataframe\">\n",
       "  <thead>\n",
       "    <tr style=\"text-align: right;\">\n",
       "      <th></th>\n",
       "      <th>product_name</th>\n",
       "      <th>review_date</th>\n",
       "      <th>review_content</th>\n",
       "      <th>review_star</th>\n",
       "      <th>review_writer</th>\n",
       "      <th>tokenized_reviews</th>\n",
       "      <th>replaced_review</th>\n",
       "    </tr>\n",
       "  </thead>\n",
       "  <tbody>\n",
       "    <tr>\n",
       "      <th>22222</th>\n",
       "      <td>종근당건강 아이케어 오메가3 6개월분 비타민A 비타민E 혈행 중성지질 개선 항산화 ...</td>\n",
       "      <td>2018.03.06</td>\n",
       "      <td>배송 보통이에요 맛 보통이에요 유통기한 보통이에요\\r\\n잘먹고잇슴당</td>\n",
       "      <td>5.0</td>\n",
       "      <td>내알아잘사요</td>\n",
       "      <td>[배송, 보통, 보통, 유통, 기한, 보통, 먹다, 잇다]</td>\n",
       "      <td>잇다</td>\n",
       "    </tr>\n",
       "    <tr>\n",
       "      <th>22223</th>\n",
       "      <td>종근당건강 아이케어 오메가3 6개월분 비타민A 비타민E 혈행 중성지질 개선 항산화 ...</td>\n",
       "      <td>2018.03.04</td>\n",
       "      <td>배송 빨라요 맛 맛있어요 유통기한 기한이 넉넉해요\\r\\n잘샀어요</td>\n",
       "      <td>5.0</td>\n",
       "      <td>ahm3**</td>\n",
       "      <td>[배송, 빨르다, 맛있다, 유통, 기한, 기한, 넉넉하다, 사다]</td>\n",
       "      <td>빨르다 맛있다 사다</td>\n",
       "    </tr>\n",
       "    <tr>\n",
       "      <th>22224</th>\n",
       "      <td>종근당건강 아이케어 오메가3 6개월분 비타민A 비타민E 혈행 중성지질 개선 항산화 ...</td>\n",
       "      <td>2018.03.04</td>\n",
       "      <td>배송 빨라요 맛 맛있어요 유통기한 기한이 넉넉해요\\r\\n배송도빠르고 넘좋아요~</td>\n",
       "      <td>5.0</td>\n",
       "      <td>syhr****</td>\n",
       "      <td>[배송, 빨르다, 맛있다, 유통, 기한, 기한, 넉넉하다, 배송, 빠르다, 넘다, 좋다]</td>\n",
       "      <td>빨르다 맛있다 넘다 좋다</td>\n",
       "    </tr>\n",
       "    <tr>\n",
       "      <th>22225</th>\n",
       "      <td>종근당건강 아이케어 오메가3 6개월분 비타민A 비타민E 혈행 중성지질 개선 항산화 ...</td>\n",
       "      <td>2018.03.03</td>\n",
       "      <td>배송 빨라요 맛 맛있어요 유통기한 기한이 넉넉해요\\r\\n싸고 좋아요</td>\n",
       "      <td>5.0</td>\n",
       "      <td>alli******</td>\n",
       "      <td>[배송, 빨르다, 맛있다, 유통, 기한, 기한, 넉넉하다, 싸다, 좋다]</td>\n",
       "      <td>빨르다 맛있다 싸다 좋다</td>\n",
       "    </tr>\n",
       "    <tr>\n",
       "      <th>22226</th>\n",
       "      <td>종근당건강 아이케어 오메가3 6개월분 비타민A 비타민E 혈행 중성지질 개선 항산화 ...</td>\n",
       "      <td>2018.03.03</td>\n",
       "      <td>배송 보통이에요 맛 보통이에요 유통기한 보통이에요\\r\\n건강잘챙겨볼께요</td>\n",
       "      <td>5.0</td>\n",
       "      <td>buly**</td>\n",
       "      <td>[배송, 보통, 보통, 유통, 기한, 보통, 건강, 챙기다, 보다]</td>\n",
       "      <td>건강</td>\n",
       "    </tr>\n",
       "    <tr>\n",
       "      <th>22227</th>\n",
       "      <td>종근당건강 아이케어 오메가3 6개월분 비타민A 비타민E 혈행 중성지질 개선 항산화 ...</td>\n",
       "      <td>2018.03.02</td>\n",
       "      <td>배송 빨라요 맛 보통이에요 유통기한 기한이 넉넉해요</td>\n",
       "      <td>5.0</td>\n",
       "      <td>dusl****</td>\n",
       "      <td>[배송, 빨르다, 보통, 유통, 기한, 기한, 넉넉하다]</td>\n",
       "      <td>빨르다</td>\n",
       "    </tr>\n",
       "    <tr>\n",
       "      <th>22228</th>\n",
       "      <td>종근당건강 아이케어 오메가3 6개월분 비타민A 비타민E 혈행 중성지질 개선 항산화 ...</td>\n",
       "      <td>2018.03.02</td>\n",
       "      <td>배송 빨라요 맛 보통이에요 유통기한 기한이 넉넉해요</td>\n",
       "      <td>5.0</td>\n",
       "      <td>nahe*****</td>\n",
       "      <td>[배송, 빨르다, 보통, 유통, 기한, 기한, 넉넉하다]</td>\n",
       "      <td>빨르다</td>\n",
       "    </tr>\n",
       "    <tr>\n",
       "      <th>22229</th>\n",
       "      <td>종근당건강 아이케어 오메가3 6개월분 비타민A 비타민E 혈행 중성지질 개선 항산화 ...</td>\n",
       "      <td>2018.03.01</td>\n",
       "      <td>배송 빨라요 맛 맛있어요 유통기한 기한이 넉넉해요\\r\\n잘먹을게요</td>\n",
       "      <td>5.0</td>\n",
       "      <td>simd****</td>\n",
       "      <td>[배송, 빨르다, 맛있다, 유통, 기한, 기한, 넉넉하다, 먹다]</td>\n",
       "      <td>빨르다 맛있다</td>\n",
       "    </tr>\n",
       "  </tbody>\n",
       "</table>\n",
       "</div>"
      ],
      "text/plain": [
       "                                            product_name review_date  \\\n",
       "22222  종근당건강 아이케어 오메가3 6개월분 비타민A 비타민E 혈행 중성지질 개선 항산화 ...  2018.03.06   \n",
       "22223  종근당건강 아이케어 오메가3 6개월분 비타민A 비타민E 혈행 중성지질 개선 항산화 ...  2018.03.04   \n",
       "22224  종근당건강 아이케어 오메가3 6개월분 비타민A 비타민E 혈행 중성지질 개선 항산화 ...  2018.03.04   \n",
       "22225  종근당건강 아이케어 오메가3 6개월분 비타민A 비타민E 혈행 중성지질 개선 항산화 ...  2018.03.03   \n",
       "22226  종근당건강 아이케어 오메가3 6개월분 비타민A 비타민E 혈행 중성지질 개선 항산화 ...  2018.03.03   \n",
       "22227  종근당건강 아이케어 오메가3 6개월분 비타민A 비타민E 혈행 중성지질 개선 항산화 ...  2018.03.02   \n",
       "22228  종근당건강 아이케어 오메가3 6개월분 비타민A 비타민E 혈행 중성지질 개선 항산화 ...  2018.03.02   \n",
       "22229  종근당건강 아이케어 오메가3 6개월분 비타민A 비타민E 혈행 중성지질 개선 항산화 ...  2018.03.01   \n",
       "\n",
       "                                    review_content  review_star review_writer  \\\n",
       "22222        배송 보통이에요 맛 보통이에요 유통기한 보통이에요\\r\\n잘먹고잇슴당          5.0        내알아잘사요   \n",
       "22223          배송 빨라요 맛 맛있어요 유통기한 기한이 넉넉해요\\r\\n잘샀어요          5.0        ahm3**   \n",
       "22224  배송 빨라요 맛 맛있어요 유통기한 기한이 넉넉해요\\r\\n배송도빠르고 넘좋아요~          5.0      syhr****   \n",
       "22225        배송 빨라요 맛 맛있어요 유통기한 기한이 넉넉해요\\r\\n싸고 좋아요          5.0    alli******   \n",
       "22226      배송 보통이에요 맛 보통이에요 유통기한 보통이에요\\r\\n건강잘챙겨볼께요          5.0        buly**   \n",
       "22227                 배송 빨라요 맛 보통이에요 유통기한 기한이 넉넉해요          5.0      dusl****   \n",
       "22228                 배송 빨라요 맛 보통이에요 유통기한 기한이 넉넉해요          5.0     nahe*****   \n",
       "22229         배송 빨라요 맛 맛있어요 유통기한 기한이 넉넉해요\\r\\n잘먹을게요          5.0      simd****   \n",
       "\n",
       "                                       tokenized_reviews replaced_review  \n",
       "22222                   [배송, 보통, 보통, 유통, 기한, 보통, 먹다, 잇다]              잇다  \n",
       "22223               [배송, 빨르다, 맛있다, 유통, 기한, 기한, 넉넉하다, 사다]      빨르다 맛있다 사다  \n",
       "22224  [배송, 빨르다, 맛있다, 유통, 기한, 기한, 넉넉하다, 배송, 빠르다, 넘다, 좋다]   빨르다 맛있다 넘다 좋다  \n",
       "22225           [배송, 빨르다, 맛있다, 유통, 기한, 기한, 넉넉하다, 싸다, 좋다]   빨르다 맛있다 싸다 좋다  \n",
       "22226              [배송, 보통, 보통, 유통, 기한, 보통, 건강, 챙기다, 보다]              건강  \n",
       "22227                    [배송, 빨르다, 보통, 유통, 기한, 기한, 넉넉하다]             빨르다  \n",
       "22228                    [배송, 빨르다, 보통, 유통, 기한, 기한, 넉넉하다]             빨르다  \n",
       "22229               [배송, 빨르다, 맛있다, 유통, 기한, 기한, 넉넉하다, 먹다]         빨르다 맛있다  "
      ]
     },
     "execution_count": 22,
     "metadata": {},
     "output_type": "execute_result"
    }
   ],
   "source": [
    "df_all[22222:22230]"
   ]
  },
  {
   "cell_type": "code",
   "execution_count": null,
   "id": "88fec4e1-9fd0-499c-828b-66d84a9958a4",
   "metadata": {
    "tags": []
   },
   "outputs": [],
   "source": [
    "# # 리스트 형태의 문서를 텍스트로 변환\n",
    "# corpus_text = [' '.join(doc) for doc in df_all['replaced_review']]"
   ]
  },
  {
   "cell_type": "code",
   "execution_count": null,
   "id": "fb9f34ca-ff17-41c0-b899-2a1612331aa8",
   "metadata": {
    "tags": []
   },
   "outputs": [],
   "source": [
    "# df_all['replaced_review'] = corpus_text"
   ]
  },
  {
   "cell_type": "code",
   "execution_count": null,
   "id": "3dc0ff40-5ee5-4b9a-bd8f-4261d2f1d687",
   "metadata": {
    "tags": []
   },
   "outputs": [],
   "source": [
    "df_all"
   ]
  },
  {
   "cell_type": "code",
   "execution_count": null,
   "id": "0a8415bb-047a-46db-ac24-d4c8960f93b4",
   "metadata": {},
   "outputs": [],
   "source": [
    "df_all.to_csv('../datasets/reviews_data/all_preprocess.csv')"
   ]
  },
  {
   "cell_type": "code",
   "execution_count": null,
   "id": "88f484cb-e961-4537-8fa2-414e54e3d980",
   "metadata": {
    "tags": []
   },
   "outputs": [],
   "source": [
    "df_all.isnull().sum()"
   ]
  },
  {
   "cell_type": "code",
   "execution_count": null,
   "id": "baec7361-b116-43cb-855b-55163f3811d1",
   "metadata": {
    "tags": []
   },
   "outputs": [],
   "source": [
    "# df_all=pd.read_csv('../datasets/reviews_data/all_preprocess.csv')"
   ]
  },
  {
   "cell_type": "code",
   "execution_count": null,
   "id": "a7a1ea42-c13c-4db9-9f90-457a1f91aca2",
   "metadata": {
    "tags": []
   },
   "outputs": [],
   "source": [
    "df_all"
   ]
  },
  {
   "cell_type": "code",
   "execution_count": null,
   "id": "dbf4a46e-09b4-440f-8186-d2fae2117237",
   "metadata": {
    "tags": []
   },
   "outputs": [],
   "source": [
    "# review_star 부정과 긍정 댓글 분리 \n",
    "condition_positive = df_all['review_star'] > 3  # 긍정\n",
    "condition_negative = df_all['review_star'] <= 3  # 부정"
   ]
  },
  {
   "cell_type": "code",
   "execution_count": null,
   "id": "90168b66-265e-4d08-a48f-f2698ea76d36",
   "metadata": {
    "tags": []
   },
   "outputs": [],
   "source": [
    "df_review_positive = df_all[condition_positive]\n",
    "df_review_negative = df_all[condition_negative]"
   ]
  },
  {
   "cell_type": "code",
   "execution_count": null,
   "id": "08f72ec2-f485-4130-89d3-1bd418237fe6",
   "metadata": {
    "tags": []
   },
   "outputs": [],
   "source": [
    "df_review_positive.to_csv('../datasets/reviews_data/all_preprocess_positive.csv')\n",
    "df_review_negative.to_csv('../datasets/reviews_data/all_preprocess_negative.csv')"
   ]
  },
  {
   "cell_type": "code",
   "execution_count": null,
   "id": "8ffa9107-be53-4940-aa33-bc852f28cb8c",
   "metadata": {
    "tags": []
   },
   "outputs": [],
   "source": [
    "len(df_review_positive),len(df_review_negative)"
   ]
  },
  {
   "cell_type": "code",
   "execution_count": null,
   "id": "111110ab-c5ae-4914-9325-d14ff9ce9776",
   "metadata": {
    "tags": []
   },
   "outputs": [],
   "source": [
    "# df_review_positive=df_review_positive.drop(columns=['okt_reviews','stopremoved_reviews'])\n",
    "# df_review_negative=df_review_negative.drop(columns=['okt_reviews','stopremoved_reviews'])"
   ]
  },
  {
   "cell_type": "code",
   "execution_count": null,
   "id": "83eb9449-ede7-4bd2-b2dc-f5c2e06a2381",
   "metadata": {
    "tags": []
   },
   "outputs": [],
   "source": [
    "# df_review_positive.to_csv('../datasets/reviews_data/final_all_preprocess_positive.csv')\n",
    "# df_review_negative.to_csv('../datasets/reviews_data/final_all_preprocess_negative.csv')"
   ]
  },
  {
   "cell_type": "code",
   "execution_count": null,
   "id": "f401aa02-a513-4dbc-9579-75e7607beaa1",
   "metadata": {
    "tags": []
   },
   "outputs": [],
   "source": [
    "# df_recovery['mecab_reviews']\n",
    "df_all['replaced_review']"
   ]
  },
  {
   "cell_type": "code",
   "execution_count": null,
   "id": "a00ef438-53a1-4a00-b8af-52e8e6165829",
   "metadata": {
    "tags": []
   },
   "outputs": [],
   "source": [
    "# 'mecab_reviews' 열의 모든 텍스트를 하나의 문자열로 결합\n",
    "#combined_text = ' '.join(df_recovery['mecab_reviews'])\n",
    "combined_text = ' '.join(df_all['replaced_review'])"
   ]
  },
  {
   "cell_type": "code",
   "execution_count": null,
   "id": "3ea08865-6b62-4af2-af5a-8b2dd7f59d91",
   "metadata": {
    "tags": []
   },
   "outputs": [],
   "source": [
    "from wordcloud import WordCloud"
   ]
  },
  {
   "cell_type": "code",
   "execution_count": null,
   "id": "d5dce1a6-6ce4-4b47-874a-9705725eff21",
   "metadata": {
    "tags": []
   },
   "outputs": [],
   "source": [
    "from collections import Counter"
   ]
  },
  {
   "cell_type": "markdown",
   "id": "a0080fdb-8395-427a-bab0-93b1a26778ec",
   "metadata": {},
   "source": [
    "#### 토큰화 리뷰 빈도 계산"
   ]
  },
  {
   "cell_type": "markdown",
   "id": "d5a4f934-4553-47d0-8157-a9221975cae1",
   "metadata": {
    "tags": []
   },
   "source": [
    "###### 형태소의 빈도를 계산할때 "
   ]
  },
  {
   "cell_type": "code",
   "execution_count": null,
   "id": "ba4c8eb8-23b7-45f9-981c-da62d621cfc0",
   "metadata": {
    "tags": []
   },
   "outputs": [],
   "source": [
    "from collections import Counter\n",
    "\n",
    "# 단어 빈도수 카운트\n",
    "word_counts = Counter(combined_text.split())"
   ]
  },
  {
   "cell_type": "code",
   "execution_count": null,
   "id": "7307b242-4a1b-4768-8a49-2519fca7d199",
   "metadata": {
    "tags": []
   },
   "outputs": [],
   "source": [
    "# 한글 폰트 경로 설정 (Windows 환경에 맞게 경로 수정)\n",
    "font_path = 'C:/Windows/Fonts/malgun.ttf'\n",
    "\n",
    "# 단어 빈도수 딕셔너리를 WordCloud에 전달\n",
    "wordcloud = WordCloud(font_path=font_path, background_color='white')\n",
    "wordcloud.generate_from_frequencies(word_counts)"
   ]
  },
  {
   "cell_type": "code",
   "execution_count": null,
   "id": "a4678b0c-3239-491a-bc97-ed6e7a1e6b4d",
   "metadata": {
    "tags": []
   },
   "outputs": [],
   "source": [
    "wordcloud.words_"
   ]
  },
  {
   "cell_type": "code",
   "execution_count": null,
   "id": "eac2e3ee-5733-43ed-ad7d-8516ef973b3e",
   "metadata": {
    "tags": []
   },
   "outputs": [],
   "source": [
    "import matplotlib.pyplot as plt\n",
    "plt.imshow(wordcloud)\n",
    "plt.axis('off') \n",
    "plt.show()"
   ]
  },
  {
   "cell_type": "markdown",
   "id": "c2b1a7f4-571a-416f-bef5-7a094813df33",
   "metadata": {},
   "source": [
    "###### 문장을 합쳐서 계산할때 "
   ]
  },
  {
   "cell_type": "code",
   "execution_count": null,
   "id": "c424647a-2ba4-4904-a9bd-d227f9191953",
   "metadata": {
    "tags": []
   },
   "outputs": [],
   "source": [
    "# 단어로 쪼개기 \n",
    "text_split = combined_text.split()"
   ]
  },
  {
   "cell_type": "code",
   "execution_count": null,
   "id": "d5449de6-f81a-4b29-9db1-0d708500a659",
   "metadata": {
    "tags": []
   },
   "outputs": [],
   "source": [
    "# counter를 이용해서 중복 여부 count\n",
    "from collections import Counter\n",
    "Counter(text_split)"
   ]
  },
  {
   "cell_type": "code",
   "execution_count": null,
   "id": "13f26c89-388e-4aae-ab08-505d4fb7c0af",
   "metadata": {
    "tags": []
   },
   "outputs": [],
   "source": [
    "# 한글 폰트 경로 설정 (Windows 환경에 맞게 경로 수정)\n",
    "font_path = 'C:/Windows/Fonts/malgun.ttf'\n",
    "\n",
    "wordCloud = WordCloud(font_path=font_path, background_color='white') #인스턴스화 \n",
    "wordCloud.generate_from_text(combined_text)"
   ]
  },
  {
   "cell_type": "code",
   "execution_count": null,
   "id": "6f4d9f7a-1b8a-4b69-8125-aa2fd755bac5",
   "metadata": {
    "tags": []
   },
   "outputs": [],
   "source": [
    "# count \n",
    "wordCloud.words_ "
   ]
  },
  {
   "cell_type": "code",
   "execution_count": null,
   "id": "f85ed5a5-b1dc-4db8-b7b3-9cbb5a263230",
   "metadata": {
    "tags": []
   },
   "outputs": [],
   "source": [
    "import matplotlib.pyplot as plt\n",
    "plt.imshow(wordCloud)\n",
    "plt.axis('off') \n",
    "plt.show()"
   ]
  },
  {
   "cell_type": "code",
   "execution_count": null,
   "id": "afad8c02-c7d5-4430-9cdd-136427224c5f",
   "metadata": {
    "tags": []
   },
   "outputs": [],
   "source": [
    "### 단어 치환하는 코드\n",
    "def second_replace(tokens, replace_dict):\n",
    "    return [replace_dict.get(word, word) for word in tokens]"
   ]
  },
  {
   "cell_type": "code",
   "execution_count": null,
   "id": "c4f57796-c16b-447a-83fb-640534f2f37b",
   "metadata": {
    "tags": []
   },
   "outputs": [],
   "source": [
    "# 대체어\n",
    "df_replace = pd.read_excel('../datasets/dic/replace_list.xlsx')\n",
    "df_replace[-2:]"
   ]
  },
  {
   "cell_type": "code",
   "execution_count": null,
   "id": "d6efd6b8-da96-4362-8c6d-46600cefe5e9",
   "metadata": {
    "tags": []
   },
   "outputs": [],
   "source": [
    "replace_dict = df_replace.set_index('before_replacement').to_dict()['after_replacement']"
   ]
  },
  {
   "cell_type": "code",
   "execution_count": null,
   "id": "12971533-2df7-4157-9314-8ffa1786c09b",
   "metadata": {
    "tags": []
   },
   "outputs": [],
   "source": [
    "# 2차 단어 치환 적용\n",
    "df_all['tokenized_reviews'] = df_all['replaced_review'].apply(second_replace, replace_dict=replace_dict)"
   ]
  },
  {
   "cell_type": "code",
   "execution_count": null,
   "id": "7162ab8f-bae0-4432-a450-c49240671fc0",
   "metadata": {
    "tags": []
   },
   "outputs": [],
   "source": [
    "# 결과 확인: 처음 5개 레코드의 2차 단어 치환 결과 출력\n",
    "for i, tokens in enumerate(df_all['tokenized_reviews'][:5]):\n",
    "    original_review = df_all['review_content'][i]\n",
    "    replaced_review = ' '.join(tokens)\n",
    "    print(f\"Original Review ({i + 1}): {original_review}\")\n",
    "    print(f\"Replaced Review ({i + 1}): {replaced_review}\")\n",
    "    print()"
   ]
  },
  {
   "cell_type": "code",
   "execution_count": null,
   "id": "caf8f712-5ae8-4d49-95f9-f47dcc4d36e0",
   "metadata": {},
   "outputs": [],
   "source": []
  }
 ],
 "metadata": {
  "kernelspec": {
   "display_name": "Python 3 (ipykernel)",
   "language": "python",
   "name": "python3"
  },
  "language_info": {
   "codemirror_mode": {
    "name": "ipython",
    "version": 3
   },
   "file_extension": ".py",
   "mimetype": "text/x-python",
   "name": "python",
   "nbconvert_exporter": "python",
   "pygments_lexer": "ipython3",
   "version": "3.11.3"
  }
 },
 "nbformat": 4,
 "nbformat_minor": 5
}
