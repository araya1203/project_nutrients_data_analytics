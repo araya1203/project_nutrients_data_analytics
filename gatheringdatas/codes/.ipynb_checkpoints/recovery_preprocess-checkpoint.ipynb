{
 "cells": [
  {
   "cell_type": "markdown",
   "id": "13de01a4-f19a-4d70-8b57-8f54a0cfe825",
   "metadata": {},
   "source": [
    "## recovery 전처리 시작"
   ]
  },
  {
   "cell_type": "code",
   "execution_count": 1,
   "id": "94c4fdad-1334-4363-913c-10c6b5a9e8b5",
   "metadata": {
    "tags": []
   },
   "outputs": [],
   "source": [
    "# !pip install --user python-mecab-ko pyLDAvis"
   ]
  },
  {
   "cell_type": "markdown",
   "id": "cabc72c9-b326-4acd-bf8c-520e748f5088",
   "metadata": {
    "tags": []
   },
   "source": [
    "### 쿠팡이랑 11번가 댓글 합치기"
   ]
  },
  {
   "cell_type": "code",
   "execution_count": 2,
   "id": "a7ad8628-8364-497d-af80-fee97b15bdfb",
   "metadata": {
    "tags": []
   },
   "outputs": [],
   "source": [
    "import pandas as pd"
   ]
  },
  {
   "cell_type": "code",
   "execution_count": 3,
   "id": "3d820c89-1683-484f-ae6e-ee8181baebcd",
   "metadata": {
    "tags": []
   },
   "outputs": [],
   "source": [
    "# df_recover_coup=pd.read_csv('../datasets/recovery_coupang.csv')\n",
    "# df_recover_11st=pd.read_csv('../datasets/recovery_eleven.csv')"
   ]
  },
  {
   "cell_type": "code",
   "execution_count": 4,
   "id": "f8f1d231-59ea-4ab4-a4f1-f9273f18c889",
   "metadata": {
    "tags": []
   },
   "outputs": [],
   "source": [
    "# df_recovery_raw=pd.concat([df_recover_coup, df_recover_11st], axis=0)\n",
    "# df_recovery_raw"
   ]
  },
  {
   "cell_type": "code",
   "execution_count": 5,
   "id": "a8a83c8e-fc9c-4c65-ae28-e07edafffb8f",
   "metadata": {
    "tags": []
   },
   "outputs": [],
   "source": [
    "# df_recovery_raw.isnull().sum()"
   ]
  },
  {
   "cell_type": "code",
   "execution_count": 6,
   "id": "a1ff66b2-b60e-4278-882e-09de7b3a7c7c",
   "metadata": {
    "tags": []
   },
   "outputs": [],
   "source": [
    "# df_recovery_raw=df_recovery_raw.dropna()"
   ]
  },
  {
   "cell_type": "code",
   "execution_count": 7,
   "id": "1c130549-d403-4213-8ec2-2f1de3c19d04",
   "metadata": {
    "tags": []
   },
   "outputs": [],
   "source": [
    "# df_recovery_raw"
   ]
  },
  {
   "cell_type": "code",
   "execution_count": 8,
   "id": "f4004a70-0bf1-406c-a52c-4ded96ae2229",
   "metadata": {
    "tags": []
   },
   "outputs": [],
   "source": [
    "# df_recovery_raw=df_recovery_raw.drop(columns=['Unnamed: 0','_id'])"
   ]
  },
  {
   "cell_type": "code",
   "execution_count": 9,
   "id": "63320d13-b4e7-4525-b1f7-081300abc3b6",
   "metadata": {
    "tags": []
   },
   "outputs": [],
   "source": [
    "# df_recovery = df_recovery_raw.reset_index(drop=True)\n",
    "# df_recovery"
   ]
  },
  {
   "cell_type": "code",
   "execution_count": 10,
   "id": "833e9f31-ea0f-4dba-bb0e-29a63eba78b8",
   "metadata": {
    "tags": []
   },
   "outputs": [],
   "source": [
    "# df_recovery.to_csv('../datasets/recovery.csv')\n",
    "df_recovery=pd.read_csv('../datasets/recovery.csv')"
   ]
  },
  {
   "cell_type": "code",
   "execution_count": 11,
   "id": "6ce2ba67-248d-4f7a-888a-d24791dae924",
   "metadata": {
    "tags": []
   },
   "outputs": [],
   "source": [
    "df_recovery=df_recovery.drop(columns=['Unnamed: 0'])"
   ]
  },
  {
   "cell_type": "markdown",
   "id": "113d760d-25a2-45c3-9870-efb38da5870c",
   "metadata": {},
   "source": [
    "### 불용어 처리 및 한글자 살리기 및 단어 치환, "
   ]
  },
  {
   "cell_type": "markdown",
   "id": "ef06d31a-74ca-41ba-9360-3f3eab24fa83",
   "metadata": {
    "tags": []
   },
   "source": [
    "#### 전처리 필요한 파일들 가져오기"
   ]
  },
  {
   "cell_type": "code",
   "execution_count": 12,
   "id": "032d1652-0041-4eee-b188-f22c75bd1dc8",
   "metadata": {
    "tags": []
   },
   "outputs": [
    {
     "data": {
      "text/html": [
       "<div>\n",
       "<style scoped>\n",
       "    .dataframe tbody tr th:only-of-type {\n",
       "        vertical-align: middle;\n",
       "    }\n",
       "\n",
       "    .dataframe tbody tr th {\n",
       "        vertical-align: top;\n",
       "    }\n",
       "\n",
       "    .dataframe thead th {\n",
       "        text-align: right;\n",
       "    }\n",
       "</style>\n",
       "<table border=\"1\" class=\"dataframe\">\n",
       "  <thead>\n",
       "    <tr style=\"text-align: right;\">\n",
       "      <th></th>\n",
       "      <th>before_replacement</th>\n",
       "      <th>after_replacement</th>\n",
       "    </tr>\n",
       "  </thead>\n",
       "  <tbody>\n",
       "    <tr>\n",
       "      <th>0</th>\n",
       "      <td>만졷ㄱ</td>\n",
       "      <td>만족</td>\n",
       "    </tr>\n",
       "    <tr>\n",
       "      <th>1</th>\n",
       "      <td>않좋아서</td>\n",
       "      <td>안좋아서</td>\n",
       "    </tr>\n",
       "    <tr>\n",
       "      <th>2</th>\n",
       "      <td>괜찮네요</td>\n",
       "      <td>보통이예요</td>\n",
       "    </tr>\n",
       "    <tr>\n",
       "      <th>3</th>\n",
       "      <td>시킬껭</td>\n",
       "      <td>시킬게요</td>\n",
       "    </tr>\n",
       "    <tr>\n",
       "      <th>4</th>\n",
       "      <td>용</td>\n",
       "      <td>요</td>\n",
       "    </tr>\n",
       "  </tbody>\n",
       "</table>\n",
       "</div>"
      ],
      "text/plain": [
       "  before_replacement after_replacement\n",
       "0                만졷ㄱ                만족\n",
       "1               않좋아서              안좋아서\n",
       "2               괜찮네요             보통이예요\n",
       "3                시킬껭              시킬게요\n",
       "4                  용                 요"
      ]
     },
     "execution_count": 12,
     "metadata": {},
     "output_type": "execute_result"
    }
   ],
   "source": [
    "# 대체어\n",
    "df_replace = pd.read_excel('../datasets/sa_replace_list.xlsx')\n",
    "df_replace[:5]"
   ]
  },
  {
   "cell_type": "code",
   "execution_count": 13,
   "id": "5d540a7d-c4a1-4150-b326-a2d0072783d5",
   "metadata": {
    "tags": []
   },
   "outputs": [
    {
     "data": {
      "text/html": [
       "<div>\n",
       "<style scoped>\n",
       "    .dataframe tbody tr th:only-of-type {\n",
       "        vertical-align: middle;\n",
       "    }\n",
       "\n",
       "    .dataframe tbody tr th {\n",
       "        vertical-align: top;\n",
       "    }\n",
       "\n",
       "    .dataframe thead th {\n",
       "        text-align: right;\n",
       "    }\n",
       "</style>\n",
       "<table border=\"1\" class=\"dataframe\">\n",
       "  <thead>\n",
       "    <tr style=\"text-align: right;\">\n",
       "      <th></th>\n",
       "      <th>stopword</th>\n",
       "    </tr>\n",
       "  </thead>\n",
       "  <tbody>\n",
       "    <tr>\n",
       "      <th>0</th>\n",
       "      <td>가까스로</td>\n",
       "    </tr>\n",
       "    <tr>\n",
       "      <th>1</th>\n",
       "      <td>가량</td>\n",
       "    </tr>\n",
       "    <tr>\n",
       "      <th>2</th>\n",
       "      <td>가령</td>\n",
       "    </tr>\n",
       "    <tr>\n",
       "      <th>3</th>\n",
       "      <td>가민</td>\n",
       "    </tr>\n",
       "    <tr>\n",
       "      <th>4</th>\n",
       "      <td>가민커넥트</td>\n",
       "    </tr>\n",
       "  </tbody>\n",
       "</table>\n",
       "</div>"
      ],
      "text/plain": [
       "  stopword\n",
       "0     가까스로\n",
       "1       가량\n",
       "2       가령\n",
       "3       가민\n",
       "4    가민커넥트"
      ]
     },
     "execution_count": 13,
     "metadata": {},
     "output_type": "execute_result"
    }
   ],
   "source": [
    "# 불용어 \n",
    "df_stop = pd.read_excel('../datasets/sa_stopword_list.xlsx')\n",
    "df_stop[:5]"
   ]
  },
  {
   "cell_type": "code",
   "execution_count": 14,
   "id": "80ff0f77-dd1a-4de7-b84c-34f26edd7302",
   "metadata": {
    "tags": []
   },
   "outputs": [
    {
     "data": {
      "text/html": [
       "<div>\n",
       "<style scoped>\n",
       "    .dataframe tbody tr th:only-of-type {\n",
       "        vertical-align: middle;\n",
       "    }\n",
       "\n",
       "    .dataframe tbody tr th {\n",
       "        vertical-align: top;\n",
       "    }\n",
       "\n",
       "    .dataframe thead th {\n",
       "        text-align: right;\n",
       "    }\n",
       "</style>\n",
       "<table border=\"1\" class=\"dataframe\">\n",
       "  <thead>\n",
       "    <tr style=\"text-align: right;\">\n",
       "      <th></th>\n",
       "      <th>one_char_keyword</th>\n",
       "    </tr>\n",
       "  </thead>\n",
       "  <tbody>\n",
       "    <tr>\n",
       "      <th>0</th>\n",
       "      <td>컵</td>\n",
       "    </tr>\n",
       "    <tr>\n",
       "      <th>1</th>\n",
       "      <td>방</td>\n",
       "    </tr>\n",
       "    <tr>\n",
       "      <th>2</th>\n",
       "      <td>물</td>\n",
       "    </tr>\n",
       "    <tr>\n",
       "      <th>3</th>\n",
       "      <td>돈</td>\n",
       "    </tr>\n",
       "    <tr>\n",
       "      <th>4</th>\n",
       "      <td>꿈</td>\n",
       "    </tr>\n",
       "  </tbody>\n",
       "</table>\n",
       "</div>"
      ],
      "text/plain": [
       "  one_char_keyword\n",
       "0                컵\n",
       "1                방\n",
       "2                물\n",
       "3                돈\n",
       "4                꿈"
      ]
     },
     "execution_count": 14,
     "metadata": {},
     "output_type": "execute_result"
    }
   ],
   "source": [
    "# 한글자 살리기\n",
    "df_oneword=pd.read_excel('../datasets/sa_one_char_list.xlsx')\n",
    "df_oneword[:5]"
   ]
  },
  {
   "cell_type": "markdown",
   "id": "1f29a161-efe4-4411-8103-bb35b48b8007",
   "metadata": {},
   "source": [
    "#### 전처리 시작 \n",
    "- 1. 단어 치환 하기 \n",
    "- 2. 불용어 처리 하기 \n",
    "- 3. okt 이용해서 stemming 하기 _ 부사를 동사 원형으로 바꿔서 보기\n",
    "<!-- mecab.pos로 토큰화하기 (.append(' '.join(token)) okt 하기  -->\n"
   ]
  },
  {
   "cell_type": "code",
   "execution_count": 15,
   "id": "bdeb7458-f69b-4641-9189-37ba7c477b1d",
   "metadata": {
    "tags": []
   },
   "outputs": [],
   "source": [
    "## 단어 치환 함수 블로그 복사\n",
    "def replace_word(review):\n",
    "    for number in range(len(df_replace['before_replacement'])):\n",
    "        try: \n",
    "            # 치환 단어만 데이터 치환\n",
    "            if replace_list['before_replacement'][number] in review_content :\n",
    "                review_content = review.replace(replace_list['before_replacement'][number], replace_list['after_replacement'][number])\n",
    "        except: \n",
    "            pass\n",
    "    return review\n",
    "                "
   ]
  },
  {
   "cell_type": "code",
   "execution_count": 16,
   "id": "73cfbe0e-17d9-4137-b6ee-2722c8d01144",
   "metadata": {
    "tags": []
   },
   "outputs": [
    {
     "data": {
      "text/html": [
       "<div>\n",
       "<style scoped>\n",
       "    .dataframe tbody tr th:only-of-type {\n",
       "        vertical-align: middle;\n",
       "    }\n",
       "\n",
       "    .dataframe tbody tr th {\n",
       "        vertical-align: top;\n",
       "    }\n",
       "\n",
       "    .dataframe thead th {\n",
       "        text-align: right;\n",
       "    }\n",
       "</style>\n",
       "<table border=\"1\" class=\"dataframe\">\n",
       "  <thead>\n",
       "    <tr style=\"text-align: right;\">\n",
       "      <th></th>\n",
       "      <th>product_name</th>\n",
       "      <th>review_date</th>\n",
       "      <th>review_content</th>\n",
       "      <th>review_star</th>\n",
       "      <th>review_writer</th>\n",
       "      <th>reveiw_replaced</th>\n",
       "    </tr>\n",
       "  </thead>\n",
       "  <tbody>\n",
       "    <tr>\n",
       "      <th>21764</th>\n",
       "      <td>푸드올로지 윤성빈PICK 에너지붐 /고함량 액상 아르기닌/ 피로회복</td>\n",
       "      <td>2022.09.23</td>\n",
       "      <td>배송 빨라요 성능 보통이에요 유통기한 보통이에요\\n제품 섭취한지 얼마되지않아.좋은지...</td>\n",
       "      <td>3.0</td>\n",
       "      <td>jong******</td>\n",
       "      <td>배송 빨라요 성능 보통이에요 유통기한 보통이에요\\n제품 섭취한지 얼마되지않아.좋은지...</td>\n",
       "    </tr>\n",
       "    <tr>\n",
       "      <th>21765</th>\n",
       "      <td>푸드올로지 윤성빈PICK 에너지붐 /고함량 액상 아르기닌/ 피로회복</td>\n",
       "      <td>2022.03.03</td>\n",
       "      <td>배송 빨라요 성능 성능이 뛰어나요 유통기한 기한이 넉넉해요\\n아침마다 일어나는게 힘...</td>\n",
       "      <td>5.0</td>\n",
       "      <td>daph****</td>\n",
       "      <td>배송 빨라요 성능 성능이 뛰어나요 유통기한 기한이 넉넉해요\\n아침마다 일어나는게 힘...</td>\n",
       "    </tr>\n",
       "    <tr>\n",
       "      <th>21766</th>\n",
       "      <td>푸드올로지 윤성빈PICK 에너지붐 /고함량 액상 아르기닌/ 피로회복</td>\n",
       "      <td>2022.02.27</td>\n",
       "      <td>배송 빨라요 성능 성능이 뛰어나요 유통기한 기한이 넉넉해요\\n요즘 들어 기력이 떨어...</td>\n",
       "      <td>5.0</td>\n",
       "      <td>neti*****************</td>\n",
       "      <td>배송 빨라요 성능 성능이 뛰어나요 유통기한 기한이 넉넉해요\\n요즘 들어 기력이 떨어...</td>\n",
       "    </tr>\n",
       "    <tr>\n",
       "      <th>21767</th>\n",
       "      <td>푸드올로지 윤성빈PICK 에너지붐 /고함량 액상 아르기닌/ 피로회복</td>\n",
       "      <td>2022.02.27</td>\n",
       "      <td>배송 빨라요 성능 성능이 뛰어나요 유통기한 보통이에요\\n지금까지 먹어본것중 아르기닌...</td>\n",
       "      <td>5.0</td>\n",
       "      <td>with*******</td>\n",
       "      <td>배송 빨라요 성능 성능이 뛰어나요 유통기한 보통이에요\\n지금까지 먹어본것중 아르기닌...</td>\n",
       "    </tr>\n",
       "    <tr>\n",
       "      <th>21768</th>\n",
       "      <td>푸드올로지 윤성빈PICK 에너지붐 /고함량 액상 아르기닌/ 피로회복</td>\n",
       "      <td>2022.08.09</td>\n",
       "      <td>배송 빨라요 성능 성능이 뛰어나요 유통기한 기한이 넉넉해요</td>\n",
       "      <td>5.0</td>\n",
       "      <td>jhi8**</td>\n",
       "      <td>배송 빨라요 성능 성능이 뛰어나요 유통기한 기한이 넉넉해요</td>\n",
       "    </tr>\n",
       "    <tr>\n",
       "      <th>21769</th>\n",
       "      <td>푸드올로지 윤성빈PICK 에너지붐 /고함량 액상 아르기닌/ 피로회복</td>\n",
       "      <td>2022.07.15</td>\n",
       "      <td>배송 빨라요 성능 성능이 별로예요 유통기한 기한이 넉넉해요\\n2박스 먹어봤으나 피로...</td>\n",
       "      <td>2.0</td>\n",
       "      <td>rkdg****</td>\n",
       "      <td>배송 빨라요 성능 성능이 별로예요 유통기한 기한이 넉넉해요\\n2박스 먹어봤으나 피로...</td>\n",
       "    </tr>\n",
       "    <tr>\n",
       "      <th>21770</th>\n",
       "      <td>푸드올로지 윤성빈PICK 에너지붐 /고함량 액상 아르기닌/ 피로회복</td>\n",
       "      <td>2022.07.07</td>\n",
       "      <td>배송 빨라요 성능 성능이 별로예요 유통기한 보통이에요\\n호불호가 있을지 모르겠지만 ...</td>\n",
       "      <td>2.0</td>\n",
       "      <td>macg****************</td>\n",
       "      <td>배송 빨라요 성능 성능이 별로예요 유통기한 보통이에요\\n호불호가 있을지 모르겠지만 ...</td>\n",
       "    </tr>\n",
       "    <tr>\n",
       "      <th>21771</th>\n",
       "      <td>푸드올로지 윤성빈PICK 에너지붐 /고함량 액상 아르기닌/ 피로회복</td>\n",
       "      <td>2022.06.16</td>\n",
       "      <td>배송 빨라요 성능 성능이 뛰어나요 유통기한 기한이 넉넉해요</td>\n",
       "      <td>5.0</td>\n",
       "      <td>rkdg****</td>\n",
       "      <td>배송 빨라요 성능 성능이 뛰어나요 유통기한 기한이 넉넉해요</td>\n",
       "    </tr>\n",
       "    <tr>\n",
       "      <th>21772</th>\n",
       "      <td>푸드올로지 윤성빈PICK 에너지붐 /고함량 액상 아르기닌/ 피로회복</td>\n",
       "      <td>2022.04.06</td>\n",
       "      <td>배송 보통이에요 성능 보통이에요 유통기한 보통이에요\\n지인 선물을줬는데  좋아했어요</td>\n",
       "      <td>5.0</td>\n",
       "      <td>채슨생</td>\n",
       "      <td>배송 보통이에요 성능 보통이에요 유통기한 보통이에요\\n지인 선물을줬는데  좋아했어요</td>\n",
       "    </tr>\n",
       "    <tr>\n",
       "      <th>21773</th>\n",
       "      <td>푸드올로지 윤성빈PICK 에너지붐 /고함량 액상 아르기닌/ 피로회복</td>\n",
       "      <td>2022.03.27</td>\n",
       "      <td>배송 보통이에요 성능 성능이 뛰어나요 유통기한 보통이에요</td>\n",
       "      <td>5.0</td>\n",
       "      <td>smcd***</td>\n",
       "      <td>배송 보통이에요 성능 성능이 뛰어나요 유통기한 보통이에요</td>\n",
       "    </tr>\n",
       "  </tbody>\n",
       "</table>\n",
       "</div>"
      ],
      "text/plain": [
       "                                product_name review_date  \\\n",
       "21764  푸드올로지 윤성빈PICK 에너지붐 /고함량 액상 아르기닌/ 피로회복  2022.09.23   \n",
       "21765  푸드올로지 윤성빈PICK 에너지붐 /고함량 액상 아르기닌/ 피로회복  2022.03.03   \n",
       "21766  푸드올로지 윤성빈PICK 에너지붐 /고함량 액상 아르기닌/ 피로회복  2022.02.27   \n",
       "21767  푸드올로지 윤성빈PICK 에너지붐 /고함량 액상 아르기닌/ 피로회복  2022.02.27   \n",
       "21768  푸드올로지 윤성빈PICK 에너지붐 /고함량 액상 아르기닌/ 피로회복  2022.08.09   \n",
       "21769  푸드올로지 윤성빈PICK 에너지붐 /고함량 액상 아르기닌/ 피로회복  2022.07.15   \n",
       "21770  푸드올로지 윤성빈PICK 에너지붐 /고함량 액상 아르기닌/ 피로회복  2022.07.07   \n",
       "21771  푸드올로지 윤성빈PICK 에너지붐 /고함량 액상 아르기닌/ 피로회복  2022.06.16   \n",
       "21772  푸드올로지 윤성빈PICK 에너지붐 /고함량 액상 아르기닌/ 피로회복  2022.04.06   \n",
       "21773  푸드올로지 윤성빈PICK 에너지붐 /고함량 액상 아르기닌/ 피로회복  2022.03.27   \n",
       "\n",
       "                                          review_content  review_star  \\\n",
       "21764  배송 빨라요 성능 보통이에요 유통기한 보통이에요\\n제품 섭취한지 얼마되지않아.좋은지...          3.0   \n",
       "21765  배송 빨라요 성능 성능이 뛰어나요 유통기한 기한이 넉넉해요\\n아침마다 일어나는게 힘...          5.0   \n",
       "21766  배송 빨라요 성능 성능이 뛰어나요 유통기한 기한이 넉넉해요\\n요즘 들어 기력이 떨어...          5.0   \n",
       "21767  배송 빨라요 성능 성능이 뛰어나요 유통기한 보통이에요\\n지금까지 먹어본것중 아르기닌...          5.0   \n",
       "21768                   배송 빨라요 성능 성능이 뛰어나요 유통기한 기한이 넉넉해요          5.0   \n",
       "21769  배송 빨라요 성능 성능이 별로예요 유통기한 기한이 넉넉해요\\n2박스 먹어봤으나 피로...          2.0   \n",
       "21770  배송 빨라요 성능 성능이 별로예요 유통기한 보통이에요\\n호불호가 있을지 모르겠지만 ...          2.0   \n",
       "21771                   배송 빨라요 성능 성능이 뛰어나요 유통기한 기한이 넉넉해요          5.0   \n",
       "21772     배송 보통이에요 성능 보통이에요 유통기한 보통이에요\\n지인 선물을줬는데  좋아했어요          5.0   \n",
       "21773                    배송 보통이에요 성능 성능이 뛰어나요 유통기한 보통이에요          5.0   \n",
       "\n",
       "               review_writer  \\\n",
       "21764             jong******   \n",
       "21765               daph****   \n",
       "21766  neti*****************   \n",
       "21767            with*******   \n",
       "21768                 jhi8**   \n",
       "21769               rkdg****   \n",
       "21770   macg****************   \n",
       "21771               rkdg****   \n",
       "21772                    채슨생   \n",
       "21773                smcd***   \n",
       "\n",
       "                                         reveiw_replaced  \n",
       "21764  배송 빨라요 성능 보통이에요 유통기한 보통이에요\\n제품 섭취한지 얼마되지않아.좋은지...  \n",
       "21765  배송 빨라요 성능 성능이 뛰어나요 유통기한 기한이 넉넉해요\\n아침마다 일어나는게 힘...  \n",
       "21766  배송 빨라요 성능 성능이 뛰어나요 유통기한 기한이 넉넉해요\\n요즘 들어 기력이 떨어...  \n",
       "21767  배송 빨라요 성능 성능이 뛰어나요 유통기한 보통이에요\\n지금까지 먹어본것중 아르기닌...  \n",
       "21768                   배송 빨라요 성능 성능이 뛰어나요 유통기한 기한이 넉넉해요  \n",
       "21769  배송 빨라요 성능 성능이 별로예요 유통기한 기한이 넉넉해요\\n2박스 먹어봤으나 피로...  \n",
       "21770  배송 빨라요 성능 성능이 별로예요 유통기한 보통이에요\\n호불호가 있을지 모르겠지만 ...  \n",
       "21771                   배송 빨라요 성능 성능이 뛰어나요 유통기한 기한이 넉넉해요  \n",
       "21772     배송 보통이에요 성능 보통이에요 유통기한 보통이에요\\n지인 선물을줬는데  좋아했어요  \n",
       "21773                    배송 보통이에요 성능 성능이 뛰어나요 유통기한 보통이에요  "
      ]
     },
     "execution_count": 16,
     "metadata": {},
     "output_type": "execute_result"
    }
   ],
   "source": [
    "## 단어 치환 함수 블로그 복사\n",
    "df_recovery['reveiw_replaced'] = ''\n",
    "review_replaced_list = list()\n",
    "for review in df_recovery['review_content']:\n",
    "    review_replaced = replace_word(str(review))\n",
    "    review_replaced_list.append(review_replaced)\n",
    "df_recovery['reveiw_replaced'] = review_replaced_list\n",
    "df_recovery[-10:]"
   ]
  },
  {
   "cell_type": "code",
   "execution_count": 41,
   "id": "f94669f7-62f1-4bea-88ba-b1d67504635e",
   "metadata": {
    "tags": []
   },
   "outputs": [],
   "source": [
    "# 내용의 토큰화 먼저_healthapp 복사\n",
    "from mecab import MeCab\n",
    "mecab = MeCab()\n",
    "from konlpy.tag import Okt\n",
    "okt = Okt()\n",
    "stop=df_stop['stopword'].tolist()\n",
    "oneword=df_oneword['one_char_keyword'].tolist()"
   ]
  },
  {
   "cell_type": "code",
   "execution_count": 42,
   "id": "68616742-f12a-4a49-9586-563b03eb1e99",
   "metadata": {
    "tags": []
   },
   "outputs": [],
   "source": [
    "# 불용어 제거 _ 블로그 및 chat\n",
    "def stopword(text) :\n",
    "    words = text.split() # text를 공백 기준으로 단어 분할한 뒤, 불용어 처리 진행 \n",
    "    removed_words = [word for word in words if word not in stop]\n",
    "    return ' '.join(removed_words)"
   ]
  },
  {
   "cell_type": "code",
   "execution_count": 45,
   "id": "6e10c877-e4e0-4cad-b723-b56ccf4eb2e6",
   "metadata": {
    "tags": []
   },
   "outputs": [],
   "source": [
    "## 불용어 처리 완료 \n",
    "df_recovery['stopremoved_reviews']=df_recovery['reveiw_replaced'].apply(stopword)"
   ]
  },
  {
   "cell_type": "code",
   "execution_count": 44,
   "id": "d757020f-e182-461c-9e6e-1777ed2db076",
   "metadata": {
    "tags": []
   },
   "outputs": [],
   "source": [
    "# tokenized_reviews = list()\n",
    "# # df_recovery['stopremoved_reviews'] 열의 각 텍스트에 대해 토큰화 수행 \n",
    "# for review_text in df_recovery['stopremoved_reviews']:\n",
    "#     tokens = []\n",
    "#     try:\n",
    "#         for word in mecab.pos(review_text):\n",
    "#             token, pos = word[0], word[1]\n",
    "#             if len(token) > 1 or token in oneword:\n",
    "#                 tokens.append(token)\n",
    "#     except:\n",
    "#         pass\n",
    "#     # tokenized_reviews.append(tokens)\n",
    "#     tokenized_reviews.append(' '.join(tokens)) # okt 형태소도 분석하기 위해 작업함. "
   ]
  },
  {
   "cell_type": "code",
   "execution_count": null,
   "id": "92bce82a-d700-4120-926d-10a3e2217092",
   "metadata": {
    "tags": []
   },
   "outputs": [],
   "source": [
    "tokenized_reviews = list()\n",
    "# df_recovery['stopremoved_reviews'] 열의 각 텍스트에 대해 토큰화 수행 \n",
    "for review_text in df_recovery['stopremoved_reviews']:\n",
    "    tokens = []\n",
    "    try:\n",
    "        for word, pos in okt.pos(review_text, norm=True, stem=True):\n",
    "            if len(word) > 1 or word in oneword:\n",
    "                tokens.append(word)\n",
    "    except:\n",
    "        pass\n",
    "    tokenized_reviews.append(' '.join(tokens))"
   ]
  },
  {
   "cell_type": "code",
   "execution_count": 38,
   "id": "121c9f8d-ff0f-45d1-80be-4bfe27eec10a",
   "metadata": {
    "tags": []
   },
   "outputs": [],
   "source": [
    "# 토큰화된 결과를 새로운 열 'tokenized_review'에 추가\n",
    "df_recovery['tokenized_review'] = tokenized_reviews"
   ]
  },
  {
   "cell_type": "code",
   "execution_count": 40,
   "id": "c62b942a-f951-43f9-b10e-bb0c3fcb90e8",
   "metadata": {
    "tags": []
   },
   "outputs": [
    {
     "data": {
      "text/plain": [
       "0                               아요 피곤 느낌 사라졌 네요 물 삼키 고요 ..\n",
       "1                                복용 한지 얼마 않 지만 피로 회복 활력 증강\n",
       "2        함량 으면서 품질 제품 구매 어요 항상 체력 부분 굉장히 힘들 어서 한약 면서 체력...\n",
       "3        업무 강도 져서 인지 입맛 힘들 길래 구매 어요 성분 함량 다른 보다 아서 괜찮 더...\n",
       "4        코로나 확진 떨어진 컨디션 올라오 않 아서요 블랙 마카 남자 한테 특화 영양제 어서...\n",
       "                               ...                        \n",
       "21769    배송 빨라요 성능 성능 별로 예요 유통 기한 기한 넉넉 해요 박스 봤으나 피로 회복...\n",
       "21770    배송 빨라요 성능 성능 별로 예요 유통 기한 보통 에요 호불호 을지 모르 지만 너무...\n",
       "21771                      배송 빨라요 성능 성능 뛰어나 유통 기한 기한 넉넉 해요\n",
       "21772            배송 보통 에요 성능 보통 에요 유통 기한 보통 에요 지인 선물 는데 어요\n",
       "21773                       배송 보통 에요 성능 성능 뛰어나 유통 기한 보통 에요\n",
       "Name: tokenized_review, Length: 21774, dtype: object"
      ]
     },
     "execution_count": 40,
     "metadata": {},
     "output_type": "execute_result"
    }
   ],
   "source": [
    "tokenized_review=df_recovery['tokenized_review']\n",
    "tokenized_review"
   ]
  },
  {
   "cell_type": "code",
   "execution_count": 23,
   "id": "912f8c25-1e51-45c6-9595-ae2470deb890",
   "metadata": {
    "tags": []
   },
   "outputs": [],
   "source": [
    "# ## mecab.nouns()로 진행해보기 → okt로 변경하기\n",
    "# tokenized_nouns_reviews = list()\n",
    "# # df_recovery['reveiw_replaced'] 열의 각 텍스트에 대해 토큰화 수행\n",
    "# for review_text in df_recovery['reveiw_replaced']:\n",
    "#     tokens = []\n",
    "#     try:\n",
    "#          # mecab.nouns() 메소드로 명사 추출\n",
    "#         nouns = mecab.nouns(review_text)\n",
    "#         # 추출된 명사 중에서 길이가 1 이상인 명사 또는 one word에 있는 명사만 포함\n",
    "#         for noun in nouns:\n",
    "#             if len(noun) > 1 or noun in oneword:\n",
    "#                 tokens.append(noun)\n",
    "#     except:\n",
    "#         pass\n",
    "#     tokenized_nouns_reviews.append(tokens)"
   ]
  },
  {
   "cell_type": "code",
   "execution_count": null,
   "id": "47c13ad3-8286-4f13-afdb-3f9dcbc9793d",
   "metadata": {},
   "outputs": [],
   "source": []
  },
  {
   "cell_type": "code",
   "execution_count": null,
   "id": "f401aa02-a513-4dbc-9579-75e7607beaa1",
   "metadata": {},
   "outputs": [],
   "source": []
  }
 ],
 "metadata": {
  "kernelspec": {
   "display_name": "Python 3 (ipykernel)",
   "language": "python",
   "name": "python3"
  },
  "language_info": {
   "codemirror_mode": {
    "name": "ipython",
    "version": 3
   },
   "file_extension": ".py",
   "mimetype": "text/x-python",
   "name": "python",
   "nbconvert_exporter": "python",
   "pygments_lexer": "ipython3",
   "version": "3.11.3"
  }
 },
 "nbformat": 4,
 "nbformat_minor": 5
}
