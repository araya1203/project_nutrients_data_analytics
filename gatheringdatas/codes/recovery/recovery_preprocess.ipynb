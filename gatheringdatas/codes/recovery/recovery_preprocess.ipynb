{
 "cells": [
  {
   "cell_type": "markdown",
   "id": "13de01a4-f19a-4d70-8b57-8f54a0cfe825",
   "metadata": {},
   "source": [
    "## recovery 전처리 시작"
   ]
  },
  {
   "cell_type": "code",
   "execution_count": 1,
   "id": "2b207181-a158-43af-a6eb-ec0673e19836",
   "metadata": {
    "tags": []
   },
   "outputs": [],
   "source": [
    "import pandas as pd"
   ]
  },
  {
   "cell_type": "code",
   "execution_count": 2,
   "id": "73b305a1-2aef-480c-a48f-fe91baf5378e",
   "metadata": {
    "tags": []
   },
   "outputs": [],
   "source": [
    "df_recovery=pd.read_csv('../../datasets/reviews_data/recovery.csv')"
   ]
  },
  {
   "cell_type": "markdown",
   "id": "113d760d-25a2-45c3-9870-efb38da5870c",
   "metadata": {},
   "source": [
    "### 불용어 처리 및 한글자 살리기 및 단어 치환"
   ]
  },
  {
   "cell_type": "markdown",
   "id": "ef06d31a-74ca-41ba-9360-3f3eab24fa83",
   "metadata": {
    "tags": []
   },
   "source": [
    "#### 전처리 필요한 파일들 가져오기"
   ]
  },
  {
   "cell_type": "code",
   "execution_count": 3,
   "id": "032d1652-0041-4eee-b188-f22c75bd1dc8",
   "metadata": {
    "tags": []
   },
   "outputs": [
    {
     "data": {
      "text/html": [
       "<div>\n",
       "<style scoped>\n",
       "    .dataframe tbody tr th:only-of-type {\n",
       "        vertical-align: middle;\n",
       "    }\n",
       "\n",
       "    .dataframe tbody tr th {\n",
       "        vertical-align: top;\n",
       "    }\n",
       "\n",
       "    .dataframe thead th {\n",
       "        text-align: right;\n",
       "    }\n",
       "</style>\n",
       "<table border=\"1\" class=\"dataframe\">\n",
       "  <thead>\n",
       "    <tr style=\"text-align: right;\">\n",
       "      <th></th>\n",
       "      <th>stopword</th>\n",
       "    </tr>\n",
       "  </thead>\n",
       "  <tbody>\n",
       "    <tr>\n",
       "      <th>1177</th>\n",
       "      <td>\\r\\n</td>\n",
       "    </tr>\n",
       "    <tr>\n",
       "      <th>1178</th>\n",
       "      <td>\\n</td>\n",
       "    </tr>\n",
       "  </tbody>\n",
       "</table>\n",
       "</div>"
      ],
      "text/plain": [
       "     stopword\n",
       "1177     \\r\\n\n",
       "1178       \\n"
      ]
     },
     "execution_count": 3,
     "metadata": {},
     "output_type": "execute_result"
    }
   ],
   "source": [
    "# 불용어 \n",
    "df_stop = pd.read_excel('../../datasets/dic/stopword_list.xlsx')\n",
    "df_stop[-2:]"
   ]
  },
  {
   "cell_type": "markdown",
   "id": "1f29a161-efe4-4411-8103-bb35b48b8007",
   "metadata": {},
   "source": [
    "#### 전처리 시작 \n",
    "- 1. 형태소 분석 및 토큰화\n",
    "- 2. 단어 치환\n",
    "- 3. 불용어 처리"
   ]
  },
  {
   "cell_type": "code",
   "execution_count": 4,
   "id": "bdeb7458-f69b-4641-9189-37ba7c477b1d",
   "metadata": {
    "tags": []
   },
   "outputs": [],
   "source": [
    "from konlpy.tag import Okt\n",
    "from collections import Counter\n",
    "\n",
    "# Okt 형태소 분석기 인스턴스 생성\n",
    "okt = Okt()\n",
    "\n",
    "# df_all['reveiw_replaced'] 열의 각 텍스트에 대해 중복 단어 제거 및 형태소 분석 수행\n",
    "tokenized_reviews = []\n",
    "\n",
    "# 필요한 품사 리스트 정의\n",
    "desired_pos = ['Noun', 'Verb', 'Adjective', 'Adverb', 'Exclamation', 'Conjunction']\n",
    "\n",
    "# 형태소 분석 결과를 담을 리스트 초기화\n",
    "tokenized_reviews = []\n",
    "\n",
    "for review_text in df_recovery['review_content']:\n",
    "    try:\n",
    "        # 형태소 분석 수행\n",
    "        pos_result = okt.pos(review_text, norm=True, stem=True)\n",
    "        \n",
    "        # 필요한 조건을 만족하는 단어 선택\n",
    "        filtered_tokens = []\n",
    "        for word, pos in pos_result:\n",
    "            if pos in desired_pos and len(word) > 1:\n",
    "                filtered_tokens.append(word)\n",
    "                    \n",
    "        tokenized_reviews.append(filtered_tokens)  # 각 토큰을 개별 항목으로 유지\n",
    "    except:\n",
    "        pass"
   ]
  },
  {
   "cell_type": "code",
   "execution_count": 6,
   "id": "73cfbe0e-17d9-4137-b6ee-2722c8d01144",
   "metadata": {
    "tags": []
   },
   "outputs": [
    {
     "name": "stdout",
     "output_type": "stream",
     "text": [
      "데이터프레임 df_all과 tokenized_reviews의 크기가 일치합니다.\n"
     ]
    }
   ],
   "source": [
    "# 데이터프레임 df_all의 행 수 확인\n",
    "df_all_shape = df_recovery.shape[0]\n",
    "\n",
    "# tokenized_reviews 리스트의 길이 확인\n",
    "tokenized_reviews_length = len(tokenized_reviews)\n",
    "\n",
    "# 데이터프레임 df_all과 tokenized_reviews의 크기 비교\n",
    "if df_all_shape == tokenized_reviews_length:\n",
    "    print(\"데이터프레임 df_all과 tokenized_reviews의 크기가 일치합니다.\")\n",
    "else:\n",
    "    print(\"데이터프레임 df_all과 tokenized_reviews의 크기가 일치하지 않습니다.\")\n",
    "    print(f\"df_all의 행 수: {df_all_shape}\")\n",
    "    print(f\"tokenized_reviews의 길이: {tokenized_reviews_length}\")"
   ]
  },
  {
   "cell_type": "code",
   "execution_count": 7,
   "id": "48233478-65c9-4790-b42f-cb3b13398101",
   "metadata": {
    "tags": []
   },
   "outputs": [],
   "source": [
    "df_recovery['reveiw_replaced']=tokenized_reviews"
   ]
  },
  {
   "cell_type": "code",
   "execution_count": 8,
   "id": "68616742-f12a-4a49-9586-563b03eb1e99",
   "metadata": {
    "tags": []
   },
   "outputs": [],
   "source": [
    "# 불용어 목록을 리스트로 변환\n",
    "stop_list = df_stop['stopword'].tolist()\n",
    "\n",
    "# 불용어 처리 함수 정의\n",
    "def stopword(tokens):\n",
    "    removed_tokens = [word for word in tokens if word not in stop_list]\n",
    "    return ' '.join(removed_tokens)"
   ]
  },
  {
   "cell_type": "code",
   "execution_count": 9,
   "id": "6e10c877-e4e0-4cad-b723-b56ccf4eb2e6",
   "metadata": {
    "tags": []
   },
   "outputs": [],
   "source": [
    "# df_all['origin_reviews'] 열의 각 리스트에 불용어 처리 적용하고 쪼개기\n",
    "df_recovery['replaced_review'] = df_recovery['reveiw_replaced'].apply(stopword)"
   ]
  },
  {
   "cell_type": "code",
   "execution_count": 10,
   "id": "87076da3-84c5-4d66-9162-72f691831cc1",
   "metadata": {
    "tags": []
   },
   "outputs": [
    {
     "data": {
      "text/html": [
       "<div>\n",
       "<style scoped>\n",
       "    .dataframe tbody tr th:only-of-type {\n",
       "        vertical-align: middle;\n",
       "    }\n",
       "\n",
       "    .dataframe tbody tr th {\n",
       "        vertical-align: top;\n",
       "    }\n",
       "\n",
       "    .dataframe thead th {\n",
       "        text-align: right;\n",
       "    }\n",
       "</style>\n",
       "<table border=\"1\" class=\"dataframe\">\n",
       "  <thead>\n",
       "    <tr style=\"text-align: right;\">\n",
       "      <th></th>\n",
       "      <th>Unnamed: 0</th>\n",
       "      <th>product_name</th>\n",
       "      <th>review_date</th>\n",
       "      <th>review_content</th>\n",
       "      <th>review_star</th>\n",
       "      <th>review_writer</th>\n",
       "      <th>reveiw_replaced</th>\n",
       "      <th>replaced_review</th>\n",
       "    </tr>\n",
       "  </thead>\n",
       "  <tbody>\n",
       "    <tr>\n",
       "      <th>0</th>\n",
       "      <td>0</td>\n",
       "      <td>[조아제약] 블랙마카 마스터클래스 아르기닌 야관문 흑마늘 활력강화, 60정, 810...</td>\n",
       "      <td>2023.09.07</td>\n",
       "      <td>일주일 정도 먹은거 같은데 좋아요..피곤한 느낌이 많이 사라졌네요..\\r\\n맛은 뭐...</td>\n",
       "      <td>5.0</td>\n",
       "      <td>이*철</td>\n",
       "      <td>[일주일, 정도, 먹다, 같다, 좋다, 피곤하다, 느낌, 많이, 사라지다, 그냥, ...</td>\n",
       "      <td>좋다 피곤하다 사라지다 삼키다</td>\n",
       "    </tr>\n",
       "    <tr>\n",
       "      <th>1</th>\n",
       "      <td>1</td>\n",
       "      <td>[조아제약] 블랙마카 마스터클래스 아르기닌 야관문 흑마늘 활력강화, 60정, 810...</td>\n",
       "      <td>2023.08.05</td>\n",
       "      <td>복용한지 얼마되지않았지만 피로회복 활력증강에 좋은것 같아요</td>\n",
       "      <td>5.0</td>\n",
       "      <td>김*운</td>\n",
       "      <td>[복용, 한지, 얼마, 되다, 않다, 피로, 회복, 증강, 좋다, 같다]</td>\n",
       "      <td>복용 한지 피로 회복 증강 좋다</td>\n",
       "    </tr>\n",
       "    <tr>\n",
       "      <th>2</th>\n",
       "      <td>2</td>\n",
       "      <td>[조아제약] 블랙마카 마스터클래스 아르기닌 야관문 흑마늘 활력강화, 60정, 810...</td>\n",
       "      <td>2022.06.02</td>\n",
       "      <td>함량 높으면서도 품질 좋은 제품이라 믿고 구매했어요. 항상 체력적인 부분이 굉장히 ...</td>\n",
       "      <td>5.0</td>\n",
       "      <td>한*선</td>\n",
       "      <td>[함량, 높다, 품질, 좋다, 제품, 믿다, 구매, 하다, 항상, 체력, 부분, 굉...</td>\n",
       "      <td>함량 높다 품질 좋다 제품 믿다 구매 항상 체력 굉장하다 힘들다 한약 먹어주다 체력...</td>\n",
       "    </tr>\n",
       "    <tr>\n",
       "      <th>3</th>\n",
       "      <td>3</td>\n",
       "      <td>[조아제약] 블랙마카 마스터클래스 아르기닌 야관문 흑마늘 활력강화, 60정, 810...</td>\n",
       "      <td>2022.05.30</td>\n",
       "      <td>요즘 업무강도가 세져서 인지 집에만 오면 입맛도 없어 하고\\r\\n힘들어 하길래 구매...</td>\n",
       "      <td>5.0</td>\n",
       "      <td>노해바라기</td>\n",
       "      <td>[요즘, 업무, 강도, 세다, 인지, 오다, 입맛, 없다, 하다, 힘들다, 하다, ...</td>\n",
       "      <td>업무 강도 세다 인지 입맛 힘들다 구매 해주다 성분 좋다 함량 높다 괜찮다 알약 타...</td>\n",
       "    </tr>\n",
       "    <tr>\n",
       "      <th>4</th>\n",
       "      <td>4</td>\n",
       "      <td>[조아제약] 블랙마카 마스터클래스 아르기닌 야관문 흑마늘 활력강화, 60정, 810...</td>\n",
       "      <td>2022.05.25</td>\n",
       "      <td>코로나 확진 이후 떨어진 컨디션이 쉽게 올라오질 않아서요. 블랙마카가 남자한테 특화...</td>\n",
       "      <td>5.0</td>\n",
       "      <td>최*득</td>\n",
       "      <td>[코로나, 확진, 이후, 떨어지다, 컨디션, 쉬다, 올라오다, 않다, 블랙, 마카,...</td>\n",
       "      <td>코로나 확진 떨어지다 컨디션 쉬다 올라오다 블랙 마카 특화된 양제 기울다 사다 블랙...</td>\n",
       "    </tr>\n",
       "  </tbody>\n",
       "</table>\n",
       "</div>"
      ],
      "text/plain": [
       "   Unnamed: 0                                       product_name review_date  \\\n",
       "0           0  [조아제약] 블랙마카 마스터클래스 아르기닌 야관문 흑마늘 활력강화, 60정, 810...  2023.09.07   \n",
       "1           1  [조아제약] 블랙마카 마스터클래스 아르기닌 야관문 흑마늘 활력강화, 60정, 810...  2023.08.05   \n",
       "2           2  [조아제약] 블랙마카 마스터클래스 아르기닌 야관문 흑마늘 활력강화, 60정, 810...  2022.06.02   \n",
       "3           3  [조아제약] 블랙마카 마스터클래스 아르기닌 야관문 흑마늘 활력강화, 60정, 810...  2022.05.30   \n",
       "4           4  [조아제약] 블랙마카 마스터클래스 아르기닌 야관문 흑마늘 활력강화, 60정, 810...  2022.05.25   \n",
       "\n",
       "                                      review_content  review_star  \\\n",
       "0  일주일 정도 먹은거 같은데 좋아요..피곤한 느낌이 많이 사라졌네요..\\r\\n맛은 뭐...          5.0   \n",
       "1                   복용한지 얼마되지않았지만 피로회복 활력증강에 좋은것 같아요          5.0   \n",
       "2  함량 높으면서도 품질 좋은 제품이라 믿고 구매했어요. 항상 체력적인 부분이 굉장히 ...          5.0   \n",
       "3  요즘 업무강도가 세져서 인지 집에만 오면 입맛도 없어 하고\\r\\n힘들어 하길래 구매...          5.0   \n",
       "4  코로나 확진 이후 떨어진 컨디션이 쉽게 올라오질 않아서요. 블랙마카가 남자한테 특화...          5.0   \n",
       "\n",
       "  review_writer                                    reveiw_replaced  \\\n",
       "0          이*철   [일주일, 정도, 먹다, 같다, 좋다, 피곤하다, 느낌, 많이, 사라지다, 그냥, ...   \n",
       "1          김*운            [복용, 한지, 얼마, 되다, 않다, 피로, 회복, 증강, 좋다, 같다]   \n",
       "2          한*선   [함량, 높다, 품질, 좋다, 제품, 믿다, 구매, 하다, 항상, 체력, 부분, 굉...   \n",
       "3        노해바라기   [요즘, 업무, 강도, 세다, 인지, 오다, 입맛, 없다, 하다, 힘들다, 하다, ...   \n",
       "4          최*득   [코로나, 확진, 이후, 떨어지다, 컨디션, 쉬다, 올라오다, 않다, 블랙, 마카,...   \n",
       "\n",
       "                                     replaced_review  \n",
       "0                                   좋다 피곤하다 사라지다 삼키다  \n",
       "1                                  복용 한지 피로 회복 증강 좋다  \n",
       "2  함량 높다 품질 좋다 제품 믿다 구매 항상 체력 굉장하다 힘들다 한약 먹어주다 체력...  \n",
       "3  업무 강도 세다 인지 입맛 힘들다 구매 해주다 성분 좋다 함량 높다 괜찮다 알약 타...  \n",
       "4  코로나 확진 떨어지다 컨디션 쉬다 올라오다 블랙 마카 특화된 양제 기울다 사다 블랙...  "
      ]
     },
     "execution_count": 10,
     "metadata": {},
     "output_type": "execute_result"
    }
   ],
   "source": [
    "df_recovery[:5]"
   ]
  },
  {
   "cell_type": "code",
   "execution_count": 11,
   "id": "38c925a9-24b9-4134-981d-4d27b4e67a05",
   "metadata": {
    "tags": []
   },
   "outputs": [],
   "source": [
    "# ' '이 포함된 레코드를 찾아서 제거\n",
    "df_recovery = df_recovery[df_recovery['replaced_review'] != '']"
   ]
  },
  {
   "cell_type": "code",
   "execution_count": 12,
   "id": "886c8713-b638-48c0-a46f-3b9412319d20",
   "metadata": {
    "tags": []
   },
   "outputs": [],
   "source": [
    "df_recovery.to_csv('./recovery_preprocess.csv')"
   ]
  },
  {
   "cell_type": "code",
   "execution_count": 13,
   "id": "e2412dc4-628a-40d4-9905-695cd8808e23",
   "metadata": {
    "tags": []
   },
   "outputs": [
    {
     "data": {
      "text/html": [
       "<div>\n",
       "<style scoped>\n",
       "    .dataframe tbody tr th:only-of-type {\n",
       "        vertical-align: middle;\n",
       "    }\n",
       "\n",
       "    .dataframe tbody tr th {\n",
       "        vertical-align: top;\n",
       "    }\n",
       "\n",
       "    .dataframe thead th {\n",
       "        text-align: right;\n",
       "    }\n",
       "</style>\n",
       "<table border=\"1\" class=\"dataframe\">\n",
       "  <thead>\n",
       "    <tr style=\"text-align: right;\">\n",
       "      <th></th>\n",
       "      <th>Unnamed: 0</th>\n",
       "      <th>product_name</th>\n",
       "      <th>review_date</th>\n",
       "      <th>review_content</th>\n",
       "      <th>review_star</th>\n",
       "      <th>review_writer</th>\n",
       "      <th>reveiw_replaced</th>\n",
       "      <th>replaced_review</th>\n",
       "    </tr>\n",
       "  </thead>\n",
       "  <tbody>\n",
       "    <tr>\n",
       "      <th>0</th>\n",
       "      <td>0</td>\n",
       "      <td>[조아제약] 블랙마카 마스터클래스 아르기닌 야관문 흑마늘 활력강화, 60정, 810...</td>\n",
       "      <td>2023.09.07</td>\n",
       "      <td>일주일 정도 먹은거 같은데 좋아요..피곤한 느낌이 많이 사라졌네요..\\r\\n맛은 뭐...</td>\n",
       "      <td>5.0</td>\n",
       "      <td>이*철</td>\n",
       "      <td>[일주일, 정도, 먹다, 같다, 좋다, 피곤하다, 느낌, 많이, 사라지다, 그냥, ...</td>\n",
       "      <td>좋다 피곤하다 사라지다 삼키다</td>\n",
       "    </tr>\n",
       "    <tr>\n",
       "      <th>1</th>\n",
       "      <td>1</td>\n",
       "      <td>[조아제약] 블랙마카 마스터클래스 아르기닌 야관문 흑마늘 활력강화, 60정, 810...</td>\n",
       "      <td>2023.08.05</td>\n",
       "      <td>복용한지 얼마되지않았지만 피로회복 활력증강에 좋은것 같아요</td>\n",
       "      <td>5.0</td>\n",
       "      <td>김*운</td>\n",
       "      <td>[복용, 한지, 얼마, 되다, 않다, 피로, 회복, 증강, 좋다, 같다]</td>\n",
       "      <td>복용 한지 피로 회복 증강 좋다</td>\n",
       "    </tr>\n",
       "    <tr>\n",
       "      <th>2</th>\n",
       "      <td>2</td>\n",
       "      <td>[조아제약] 블랙마카 마스터클래스 아르기닌 야관문 흑마늘 활력강화, 60정, 810...</td>\n",
       "      <td>2022.06.02</td>\n",
       "      <td>함량 높으면서도 품질 좋은 제품이라 믿고 구매했어요. 항상 체력적인 부분이 굉장히 ...</td>\n",
       "      <td>5.0</td>\n",
       "      <td>한*선</td>\n",
       "      <td>[함량, 높다, 품질, 좋다, 제품, 믿다, 구매, 하다, 항상, 체력, 부분, 굉...</td>\n",
       "      <td>함량 높다 품질 좋다 제품 믿다 구매 항상 체력 굉장하다 힘들다 한약 먹어주다 체력...</td>\n",
       "    </tr>\n",
       "    <tr>\n",
       "      <th>3</th>\n",
       "      <td>3</td>\n",
       "      <td>[조아제약] 블랙마카 마스터클래스 아르기닌 야관문 흑마늘 활력강화, 60정, 810...</td>\n",
       "      <td>2022.05.30</td>\n",
       "      <td>요즘 업무강도가 세져서 인지 집에만 오면 입맛도 없어 하고\\r\\n힘들어 하길래 구매...</td>\n",
       "      <td>5.0</td>\n",
       "      <td>노해바라기</td>\n",
       "      <td>[요즘, 업무, 강도, 세다, 인지, 오다, 입맛, 없다, 하다, 힘들다, 하다, ...</td>\n",
       "      <td>업무 강도 세다 인지 입맛 힘들다 구매 해주다 성분 좋다 함량 높다 괜찮다 알약 타...</td>\n",
       "    </tr>\n",
       "    <tr>\n",
       "      <th>4</th>\n",
       "      <td>4</td>\n",
       "      <td>[조아제약] 블랙마카 마스터클래스 아르기닌 야관문 흑마늘 활력강화, 60정, 810...</td>\n",
       "      <td>2022.05.25</td>\n",
       "      <td>코로나 확진 이후 떨어진 컨디션이 쉽게 올라오질 않아서요. 블랙마카가 남자한테 특화...</td>\n",
       "      <td>5.0</td>\n",
       "      <td>최*득</td>\n",
       "      <td>[코로나, 확진, 이후, 떨어지다, 컨디션, 쉬다, 올라오다, 않다, 블랙, 마카,...</td>\n",
       "      <td>코로나 확진 떨어지다 컨디션 쉬다 올라오다 블랙 마카 특화된 양제 기울다 사다 블랙...</td>\n",
       "    </tr>\n",
       "    <tr>\n",
       "      <th>...</th>\n",
       "      <td>...</td>\n",
       "      <td>...</td>\n",
       "      <td>...</td>\n",
       "      <td>...</td>\n",
       "      <td>...</td>\n",
       "      <td>...</td>\n",
       "      <td>...</td>\n",
       "      <td>...</td>\n",
       "    </tr>\n",
       "    <tr>\n",
       "      <th>21769</th>\n",
       "      <td>21769</td>\n",
       "      <td>푸드올로지 윤성빈PICK 에너지붐 /고함량 액상 아르기닌/ 피로회복</td>\n",
       "      <td>2022.07.15</td>\n",
       "      <td>배송 빨라요 성능 성능이 별로예요 유통기한 기한이 넉넉해요\\r\\n2박스 먹어봤으나 ...</td>\n",
       "      <td>2.0</td>\n",
       "      <td>rkdg****</td>\n",
       "      <td>[배송, 빨르다, 성능, 성능, 별로, 유통, 기한, 기한, 넉넉하다, 박스, 먹다...</td>\n",
       "      <td>빨르다 별로 박스 피로 회복 안되다 드네</td>\n",
       "    </tr>\n",
       "    <tr>\n",
       "      <th>21770</th>\n",
       "      <td>21770</td>\n",
       "      <td>푸드올로지 윤성빈PICK 에너지붐 /고함량 액상 아르기닌/ 피로회복</td>\n",
       "      <td>2022.07.07</td>\n",
       "      <td>배송 빨라요 성능 성능이 별로예요 유통기한 보통이에요\\r\\n호불호가 있을지 모르겠지...</td>\n",
       "      <td>2.0</td>\n",
       "      <td>macg****************</td>\n",
       "      <td>[배송, 빨르다, 성능, 성능, 별로, 유통, 기한, 보통, 호불호, 있다, 모르다...</td>\n",
       "      <td>빨르다 별로 호불호 모르다 먹기 포기</td>\n",
       "    </tr>\n",
       "    <tr>\n",
       "      <th>21771</th>\n",
       "      <td>21771</td>\n",
       "      <td>푸드올로지 윤성빈PICK 에너지붐 /고함량 액상 아르기닌/ 피로회복</td>\n",
       "      <td>2022.06.16</td>\n",
       "      <td>배송 빨라요 성능 성능이 뛰어나요 유통기한 기한이 넉넉해요</td>\n",
       "      <td>5.0</td>\n",
       "      <td>rkdg****</td>\n",
       "      <td>[배송, 빨르다, 성능, 성능, 뛰어나다, 유통, 기한, 기한, 넉넉하다]</td>\n",
       "      <td>빨르다 뛰어나다</td>\n",
       "    </tr>\n",
       "    <tr>\n",
       "      <th>21772</th>\n",
       "      <td>21772</td>\n",
       "      <td>푸드올로지 윤성빈PICK 에너지붐 /고함량 액상 아르기닌/ 피로회복</td>\n",
       "      <td>2022.04.06</td>\n",
       "      <td>배송 보통이에요 성능 보통이에요 유통기한 보통이에요\\r\\n지인 선물을줬는데  좋아했어요</td>\n",
       "      <td>5.0</td>\n",
       "      <td>채슨생</td>\n",
       "      <td>[배송, 보통, 성능, 보통, 유통, 기한, 보통, 지인, 선물, 주다, 좋아하다]</td>\n",
       "      <td>지인 선물 좋아하다</td>\n",
       "    </tr>\n",
       "    <tr>\n",
       "      <th>21773</th>\n",
       "      <td>21773</td>\n",
       "      <td>푸드올로지 윤성빈PICK 에너지붐 /고함량 액상 아르기닌/ 피로회복</td>\n",
       "      <td>2022.03.27</td>\n",
       "      <td>배송 보통이에요 성능 성능이 뛰어나요 유통기한 보통이에요</td>\n",
       "      <td>5.0</td>\n",
       "      <td>smcd***</td>\n",
       "      <td>[배송, 보통, 성능, 성능, 뛰어나다, 유통, 기한, 보통]</td>\n",
       "      <td>뛰어나다</td>\n",
       "    </tr>\n",
       "  </tbody>\n",
       "</table>\n",
       "<p>21500 rows × 8 columns</p>\n",
       "</div>"
      ],
      "text/plain": [
       "       Unnamed: 0                                       product_name  \\\n",
       "0               0  [조아제약] 블랙마카 마스터클래스 아르기닌 야관문 흑마늘 활력강화, 60정, 810...   \n",
       "1               1  [조아제약] 블랙마카 마스터클래스 아르기닌 야관문 흑마늘 활력강화, 60정, 810...   \n",
       "2               2  [조아제약] 블랙마카 마스터클래스 아르기닌 야관문 흑마늘 활력강화, 60정, 810...   \n",
       "3               3  [조아제약] 블랙마카 마스터클래스 아르기닌 야관문 흑마늘 활력강화, 60정, 810...   \n",
       "4               4  [조아제약] 블랙마카 마스터클래스 아르기닌 야관문 흑마늘 활력강화, 60정, 810...   \n",
       "...           ...                                                ...   \n",
       "21769       21769              푸드올로지 윤성빈PICK 에너지붐 /고함량 액상 아르기닌/ 피로회복   \n",
       "21770       21770              푸드올로지 윤성빈PICK 에너지붐 /고함량 액상 아르기닌/ 피로회복   \n",
       "21771       21771              푸드올로지 윤성빈PICK 에너지붐 /고함량 액상 아르기닌/ 피로회복   \n",
       "21772       21772              푸드올로지 윤성빈PICK 에너지붐 /고함량 액상 아르기닌/ 피로회복   \n",
       "21773       21773              푸드올로지 윤성빈PICK 에너지붐 /고함량 액상 아르기닌/ 피로회복   \n",
       "\n",
       "      review_date                                     review_content  \\\n",
       "0      2023.09.07  일주일 정도 먹은거 같은데 좋아요..피곤한 느낌이 많이 사라졌네요..\\r\\n맛은 뭐...   \n",
       "1      2023.08.05                   복용한지 얼마되지않았지만 피로회복 활력증강에 좋은것 같아요   \n",
       "2      2022.06.02  함량 높으면서도 품질 좋은 제품이라 믿고 구매했어요. 항상 체력적인 부분이 굉장히 ...   \n",
       "3      2022.05.30  요즘 업무강도가 세져서 인지 집에만 오면 입맛도 없어 하고\\r\\n힘들어 하길래 구매...   \n",
       "4      2022.05.25  코로나 확진 이후 떨어진 컨디션이 쉽게 올라오질 않아서요. 블랙마카가 남자한테 특화...   \n",
       "...           ...                                                ...   \n",
       "21769  2022.07.15  배송 빨라요 성능 성능이 별로예요 유통기한 기한이 넉넉해요\\r\\n2박스 먹어봤으나 ...   \n",
       "21770  2022.07.07  배송 빨라요 성능 성능이 별로예요 유통기한 보통이에요\\r\\n호불호가 있을지 모르겠지...   \n",
       "21771  2022.06.16                   배송 빨라요 성능 성능이 뛰어나요 유통기한 기한이 넉넉해요   \n",
       "21772  2022.04.06   배송 보통이에요 성능 보통이에요 유통기한 보통이에요\\r\\n지인 선물을줬는데  좋아했어요   \n",
       "21773  2022.03.27                    배송 보통이에요 성능 성능이 뛰어나요 유통기한 보통이에요   \n",
       "\n",
       "       review_star         review_writer  \\\n",
       "0              5.0                  이*철    \n",
       "1              5.0                  김*운    \n",
       "2              5.0                  한*선    \n",
       "3              5.0                노해바라기    \n",
       "4              5.0                  최*득    \n",
       "...            ...                   ...   \n",
       "21769          2.0              rkdg****   \n",
       "21770          2.0  macg****************   \n",
       "21771          5.0              rkdg****   \n",
       "21772          5.0                   채슨생   \n",
       "21773          5.0               smcd***   \n",
       "\n",
       "                                         reveiw_replaced  \\\n",
       "0      [일주일, 정도, 먹다, 같다, 좋다, 피곤하다, 느낌, 많이, 사라지다, 그냥, ...   \n",
       "1               [복용, 한지, 얼마, 되다, 않다, 피로, 회복, 증강, 좋다, 같다]   \n",
       "2      [함량, 높다, 품질, 좋다, 제품, 믿다, 구매, 하다, 항상, 체력, 부분, 굉...   \n",
       "3      [요즘, 업무, 강도, 세다, 인지, 오다, 입맛, 없다, 하다, 힘들다, 하다, ...   \n",
       "4      [코로나, 확진, 이후, 떨어지다, 컨디션, 쉬다, 올라오다, 않다, 블랙, 마카,...   \n",
       "...                                                  ...   \n",
       "21769  [배송, 빨르다, 성능, 성능, 별로, 유통, 기한, 기한, 넉넉하다, 박스, 먹다...   \n",
       "21770  [배송, 빨르다, 성능, 성능, 별로, 유통, 기한, 보통, 호불호, 있다, 모르다...   \n",
       "21771          [배송, 빨르다, 성능, 성능, 뛰어나다, 유통, 기한, 기한, 넉넉하다]   \n",
       "21772     [배송, 보통, 성능, 보통, 유통, 기한, 보통, 지인, 선물, 주다, 좋아하다]   \n",
       "21773                 [배송, 보통, 성능, 성능, 뛰어나다, 유통, 기한, 보통]   \n",
       "\n",
       "                                         replaced_review  \n",
       "0                                       좋다 피곤하다 사라지다 삼키다  \n",
       "1                                      복용 한지 피로 회복 증강 좋다  \n",
       "2      함량 높다 품질 좋다 제품 믿다 구매 항상 체력 굉장하다 힘들다 한약 먹어주다 체력...  \n",
       "3      업무 강도 세다 인지 입맛 힘들다 구매 해주다 성분 좋다 함량 높다 괜찮다 알약 타...  \n",
       "4      코로나 확진 떨어지다 컨디션 쉬다 올라오다 블랙 마카 특화된 양제 기울다 사다 블랙...  \n",
       "...                                                  ...  \n",
       "21769                             빨르다 별로 박스 피로 회복 안되다 드네  \n",
       "21770                               빨르다 별로 호불호 모르다 먹기 포기  \n",
       "21771                                           빨르다 뛰어나다  \n",
       "21772                                         지인 선물 좋아하다  \n",
       "21773                                               뛰어나다  \n",
       "\n",
       "[21500 rows x 8 columns]"
      ]
     },
     "execution_count": 13,
     "metadata": {},
     "output_type": "execute_result"
    }
   ],
   "source": [
    "df_recovery"
   ]
  },
  {
   "cell_type": "markdown",
   "id": "cfa7ad78-de46-4af2-af6c-db8f88e6f4fb",
   "metadata": {
    "tags": []
   },
   "source": [
    "### 토큰화 리뷰 빈도 계산"
   ]
  },
  {
   "cell_type": "markdown",
   "id": "b9dfe17e-b4fc-431c-8a80-538792d990fd",
   "metadata": {},
   "source": [
    "##### 형태소 빈도를 계산 "
   ]
  },
  {
   "cell_type": "code",
   "execution_count": 14,
   "id": "103e4c0a-4a1e-4750-8890-c352ef4405b9",
   "metadata": {
    "tags": []
   },
   "outputs": [],
   "source": [
    "combined_text = df_recovery['replaced_review']"
   ]
  },
  {
   "cell_type": "code",
   "execution_count": 15,
   "id": "234b21aa-2201-45d5-b658-d915d4051815",
   "metadata": {
    "tags": []
   },
   "outputs": [],
   "source": [
    "from collections import Counter\n",
    "from wordcloud import WordCloud"
   ]
  },
  {
   "cell_type": "code",
   "execution_count": 16,
   "id": "6c20818b-921a-4924-a426-2c3cf4e76902",
   "metadata": {
    "tags": []
   },
   "outputs": [],
   "source": [
    "combined_text = ' '.join(df_recovery['replaced_review'])"
   ]
  },
  {
   "cell_type": "code",
   "execution_count": 17,
   "id": "31772ea0-0849-4c47-8c41-d67a0baa1950",
   "metadata": {
    "tags": []
   },
   "outputs": [],
   "source": [
    "# 단어 빈도수 카운트\n",
    "word_counts = Counter(combined_text.split())"
   ]
  },
  {
   "cell_type": "code",
   "execution_count": 18,
   "id": "52efc732-6232-4338-9b97-2cabf045f55a",
   "metadata": {
    "tags": []
   },
   "outputs": [
    {
     "data": {
      "text/plain": [
       "<wordcloud.wordcloud.WordCloud at 0x1d79e6a1a50>"
      ]
     },
     "execution_count": 18,
     "metadata": {},
     "output_type": "execute_result"
    }
   ],
   "source": [
    "# 한글 폰트 경로 설정 (Windows 환경에 맞게 경로 수정)\n",
    "font_path = 'C:/Windows/Fonts/malgun.ttf'\n",
    "\n",
    "# 단어 빈도수 딕셔너리를 WordCloud에 전달\n",
    "wordcloud = WordCloud(font_path=font_path, background_color='white')\n",
    "wordcloud.generate_from_frequencies(word_counts)"
   ]
  },
  {
   "cell_type": "code",
   "execution_count": 19,
   "id": "0a250ed7-cde7-4497-839f-9266a02d2db7",
   "metadata": {
    "collapsed": true,
    "jupyter": {
     "outputs_hidden": true
    },
    "tags": []
   },
   "outputs": [
    {
     "data": {
      "text/plain": [
       "{'좋다': 1.0,\n",
       " '비타민': 0.6583263830970253,\n",
       " '제품': 0.5053748494115466,\n",
       " '구매': 0.47660087109628396,\n",
       " '복용': 0.31206561023074786,\n",
       " '건강': 0.31035121860809933,\n",
       " '양제': 0.2840329904550088,\n",
       " '꾸준하다': 0.276619405059772,\n",
       " '가격': 0.2754610323417663,\n",
       " '섭취': 0.27337596144935594,\n",
       " '도움': 0.2586877953850431,\n",
       " '빨르다': 0.20776573070151053,\n",
       " '피로': 0.19910110277082754,\n",
       " '아니다': 0.16722268557130943,\n",
       " '먹기': 0.16370123250857196,\n",
       " '알약': 0.16175516634232232,\n",
       " '성분': 0.15929941618015012,\n",
       " '크다': 0.15253451950699656,\n",
       " '주문': 0.14924474098786025,\n",
       " '후기': 0.14493559447687887,\n",
       " '피곤하다': 0.1431285330367899,\n",
       " '괜찮다': 0.14132147159670094,\n",
       " '뛰어나다': 0.13886572143452877,\n",
       " '구입': 0.1353442683717913,\n",
       " '많다': 0.1328421833008989,\n",
       " '그렇다': 0.12797701788527477,\n",
       " '모르다': 0.12737466407191178,\n",
       " '크기': 0.12385321100917432,\n",
       " '편하다': 0.1210267815772403,\n",
       " '사다': 0.10508757297748124,\n",
       " '추천': 0.10443888425539802,\n",
       " '상태': 0.10402187007691595,\n",
       " '캡슐': 0.10226114354554722,\n",
       " '오메가': 0.0983690112130479,\n",
       " '작다': 0.0955425817811139,\n",
       " '해보다': 0.0954035770549532,\n",
       " '재다': 0.09016773236956724,\n",
       " '피부': 0.08928736910388287,\n",
       " '밀크': 0.08849967565563896,\n",
       " '느끼다': 0.0884070058381985,\n",
       " '저렴하다': 0.08798999165971642,\n",
       " '싶다': 0.08734130293763322,\n",
       " '확실하다': 0.08618293021962747,\n",
       " '드리다': 0.08553424149754425,\n",
       " '면역': 0.0853025669539431,\n",
       " '필요하다': 0.08470021314058011,\n",
       " '쿠팡': 0.0845148735056992,\n",
       " '좋아지다': 0.08326383097025299,\n",
       " '상품': 0.08317116115281253,\n",
       " '멀티': 0.08256880733944955,\n",
       " '회복': 0.08103975535168195,\n",
       " '믿다': 0.08062274117319988,\n",
       " '위해': 0.08062274117319988,\n",
       " '정말': 0.07825966082846816,\n",
       " '남편': 0.07747196738022426,\n",
       " '함량': 0.07598925030117691,\n",
       " '갱년기': 0.07585024557501621,\n",
       " '깔끔하다': 0.0747382077657307,\n",
       " '개선': 0.07459920303957002,\n",
       " '루테': 0.07418218886108795,\n",
       " '돼다': 0.07339449541284404,\n",
       " '리뷰': 0.07242146232971922,\n",
       " '힘들다': 0.07103141506811232,\n",
       " '아직': 0.07098508015939209,\n",
       " '늘다': 0.07066073579835047,\n",
       " '나이': 0.07015105180242795,\n",
       " '넘김': 0.06927068853674358,\n",
       " '영양': 0.06890000926698174,\n",
       " '알다': 0.06885367435826151,\n",
       " '프로폴리스': 0.06848299508849967,\n",
       " '없이': 0.06797331109257715,\n",
       " '선물': 0.06788064127513668,\n",
       " '냄새': 0.06639792419608934,\n",
       " '미네랄': 0.06565656565656566,\n",
       " '시작': 0.06528588638680381,\n",
       " '건강하다': 0.06505421184320268,\n",
       " '해주다': 0.06422018348623854,\n",
       " '아프다': 0.06278380131591141,\n",
       " '식품': 0.061625428597905665,\n",
       " '떨어지다': 0.061301084236864055,\n",
       " '맞다': 0.060884070058381985,\n",
       " '효능': 0.0588916689834121,\n",
       " '다시': 0.05856732462237049,\n",
       " '싸다': 0.05801130571772774,\n",
       " '잔틴': 0.05726994717820406,\n",
       " '감사하다': 0.05662125845612084,\n",
       " '간편하다': 0.05523121119451395,\n",
       " '운동': 0.0545361875637105,\n",
       " '가성': 0.05421184320266889,\n",
       " '박스': 0.05388749884162728,\n",
       " '관리': 0.05328514502826429,\n",
       " '넘다': 0.05323881011954407,\n",
       " '종근당': 0.05254378648874062,\n",
       " '신랑': 0.05212677231025855,\n",
       " '생기다': 0.0514317486794551,\n",
       " '흡수': 0.05078305995737188,\n",
       " '증상': 0.05013437123528867,\n",
       " '함유': 0.050088036326568434,\n",
       " '필요': 0.049902696691687516,\n",
       " '마그네슘': 0.049902696691687516,\n",
       " '부담': 0.0492540079696043,\n",
       " '선택': 0.04892966360856269,\n",
       " '콜라겐': 0.04851264943008062,\n",
       " '높다': 0.048141970160318785,\n",
       " '자주': 0.04744694652951534,\n",
       " '우루샷': 0.04716893707719396,\n",
       " '항상': 0.04675192289871189,\n",
       " '루테인': 0.04624223890278936,\n",
       " '느껴지다': 0.04573255490686683,\n",
       " '직구': 0.04517653600222408,\n",
       " '삼키다': 0.044898526549902694,\n",
       " '영양소': 0.04466685200630155,\n",
       " '용량': 0.04434250764525994,\n",
       " '중요하다': 0.04420350291909925,\n",
       " '추출': 0.04392549346677787,\n",
       " '걸리다': 0.04355481419701603,\n",
       " '종합': 0.043276804744694655,\n",
       " '에너지': 0.043184134927254196,\n",
       " '유산균': 0.042952460383653045,\n",
       " '편이': 0.04193309239180799,\n",
       " '걱정': 0.04184042257436753,\n",
       " '다르다': 0.04123806876100454,\n",
       " '유지': 0.04123806876100454,\n",
       " '필수': 0.040682049856361785,\n",
       " '안되다': 0.04021870076915948,\n",
       " '지아': 0.0400796960429988,\n",
       " '예방': 0.0400796960429988,\n",
       " '칼슘': 0.03998702622555834,\n",
       " '만족하다': 0.03980168659067742,\n",
       " '추가': 0.03957001204707627,\n",
       " '불편하다': 0.039431007320915576,\n",
       " '쉬다': 0.03887498841627282,\n",
       " '보이다': 0.03887498841627282,\n",
       " '검색': 0.03887498841627282,\n",
       " '일어나다': 0.038179964785469374,\n",
       " '이유': 0.038179964785469374,\n",
       " '마음': 0.037901955333147996,\n",
       " '가장': 0.037762950606987304,\n",
       " '심하다': 0.03711426188490409,\n",
       " '근데': 0.037021592067463624,\n",
       " '항산화': 0.03660457788898156,\n",
       " '비싸다': 0.03637290334538041,\n",
       " '엄청': 0.03618756371049949,\n",
       " '쓰다': 0.0360485589843388,\n",
       " '체력': 0.03586321934945788,\n",
       " '기분': 0.03553887498841627,\n",
       " '저녁': 0.03544620517097581,\n",
       " '넣다': 0.03544620517097581,\n",
       " '대다': 0.03544620517097581,\n",
       " '바라다': 0.035399870262255585,\n",
       " '가족': 0.03535353535353535,\n",
       " '작성': 0.03502919099249374,\n",
       " '좋아하다': 0.034751181540172364,\n",
       " '사이즈': 0.03470484663145214,\n",
       " '염증': 0.03451950699657122,\n",
       " '부족하다': 0.034334167361690295,\n",
       " '따로': 0.03428783245297007,\n",
       " '이렇다': 0.03428783245297007,\n",
       " '회사': 0.03377814845704754,\n",
       " '원료': 0.03368547863960708,\n",
       " '적다': 0.03363914373088685,\n",
       " '만들다': 0.03345380409600593,\n",
       " '해봤다': 0.03317579464368455,\n",
       " '덜하다': 0.03308312482624409,\n",
       " '살다': 0.03303678991752386,\n",
       " '고려': 0.03299045500880363,\n",
       " '특히': 0.0329441201000834,\n",
       " '트리': 0.03285145028264294,\n",
       " '다니다': 0.032805115373922715,\n",
       " '관절': 0.032712445556482256,\n",
       " '식사': 0.03266611064776202,\n",
       " '여성': 0.03252710592160134,\n",
       " '이렇게': 0.032480771012881104,\n",
       " '의사': 0.032063756834399035,\n",
       " '보내다': 0.03192475210823835,\n",
       " '부작용': 0.03192475210823835,\n",
       " '다양하다': 0.031554072838476506,\n",
       " '야하다': 0.031554072838476506,\n",
       " '세포': 0.03127606338615513,\n",
       " '지인': 0.0312297284774349,\n",
       " '참고': 0.03109072375127421,\n",
       " '브랜드': 0.030859049207673062,\n",
       " '어떻다': 0.03058103975535168,\n",
       " '미리': 0.03058103975535168,\n",
       " '안좋다': 0.030442035029190993,\n",
       " '개별': 0.030349365211750533,\n",
       " '하니': 0.030071355759429153,\n",
       " '차이': 0.030025020850708923,\n",
       " '보호': 0.029793346307107775,\n",
       " '마카': 0.029747011398387545,\n",
       " '비교': 0.029515336854786398,\n",
       " '기도': 0.029515336854786398,\n",
       " '개인': 0.029469001946066165,\n",
       " '하지만': 0.029422667037345935,\n",
       " '신경': 0.029283662311185246,\n",
       " '보조': 0.029237327402465017,\n",
       " '제공': 0.029190992493744787,\n",
       " '정상': 0.028773978315262717,\n",
       " '병원': 0.028681308497822258,\n",
       " '충분하다': 0.0285886386803818}"
      ]
     },
     "execution_count": 19,
     "metadata": {},
     "output_type": "execute_result"
    }
   ],
   "source": [
    "wordcloud.words_"
   ]
  },
  {
   "cell_type": "code",
   "execution_count": 20,
   "id": "acb12aac-42bd-48d7-bc5d-bf00bd1a94ad",
   "metadata": {
    "tags": []
   },
   "outputs": [
    {
     "data": {
      "image/png": "[encoded data removed]",
      "text/plain": [
       "<Figure size 640x480 with 1 Axes>"
      ]
     },
     "metadata": {},
     "output_type": "display_data"
    }
   ],
   "source": [
    "import matplotlib.pyplot as plt\n",
    "plt.imshow(wordcloud)\n",
    "plt.axis('off') \n",
    "plt.show()"
   ]
  },
  {
   "cell_type": "markdown",
   "id": "9115be71-8498-473a-bf1b-090de9dda5a6",
   "metadata": {},
   "source": [
    "##### 문장을 합쳐서 계산할때 "
   ]
  },
  {
   "cell_type": "code",
   "execution_count": 21,
   "id": "f9af3ccc-9a5e-4e27-9c8d-4387f1df018f",
   "metadata": {
    "tags": []
   },
   "outputs": [],
   "source": [
    "# 단어로 쪼개기 \n",
    "text_split = combined_text.split()"
   ]
  },
  {
   "cell_type": "code",
   "execution_count": 22,
   "id": "ef41727c-8bec-4dcd-b795-900f1913a3a0",
   "metadata": {
    "collapsed": true,
    "jupyter": {
     "outputs_hidden": true
    },
    "tags": []
   },
   "outputs": [
    {
     "data": {
      "text/plain": [
       "Counter({'좋다': 21582,\n",
       "         '피곤하다': 3089,\n",
       "         '사라지다': 465,\n",
       "         '삼키다': 969,\n",
       "         '복용': 6735,\n",
       "         '한지': 317,\n",
       "         '피로': 4297,\n",
       "         '회복': 1749,\n",
       "         '증강': 74,\n",
       "         '함량': 1640,\n",
       "         '높다': 1039,\n",
       "         '품질': 296,\n",
       "         '제품': 10907,\n",
       "         '믿다': 1740,\n",
       "         '구매': 10286,\n",
       "         '항상': 1009,\n",
       "         '체력': 774,\n",
       "         '굉장하다': 230,\n",
       "         '힘들다': 1533,\n",
       "         '한약': 41,\n",
       "         '먹어주다': 516,\n",
       "         '도움': 5583,\n",
       "         '부원': 209,\n",
       "         '원하다': 171,\n",
       "         '성분': 3438,\n",
       "         '신경': 632,\n",
       "         '써다': 498,\n",
       "         '넘다': 1149,\n",
       "         '업무': 123,\n",
       "         '강도': 45,\n",
       "         '세다': 118,\n",
       "         '인지': 515,\n",
       "         '입맛': 110,\n",
       "         '해주다': 1386,\n",
       "         '괜찮다': 3050,\n",
       "         '알약': 3491,\n",
       "         '타입': 318,\n",
       "         '먹기': 3533,\n",
       "         '크기': 2673,\n",
       "         '크다': 3292,\n",
       "         '넘김': 1495,\n",
       "         '꾸준하다': 5970,\n",
       "         '으쌰으쌰': 8,\n",
       "         '코로나': 426,\n",
       "         '확진': 45,\n",
       "         '떨어지다': 1323,\n",
       "         '컨디션': 513,\n",
       "         '쉬다': 839,\n",
       "         '올라오다': 516,\n",
       "         '블랙': 340,\n",
       "         '마카': 642,\n",
       "         '특화된': 12,\n",
       "         '양제': 6130,\n",
       "         '기울다': 21,\n",
       "         '사다': 2268,\n",
       "         '흑마': 50,\n",
       "         '아르기닌': 264,\n",
       "         '관문': 33,\n",
       "         '그렇다': 2762,\n",
       "         '기운': 243,\n",
       "         '더워지다': 78,\n",
       "         '기력': 193,\n",
       "         '없어지다': 526,\n",
       "         '남편': 1672,\n",
       "         '위해': 1740,\n",
       "         '캡슐': 2207,\n",
       "         '편하다': 2612,\n",
       "         '신랑': 1125,\n",
       "         '중이': 263,\n",
       "         '다양하다': 681,\n",
       "         '힘내다': 94,\n",
       "         '가격': 5945,\n",
       "         '저렴하다': 1899,\n",
       "         '탄복': 8,\n",
       "         '여기저기': 153,\n",
       "         '선물': 1465,\n",
       "         '운전': 68,\n",
       "         '주문': 3221,\n",
       "         '회사': 729,\n",
       "         '덜하다': 714,\n",
       "         '첨가': 190,\n",
       "         '많다': 2867,\n",
       "         '해보다': 2059,\n",
       "         '요새': 163,\n",
       "         '피로하다': 440,\n",
       "         '구입': 2921,\n",
       "         '아무렇다': 79,\n",
       "         '원료': 727,\n",
       "         '섭취': 5900,\n",
       "         '만족스럽다': 361,\n",
       "         '이주': 25,\n",
       "         '된거': 119,\n",
       "         '맞다': 1314,\n",
       "         '일어나다': 824,\n",
       "         '몇번': 165,\n",
       "         '알람': 40,\n",
       "         '끄다': 516,\n",
       "         '개운하다': 261,\n",
       "         '부족하다': 741,\n",
       "         '먹이다': 442,\n",
       "         '대안': 20,\n",
       "         '대요': 151,\n",
       "         '착하다': 415,\n",
       "         '부모님': 527,\n",
       "         '보내다': 689,\n",
       "         '드리다': 1846,\n",
       "         '흘리다': 43,\n",
       "         '효능': 1271,\n",
       "         '모르다': 2749,\n",
       "         '바라다': 764,\n",
       "         '후기': 3128,\n",
       "         '올리다': 587,\n",
       "         '상태': 2245,\n",
       "         '확실하다': 1860,\n",
       "         '차이': 648,\n",
       "         '안다': 89,\n",
       "         '비교': 637,\n",
       "         '견디다': 28,\n",
       "         '만해': 73,\n",
       "         '필요하다': 1828,\n",
       "         '건강': 6698,\n",
       "         '알아보다': 573,\n",
       "         '인증': 211,\n",
       "         '해봤다': 716,\n",
       "         '적당하다': 604,\n",
       "         '남동생': 60,\n",
       "         '아직': 1532,\n",
       "         '다르다': 890,\n",
       "         '지나다': 418,\n",
       "         '미미': 9,\n",
       "         '박스': 1163,\n",
       "         '걱정': 903,\n",
       "         '워낙': 393,\n",
       "         '생기다': 1110,\n",
       "         '야근': 178,\n",
       "         '자주': 1024,\n",
       "         '예민하다': 216,\n",
       "         '도착': 439,\n",
       "         '분말': 437,\n",
       "         '함유': 1081,\n",
       "         '당분간': 85,\n",
       "         '오래': 442,\n",
       "         '가성': 1170,\n",
       "         '건강하다': 1404,\n",
       "         '좋겧네': 9,\n",
       "         '생각나다': 167,\n",
       "         '사주다': 150,\n",
       "         '비우다': 47,\n",
       "         '이면': 205,\n",
       "         '쌩쌩하다': 45,\n",
       "         '있겠쥬': 9,\n",
       "         '여러가지': 582,\n",
       "         '괜찬은거': 10,\n",
       "         '눈뜨다': 73,\n",
       "         '느껴지다': 987,\n",
       "         '피곤': 386,\n",
       "         '대비': 475,\n",
       "         '꼼꼼하다': 339,\n",
       "         '국내': 424,\n",
       "         '루테': 1601,\n",
       "         '안구': 110,\n",
       "         '건조': 284,\n",
       "         '증도': 27,\n",
       "         '엄청': 781,\n",
       "         '나아지다': 214,\n",
       "         '직업': 79,\n",
       "         '아프다': 1355,\n",
       "         '달구': 12,\n",
       "         '살다': 713,\n",
       "         '지다': 611,\n",
       "         '틀리다': 47,\n",
       "         '마나': 7,\n",
       "         '단점': 369,\n",
       "         '에두': 11,\n",
       "         '아니다': 3609,\n",
       "         '케이스': 136,\n",
       "         '양호': 19,\n",
       "         '직구': 975,\n",
       "         '기전': 166,\n",
       "         '남다': 524,\n",
       "         '뇌출혈': 3,\n",
       "         '안좋다': 657,\n",
       "         '안과': 109,\n",
       "         '좋아지다': 1797,\n",
       "         '종합병원': 2,\n",
       "         '진로': 1,\n",
       "         '검사': 280,\n",
       "         '진료': 39,\n",
       "         '최소': 92,\n",
       "         '밀리': 9,\n",
       "         '중요하다': 954,\n",
       "         '덜다': 138,\n",
       "         '스마일': 5,\n",
       "         '라섹': 29,\n",
       "         '장거리': 5,\n",
       "         '운정': 1,\n",
       "         '나아졋다': 1,\n",
       "         '아무래도': 366,\n",
       "         '보조': 631,\n",
       "         '먹고다': 175,\n",
       "         '잇다': 424,\n",
       "         '마법': 11,\n",
       "         '마사지': 11,\n",
       "         '기계': 3,\n",
       "         '도사': 1,\n",
       "         '전보': 99,\n",
       "         '마음': 818,\n",
       "         '푸근하다': 1,\n",
       "         '쿡쿡': 8,\n",
       "         '쑤시다': 61,\n",
       "         '그로': 14,\n",
       "         '인하다': 503,\n",
       "         '꺼내다': 214,\n",
       "         '급하다': 124,\n",
       "         '약사': 143,\n",
       "         '복전': 4,\n",
       "         '던데': 38,\n",
       "         '어떻다': 660,\n",
       "         '건지다': 453,\n",
       "         '바슈롬': 1,\n",
       "         '바이트': 2,\n",
       "         '적극': 199,\n",
       "         '추천': 2254,\n",
       "         '뻑뻑': 199,\n",
       "         '오메가': 2123,\n",
       "         '추출': 948,\n",
       "         '비타민': 14208,\n",
       "         '낮다': 207,\n",
       "         '상품': 1795,\n",
       "         '평보': 20,\n",
       "         '어디가': 37,\n",
       "         '볼라': 7,\n",
       "         '지난': 89,\n",
       "         '유효': 76,\n",
       "         '기간': 265,\n",
       "         '짧다': 184,\n",
       "         '물건': 96,\n",
       "         '멘붕': 1,\n",
       "         '노란색': 62,\n",
       "         '사먹다': 225,\n",
       "         '갑자기': 283,\n",
       "         '올라서다': 31,\n",
       "         '바꾸다': 490,\n",
       "         '먹을떄': 1,\n",
       "         '용량': 957,\n",
       "         '재다': 1946,\n",
       "         '문인진': 2,\n",
       "         '속이다': 484,\n",
       "         '메스껍다': 48,\n",
       "         '제일': 463,\n",
       "         '미국': 196,\n",
       "         '출장': 55,\n",
       "         '사오다': 21,\n",
       "         '쿠팡': 1824,\n",
       "         '꼬박': 71,\n",
       "         '깜빡': 66,\n",
       "         '건조하다': 446,\n",
       "         '완화': 465,\n",
       "         '느끼다': 1908,\n",
       "         '챙켜': 1,\n",
       "         '다시': 1264,\n",
       "         '다니다': 708,\n",
       "         '광고': 375,\n",
       "         '만족하다': 859,\n",
       "         '무난': 82,\n",
       "         '최고': 411,\n",
       "         '상시': 6,\n",
       "         '패키지': 222,\n",
       "         '디자인': 68,\n",
       "         '굳다': 47,\n",
       "         '예정': 377,\n",
       "         '외국': 66,\n",
       "         '비닐': 113,\n",
       "         '찌그러지다': 39,\n",
       "         '실링': 8,\n",
       "         '추석': 40,\n",
       "         '전이': 57,\n",
       "         '기다리다': 72,\n",
       "         '빼다': 204,\n",
       "         '설명': 331,\n",
       "         '분명하다': 39,\n",
       "         '적히다': 86,\n",
       "         '치다': 247,\n",
       "         '버리다': 453,\n",
       "         '야하다': 681,\n",
       "         '이구': 194,\n",
       "         '대체': 67,\n",
       "         '임박': 34,\n",
       "         '그랬슴': 1,\n",
       "         '도안': 27,\n",
       "         '얼른': 75,\n",
       "         '환불': 16,\n",
       "         '개월치': 75,\n",
       "         '너무하다': 6,\n",
       "         '팔면': 5,\n",
       "         '하나요': 20,\n",
       "         '기다': 476,\n",
       "         '확인': 378,\n",
       "         '판매': 599,\n",
       "         '리뷰': 1563,\n",
       "         '사보다': 262,\n",
       "         '어쩔': 103,\n",
       "         '쓰다': 778,\n",
       "         '노안': 236,\n",
       "         '빨리': 445,\n",
       "         '예상': 35,\n",
       "         '발악': 1,\n",
       "         '수준': 172,\n",
       "         '국내외': 2,\n",
       "         '가리다': 13,\n",
       "         '루테인': 998,\n",
       "         '안되다': 868,\n",
       "         '알다': 1486,\n",
       "         '일이': 95,\n",
       "         '싶다': 1885,\n",
       "         '봣는데': 1,\n",
       "         '뉴스': 21,\n",
       "         '네이버': 41,\n",
       "         '메인': 17,\n",
       "         '황반변성': 70,\n",
       "         '증상': 1082,\n",
       "         '비싸다': 785,\n",
       "         '늘다': 1525,\n",
       "         '바보': 3,\n",
       "         '행동': 14,\n",
       "         '나우': 495,\n",
       "         '하자': 40,\n",
       "         '아틴': 1,\n",
       "         '되엇습니': 1,\n",
       "         '불다': 144,\n",
       "         '지아': 865,\n",
       "         '잔틴': 1236,\n",
       "         '듭니': 211,\n",
       "         '먹엇을때': 8,\n",
       "         '월등하다': 18,\n",
       "         '하니': 649,\n",
       "         '적격': 1,\n",
       "         '시기': 152,\n",
       "         '따로': 740,\n",
       "         '흡수': 1096,\n",
       "         '높이다': 190,\n",
       "         '필수': 878,\n",
       "         '어렵다': 441,\n",
       "         '의학': 23,\n",
       "         '자료': 20,\n",
       "         '염려': 56,\n",
       "         '스탈': 4,\n",
       "         '결론': 107,\n",
       "         '말씀드리다': 60,\n",
       "         '우와': 10,\n",
       "         '보이': 111,\n",
       "         '감사하다': 1222,\n",
       "         '평범하다': 12,\n",
       "         '브랜드': 666,\n",
       "         '기준': 371,\n",
       "         '걸리다': 940,\n",
       "         '담기다': 169,\n",
       "         '파손': 72,\n",
       "         '문제': 545,\n",
       "         '제아': 61,\n",
       "         '비다': 458,\n",
       "         '저렴': 58,\n",
       "         '한편': 75,\n",
       "         '런가': 143,\n",
       "         '도하': 24,\n",
       "         '필요': 1077,\n",
       "         '영양분': 81,\n",
       "         '리트': 3,\n",
       "         '가족': 763,\n",
       "         '지키다': 330,\n",
       "         '돼다': 1584,\n",
       "         '부탁드리다': 233,\n",
       "         '닥터': 387,\n",
       "         '베스트': 493,\n",
       "         '약도': 131,\n",
       "         '작다': 2062,\n",
       "         '수월하다': 162,\n",
       "         '식이': 234,\n",
       "         '보충': 603,\n",
       "         '대두': 26,\n",
       "         '포함': 568,\n",
       "         '각막': 15,\n",
       "         '축적': 52,\n",
       "         '카로티노이드': 18,\n",
       "         '메다': 17,\n",
       "         '제라': 96,\n",
       "         '마리': 85,\n",
       "         '골드': 278,\n",
       "         '제공': 630,\n",
       "         '노화': 547,\n",
       "         '시력': 421,\n",
       "         '감퇴': 42,\n",
       "         '백내장': 56,\n",
       "         '예방': 865,\n",
       "         '수용체': 6,\n",
       "         '지방산': 35,\n",
       "         '산화': 226,\n",
       "         '방지': 261,\n",
       "         '망막': 134,\n",
       "         '주변': 334,\n",
       "         '공급': 106,\n",
       "         '혈관': 317,\n",
       "         '억제': 175,\n",
       "         '역할': 331,\n",
       "         '감소': 531,\n",
       "         '황반': 404,\n",
       "         '색소': 181,\n",
       "         '밀도': 183,\n",
       "         '유지': 890,\n",
       "         '카로테노이드': 1,\n",
       "         '일종': 23,\n",
       "         '항산화제': 47,\n",
       "         '녹내장': 15,\n",
       "         '재단': 1,\n",
       "         '스트레스': 513,\n",
       "         '시신경': 1,\n",
       "         '손상': 210,\n",
       "         '연관': 14,\n",
       "         '질환': 401,\n",
       "         '일으키다': 72,\n",
       "         '이르다': 344,\n",
       "         '물질': 430,\n",
       "         '짙다': 11,\n",
       "         '녹색': 53,\n",
       "         '잎채소': 7,\n",
       "         '채소': 86,\n",
       "         '영양성분': 372,\n",
       "         '질산염': 1,\n",
       "         '브로콜리': 47,\n",
       "         '양배추': 20,\n",
       "         '옥수수': 105,\n",
       "         '케일': 12,\n",
       "         '배추': 7,\n",
       "         '상추': 8,\n",
       "         '호박': 11,\n",
       "         '달걀': 13,\n",
       "         '나이': 1514,\n",
       "         '불편': 86,\n",
       "         '침침하다': 348,\n",
       "         '보정': 4,\n",
       "         '안경': 145,\n",
       "         '이렇게': 701,\n",
       "         '번갈아': 62,\n",
       "         '가면': 78,\n",
       "         '착용': 59,\n",
       "         '현실': 48,\n",
       "         '불편하다': 851,\n",
       "         '서글프다': 21,\n",
       "         '앞전': 29,\n",
       "         '비타': 131,\n",
       "         '이뮨샷': 1,\n",
       "         '해도': 282,\n",
       "         '끝나다': 82,\n",
       "         '나타나다': 477,\n",
       "         '여력': 2,\n",
       "         '녀석': 80,\n",
       "         '미치다': 135,\n",
       "         '집중': 201,\n",
       "         '영양': 1487,\n",
       "         '닥터스': 307,\n",
       "         '선택': 1056,\n",
       "         '계기': 43,\n",
       "         '어깨': 306,\n",
       "         '통증': 573,\n",
       "         '엠에스': 13,\n",
       "         '어가': 4,\n",
       "         '결정': 244,\n",
       "         '베다': 242,\n",
       "         '소프트': 141,\n",
       "         '종류': 448,\n",
       "         '그대로': 143,\n",
       "         '리언': 7,\n",
       "         '하지만': 635,\n",
       "         '지용성': 187,\n",
       "         '만들어지다': 111,\n",
       "         '이기': 247,\n",
       "         '취향': 27,\n",
       "         '가능하다': 491,\n",
       "         '잡고': 18,\n",
       "         '심정': 31,\n",
       "         '간절하다': 18,\n",
       "         '도와주다': 145,\n",
       "         '컴퓨터': 195,\n",
       "         '앉다': 96,\n",
       "         '편입': 192,\n",
       "         '웃기다': 8,\n",
       "         '취미': 8,\n",
       "         '게임': 31,\n",
       "         '지겹다': 13,\n",
       "         '일과': 25,\n",
       "         '놀이': 13,\n",
       "         '엄연하다': 1,\n",
       "         '놓다': 235,\n",
       "         '알레르기': 210,\n",
       "         '결막염': 27,\n",
       "         '염증': 745,\n",
       "         '당연하다': 147,\n",
       "         '깜박이다': 5,\n",
       "         '번만': 62,\n",
       "         '다급하다': 3,\n",
       "         '상황': 98,\n",
       "         '깜박': 28,\n",
       "         '거리': 122,\n",
       "         '피안': 1,\n",
       "         '보스': 291,\n",
       "         '희생': 3,\n",
       "         '수많다': 31,\n",
       "         '때리다': 33,\n",
       "         '눕다': 55,\n",
       "         '혔습': 1,\n",
       "         '에픽': 1,\n",
       "         '아이템': 43,\n",
       "         '빨갛다': 58,\n",
       "         '눈곱': 33,\n",
       "         '생기': 264,\n",
       "         '싸다': 1252,\n",
       "         '종합': 934,\n",
       "         '강려': 1,\n",
       "         '추가': 854,\n",
       "         '갈아타다': 158,\n",
       "         '토마토': 16,\n",
       "         '색깔': 126,\n",
       "         '왠지': 158,\n",
       "         '보이다': 839,\n",
       "         '안토시아닌': 18,\n",
       "         '비비다': 27,\n",
       "         '흰자위': 4,\n",
       "         '맑다': 136,\n",
       "         '청색': 23,\n",
       "         '의하다': 115,\n",
       "         '보호': 643,\n",
       "         '위험': 221,\n",
       "         '실명': 6,\n",
       "         '심장병': 40,\n",
       "         '뇌졸증': 4,\n",
       "         '행성': 21,\n",
       "         '심장': 199,\n",
       "         '항염': 102,\n",
       "         '항산화': 790,\n",
       "         '지원': 69,\n",
       "         '기억': 352,\n",
       "         '향상': 293,\n",
       "         '대장암': 16,\n",
       "         '유방암': 19,\n",
       "         '당뇨병': 91,\n",
       "         '중심': 89,\n",
       "         '발견': 221,\n",
       "         '지배': 4,\n",
       "         '화합물': 37,\n",
       "         '농도': 118,\n",
       "         '베타카로틴': 6,\n",
       "         '빌다': 104,\n",
       "         '최대': 106,\n",
       "         '아스타': 171,\n",
       "         '안구건조증': 121,\n",
       "         '칼륨': 22,\n",
       "         '적다': 726,\n",
       "         '이유': 824,\n",
       "         '로켓': 578,\n",
       "         '영어': 46,\n",
       "         '표기': 101,\n",
       "         '사시': 27,\n",
       "         '읽다': 415,\n",
       "         '정보': 257,\n",
       "         '사서': 431,\n",
       "         '부작용': 689,\n",
       "         '일어나서': 147,\n",
       "         '방치': 39,\n",
       "         '몇개': 128,\n",
       "         '랑귀': 15,\n",
       "         '팔랑': 10,\n",
       "         '지르다': 45,\n",
       "         '올바르다': 40,\n",
       "         '인터넷': 159,\n",
       "         '영양학': 12,\n",
       "         '약학': 10,\n",
       "         '참고': 671,\n",
       "         '주로': 179,\n",
       "         '가장': 815,\n",
       "         '상관': 69,\n",
       "         '생소하다': 22,\n",
       "         '볼때': 36,\n",
       "         '일일': 189,\n",
       "         '검색': 839,\n",
       "         '귀찮다': 485,\n",
       "         '계시다': 289,\n",
       "         '수명연장': 10,\n",
       "         '한가지': 114,\n",
       "         '수명': 18,\n",
       "         '늘어나다': 139,\n",
       "         '음식': 578,\n",
       "         '영양소': 964,\n",
       "         '시너지': 120,\n",
       "         '하버드': 1,\n",
       "         '블루': 30,\n",
       "         '라이트': 38,\n",
       "         '대처': 19,\n",
       "         '방법': 402,\n",
       "         '유해': 346,\n",
       "         '광선': 27,\n",
       "         '걸다': 80,\n",
       "         '시스템': 71,\n",
       "         '수정체': 8,\n",
       "         '주기': 154,\n",
       "         '조심하다': 77,\n",
       "         '화면': 27,\n",
       "         '횟수': 62,\n",
       "         '이하': 43,\n",
       "         '줄다': 334,\n",
       "         '눈물': 137,\n",
       "         '증발량': 1,\n",
       "         '증가': 195,\n",
       "         '증세': 99,\n",
       "         '막다': 208,\n",
       "         '기기': 50,\n",
       "         '멀다': 70,\n",
       "         '오랜': 41,\n",
       "         '모니터': 57,\n",
       "         '의식': 10,\n",
       "         '야간': 52,\n",
       "         '조명': 3,\n",
       "         '두운': 42,\n",
       "         '적색': 1,\n",
       "         '하라': 42,\n",
       "         '들어오다': 217,\n",
       "         '차단': 41,\n",
       "         '붉다': 46,\n",
       "         '리듬': 6,\n",
       "         '멜라토닌': 19,\n",
       "         '잠들다': 97,\n",
       "         '전자기기': 10,\n",
       "         '보지': 113,\n",
       "         '말르다': 18,\n",
       "         '수면': 160,\n",
       "         '방해': 85,\n",
       "         '근무': 67,\n",
       "         '거나': 178,\n",
       "         '장치': 8,\n",
       "         '파란색': 6,\n",
       "         '파장': 1,\n",
       "         '필터': 3,\n",
       "         '응용': 1,\n",
       "         '프로그램': 14,\n",
       "         '설치': 3,\n",
       "         '햇빛': 175,\n",
       "         '쬐다': 81,\n",
       "         '밝다': 31,\n",
       "         '노출': 96,\n",
       "         '기분': 767,\n",
       "         '주의력': 2,\n",
       "         '할인': 258,\n",
       "         '쿠폰': 77,\n",
       "         '적용': 42,\n",
       "         '기회': 118,\n",
       "         '금액': 117,\n",
       "         '맞추다': 219,\n",
       "         '옵티': 32,\n",
       "         '루트': 17,\n",
       "         '차례': 13,\n",
       "         '맥스': 72,\n",
       "         '스마트폰': 169,\n",
       "         '날짜': 175,\n",
       "         '수령': 61,\n",
       "         '세계': 59,\n",
       "         '이슈': 9,\n",
       "         '공지': 6,\n",
       "         '늦어지다': 28,\n",
       "         '특성': 83,\n",
       "         '장시간': 39,\n",
       "         '남지': 36,\n",
       "         '불안감': 5,\n",
       "         '없이': 1467,\n",
       "         '금보': 3,\n",
       "         '기존': 477,\n",
       "         '넘기다': 347,\n",
       "         '목구멍': 117,\n",
       "         '좁다': 39,\n",
       "         '식도': 59,\n",
       "         '넘어가다': 501,\n",
       "         '강하다': 192,\n",
       "         '일여': 1,\n",
       "         '년전': 68,\n",
       "         '시작': 1409,\n",
       "         '시야': 42,\n",
       "         '답답하다': 49,\n",
       "         '뿌옇다': 101,\n",
       "         '지장': 40,\n",
       "         '공부': 115,\n",
       "         '공유': 43,\n",
       "         '운동': 1177,\n",
       "         '스트레칭': 11,\n",
       "         '좌측': 2,\n",
       "         '우측': 5,\n",
       "         '째다': 59,\n",
       "         '위쪽': 16,\n",
       "         '고개': 19,\n",
       "         '가만히': 3,\n",
       "         '두다': 599,\n",
       "         '눈알': 9,\n",
       "         '움직': 14,\n",
       "         '마무리': 42,\n",
       "         '회전': 5,\n",
       "         '역시': 467,\n",
       "         '천천히': 41,\n",
       "         '구석구석': 4,\n",
       "         '돌리다': 41,\n",
       "         '시계': 20,\n",
       "         '방향': 8,\n",
       "         '반대': 18,\n",
       "         '저녁': 765,\n",
       "         '따뜻하다': 71,\n",
       "         '씻다': 20,\n",
       "         '초과': 45,\n",
       "         '어두운곳': 4,\n",
       "         '핸드폰': 109,\n",
       "         '자제': 27,\n",
       "         '도수': 2,\n",
       "         '개인': 636,\n",
       "         '가려움': 32,\n",
       "         '줄어들다': 366,\n",
       "         '주의': 277,\n",
       "         '변현': 1,\n",
       "         '얼굴': 451,\n",
       "         '노랗다': 95,\n",
       "         '폐암': 15,\n",
       "         '발병': 37,\n",
       "         '높아지다': 187,\n",
       "         '준치': 108,\n",
       "         '초창': 6,\n",
       "         '짜다': 292,\n",
       "         '부쩍': 111,\n",
       "         '황달': 10,\n",
       "         '도대체': 9,\n",
       "         '체크': 98,\n",
       "         '찾아보다': 602,\n",
       "         '모든': 370,\n",
       "         '실천': 18,\n",
       "         '습관': 312,\n",
       "         '잘못': 109,\n",
       "         '과유': 17,\n",
       "         '불급': 17,\n",
       "         '약하다': 318,\n",
       "         '쟁여둬': 4,\n",
       "         '겠다': 406,\n",
       "         '사진': 418,\n",
       "         '변질': 125,\n",
       "         '심해지다': 246,\n",
       "         '산패': 46,\n",
       "         '찢다': 9,\n",
       "         '묻다': 66,\n",
       "         '지워지다': 6,\n",
       "         '사방': 3,\n",
       "         '튀어': 4,\n",
       "         '연말': 47,\n",
       "         '이기다': 225,\n",
       "         '호구': 8,\n",
       "         '소량': 88,\n",
       "         '대한': 308,\n",
       "         '칭찬': 24,\n",
       "         '내용': 146,\n",
       "         '일부러': 50,\n",
       "         '속상하다': 16,\n",
       "         '페이지': 32,\n",
       "         '나쁘다': 389,\n",
       "         '별로': 410,\n",
       "         '안전하다': 327,\n",
       "         '어쩌다': 30,\n",
       "         '들어서다': 345,\n",
       "         '멀티': 1782,\n",
       "         '개다': 138,\n",
       "         '계산': 46,\n",
       "         '달라지다': 168,\n",
       "         '이미': 160,\n",
       "         '게을리': 3,\n",
       "         '관심': 233,\n",
       "         '띄다': 232,\n",
       "         '중앙': 2,\n",
       "         '반면': 12,\n",
       "         '말초': 3,\n",
       "         '분포': 15,\n",
       "         '강력하다': 154,\n",
       "         '조합': 102,\n",
       "         '우수하다': 54,\n",
       "         '능력': 135,\n",
       "         '나타내다': 15,\n",
       "         '연구': 118,\n",
       "         '의사': 692,\n",
       "         '정상': 621,\n",
       "         '가지다': 111,\n",
       "         '명의': 10,\n",
       "         '자원': 1,\n",
       "         '봉사자': 1,\n",
       "         '환자': 118,\n",
       "         '대상': 67,\n",
       "         '달성': 2,\n",
       "         '복용량': 53,\n",
       "         '테스트': 35,\n",
       "         '양은': 46,\n",
       "         '일정': 53,\n",
       "         '그룹': 18,\n",
       "         '나누다': 284,\n",
       "         '혈중': 179,\n",
       "         '실험': 40,\n",
       "         '결과': 466,\n",
       "         '단어': 15,\n",
       "         '두렵다': 22,\n",
       "         '소중하다': 133,\n",
       "         '동기': 179,\n",
       "         '시큼시큼하다': 4,\n",
       "         '꼬리': 34,\n",
       "         '따다': 127,\n",
       "         '짖다': 4,\n",
       "         '반복': 71,\n",
       "         '피부': 1927,\n",
       "         '얻다': 79,\n",
       "         '바람': 61,\n",
       "         '보안': 2,\n",
       "         '경이': 5,\n",
       "         '찌푸리다': 23,\n",
       "         '인상': 27,\n",
       "         '쓰시': 9,\n",
       "         '달라': 275,\n",
       "         '밉다': 79,\n",
       "         '주름': 103,\n",
       "         '노인': 14,\n",
       "         '한중': 2,\n",
       "         '하나로': 136,\n",
       "         '방송': 64,\n",
       "         '보시': 278,\n",
       "         '이야기': 200,\n",
       "         '싫어하다': 104,\n",
       "         '부탁': 47,\n",
       "         '이상하다': 168,\n",
       "         '약국': 457,\n",
       "         '찮아다': 3,\n",
       "         '들이다': 158,\n",
       "         '제다': 9,\n",
       "         '그렇게': 327,\n",
       "         '만난': 10,\n",
       "         '어머님께': 17,\n",
       "         '죄송하다': 5,\n",
       "         '적어지다': 22,\n",
       "         '떨어뜨리다': 18,\n",
       "         '신호': 44,\n",
       "         '자꾸': 292,\n",
       "         '시큼시큼': 2,\n",
       "         '좋아하다': 750,\n",
       "         '편안하다': 174,\n",
       "         '행복하다': 228,\n",
       "         '표정': 9,\n",
       "         '죄송스럽다': 2,\n",
       "         '날다': 147,\n",
       "         '글루텐': 69,\n",
       "         '프리': 47,\n",
       "         '보춤': 1,\n",
       "         '제입': 34,\n",
       "         '구성원': 8,\n",
       "         '교정술': 3,\n",
       "         '꼬박꼬박': 168,\n",
       "         '바구니': 2,\n",
       "         '한눈': 38,\n",
       "         '꼭대기': 1,\n",
       "         '이름': 176,\n",
       "         '붙이다': 53,\n",
       "         '간략하다': 4,\n",
       "         '구성': 469,\n",
       "         '이렇다': 740,\n",
       "         '편이': 905,\n",
       "         '대가': 198,\n",
       "         '대의': 17,\n",
       "         '절반': 44,\n",
       "         '외부': 123,\n",
       "         '환경': 68,\n",
       "         '변화': 496,\n",
       "         '가속': 12,\n",
       "         '고갈': 3,\n",
       "         '이롭다': 36,\n",
       "         '발생': 234,\n",
       "         '확률': 37,\n",
       "         '기르다': 226,\n",
       "         '라식': 35,\n",
       "         '단순하다': 25,\n",
       "         '뚜껑': 194,\n",
       "         '서예': 1,\n",
       "         '어리다': 310,\n",
       "         '아가': 16,\n",
       "         '가정은': 2,\n",
       "         '위험하다': 23,\n",
       "         '성인': 250,\n",
       "         '오픈': 28,\n",
       "         '과정': 134,\n",
       "         '선호': 86,\n",
       "         '제도': 267,\n",
       "         '관리': 1150,\n",
       "         '정말': 1689,\n",
       "         '과일': 169,\n",
       "         '야채': 107,\n",
       "         '식물': 117,\n",
       "         '빨간색': 11,\n",
       "         '주황색': 18,\n",
       "         '만들다': 722,\n",
       "         '반응': 230,\n",
       "         '통제': 6,\n",
       "         '장기': 160,\n",
       "         '그런데': 381,\n",
       "         '중화': 10,\n",
       "         '자연': 174,\n",
       "         '위치': 34,\n",
       "         '줄이다': 257,\n",
       "         '인체': 149,\n",
       "         '제로': 501,\n",
       "         '여러': 371,\n",
       "         '공식': 5,\n",
       "         '권장': 290,\n",
       "         '섭취량': 138,\n",
       "         '상의': 52,\n",
       "         '이점': 28,\n",
       "         '밝혀지다': 24,\n",
       "         '간주': 9,\n",
       "         '위험성': 5,\n",
       "         '독성': 56,\n",
       "         '안심': 279,\n",
       "         '그나마': 123,\n",
       "         '늦다': 235,\n",
       "         '아쉬움': 27,\n",
       "         '사랑': 126,\n",
       "         '신체': 305,\n",
       "         '기관': 41,\n",
       "         '람니': 1,\n",
       "         '상당하다': 101,\n",
       "         '대표': 93,\n",
       "         '담당': 80,\n",
       "         '자극': 100,\n",
       "         '한빛': 16,\n",
       "         '요인': 81,\n",
       "         '중심부': 62,\n",
       "         '존재': 129,\n",
       "         '체내': 603,\n",
       "         '자동': 13,\n",
       "         '합성': 453,\n",
       "         '비율': 207,\n",
       "         '맞취': 1,\n",
       "         '간혹': 80,\n",
       "         '이루어지다': 58,\n",
       "         '싸이': 22,\n",
       "         '장복': 35,\n",
       "         '기대하다': 297,\n",
       "         '분량': 140,\n",
       "         '황금': 5,\n",
       "         '희다': 81,\n",
       "         '자위': 2,\n",
       "         '검다': 22,\n",
       "         '최적': 16,\n",
       "         '귀하다': 12,\n",
       "         '오몌': 1,\n",
       "         '넣다': 765,\n",
       "         '나빠지다': 203,\n",
       "         '속도': 164,\n",
       "         '늦추다': 80,\n",
       "         '시럭': 1,\n",
       "         '먹이': 100,\n",
       "         '쓰기': 44,\n",
       "         '나파': 1,\n",
       "         '부담': 1063,\n",
       "         '소요': 16,\n",
       "         '식품': 1330,\n",
       "         '시금치': 29,\n",
       "         '당근': 39,\n",
       "         '용법': 160,\n",
       "         '장량': 395,\n",
       "         '식사': 705,\n",
       "         '칼슘': 863,\n",
       "         '마그네슘': 1077,\n",
       "         '미네랄': 1417,\n",
       "         '생체': 20,\n",
       "         '교정': 18,\n",
       "         '수술': 222,\n",
       "         '제약회사': 112,\n",
       "         '메리': 5,\n",
       "         '활성산소': 155,\n",
       "         '일찍': 156,\n",
       "         '살펴보다': 100,\n",
       "         '통틀어': 2,\n",
       "         '양도': 183,\n",
       "         '매달': 35,\n",
       "         '필요없다': 87,\n",
       "         '용기': 69,\n",
       "         '서랍': 22,\n",
       "         '공간': 9,\n",
       "         '차지': 32,\n",
       "         '안해': 78,\n",
       "         '지인': 674,\n",
       "         '조그만': 5,\n",
       "         '조직': 107,\n",
       "         '저하': 187,\n",
       "         '개선': 1610,\n",
       "         '기점': 6,\n",
       "         '점차': 53,\n",
       "         '재생산': 2,\n",
       "         '배합': 150,\n",
       "         ...})"
      ]
     },
     "execution_count": 22,
     "metadata": {},
     "output_type": "execute_result"
    }
   ],
   "source": [
    "# counter를 이용해서 중복 여부 count\n",
    "from collections import Counter\n",
    "Counter(text_split)"
   ]
  },
  {
   "cell_type": "code",
   "execution_count": 23,
   "id": "a726a679-e979-49d9-8032-67e64c72591d",
   "metadata": {
    "tags": []
   },
   "outputs": [
    {
     "data": {
      "text/plain": [
       "<wordcloud.wordcloud.WordCloud at 0x1d79fb25610>"
      ]
     },
     "execution_count": 23,
     "metadata": {},
     "output_type": "execute_result"
    }
   ],
   "source": [
    "# 한글 폰트 경로 설정 (Windows 환경에 맞게 경로 수정)\n",
    "font_path = 'C:/Windows/Fonts/malgun.ttf'\n",
    "\n",
    "wordCloud = WordCloud(font_path=font_path, background_color='white') #인스턴스화 \n",
    "wordCloud.generate_from_text(combined_text)"
   ]
  },
  {
   "cell_type": "code",
   "execution_count": 24,
   "id": "1048db0a-093f-48b0-80b1-723dff5cb81a",
   "metadata": {
    "collapsed": true,
    "jupyter": {
     "outputs_hidden": true
    },
    "tags": []
   },
   "outputs": [
    {
     "data": {
      "text/plain": [
       "{'좋다': 1.0,\n",
       " '제품': 0.9231784582893348,\n",
       " '빨르다 뛰어나다': 0.67740232312566,\n",
       " '복용': 0.5361668426610349,\n",
       " '아니다': 0.5316789862724393,\n",
       " '양제': 0.5311510031678986,\n",
       " '그렇다': 0.44535374868004224,\n",
       " '멀티 비타민': 0.4313621964097149,\n",
       " '피로 회복': 0.3508447729672651,\n",
       " '상태 깔끔하다': 0.34239704329461457,\n",
       " '많다': 0.32286166842661035,\n",
       " '비타민 비타민': 0.31916578669482576,\n",
       " '비타민 미네랄': 0.30543822597676873,\n",
       " '꾸준하다': 0.2932946145723337,\n",
       " '깔끔하다 좋다': 0.2719112988384372,\n",
       " '모르다': 0.23812038014783526,\n",
       " '꾸준하다 복용': 0.23600844772967264,\n",
       " '구입': 0.2336325237592397,\n",
       " '가격 괜찮다': 0.22360084477296727,\n",
       " '지아 잔틴': 0.22228088701161564,\n",
       " '주문': 0.2220168954593453,\n",
       " '먹기 편하다': 0.21304118268215416,\n",
       " '뛰어나다 빨르다': 0.20644139387539598,\n",
       " '싶다': 0.2006335797254488,\n",
       " '알약 크기': 0.19931362196409716,\n",
       " '알다': 0.1969376979936642,\n",
       " '비타민 늘다': 0.19297782470960928,\n",
       " '건강 식품': 0.19086589229144668,\n",
       " '좋다 제품': 0.18664202745512143,\n",
       " '가격 싸다': 0.18505807814149947,\n",
       " '구매': 0.1842661034846885,\n",
       " '종합 비타민': 0.18294614572333687,\n",
       " '남편': 0.18004223864836325,\n",
       " '정말': 0.17740232312565998,\n",
       " '건강 도움': 0.17159450897571277,\n",
       " '제품 구매': 0.1678986272439282,\n",
       " '싸다 사다': 0.16657866948257655,\n",
       " '확실하다': 0.16578669482576558,\n",
       " '가격 저렴하다': 0.16473072861668428,\n",
       " '도움 돼다': 0.16367476240760295,\n",
       " '캡슐': 0.16261879619852165,\n",
       " '고려 은단': 0.15892291446673706,\n",
       " '느끼다': 0.1565469904963041,\n",
       " '괜찮다': 0.1544350580781415,\n",
       " '좋다 구매': 0.15205913410770855,\n",
       " '맞다': 0.1465153115100317,\n",
       " '좋다 빨르다': 0.14519535374868003,\n",
       " '사다 빨르다': 0.14440337909186907,\n",
       " '먹기 시작': 0.1428194297782471,\n",
       " '좋다 상태': 0.1420274551214361,\n",
       " '추천 드리다': 0.1409714889123548,\n",
       " '크기 크다': 0.14044350580781415,\n",
       " '루테 지아': 0.13991552270327348,\n",
       " '용량': 0.13965153115100318,\n",
       " '구매 후기': 0.1359556494192186,\n",
       " '건강하다': 0.13384371700105596,\n",
       " '좋다 가격': 0.13384371700105596,\n",
       " '섭취': 0.1333157338965153,\n",
       " '먹기 좋다': 0.132259767687434,\n",
       " '좋다 꾸준하다': 0.13173178458289334,\n",
       " '신랑': 0.12988384371700107,\n",
       " '빨르다 가격': 0.12988384371700107,\n",
       " '가성 좋다': 0.1293558606124604,\n",
       " '다르다': 0.1285638859556494,\n",
       " '크기 작다': 0.1285638859556494,\n",
       " '근데': 0.1282998944033791,\n",
       " '도움 도움': 0.1282998944033791,\n",
       " '루테인': 0.12671594508975711,\n",
       " '꾸준하다 섭취': 0.12671594508975711,\n",
       " '유산균': 0.12302006335797254,\n",
       " '건강 좋다': 0.12275607180570222,\n",
       " '제공 작성': 0.12090813093980993,\n",
       " '무료 제공': 0.1206441393875396,\n",
       " '항상': 0.11932418162618796,\n",
       " '특히': 0.11932418162618796,\n",
       " '효능': 0.11114044350580782,\n",
       " '넘다': 0.1100844772967265,\n",
       " '피로 개선': 0.10929250263991552,\n",
       " '재다': 0.10797254487856389,\n",
       " '피곤하다': 0.10691657866948258,\n",
       " '나우 푸드': 0.10506863780359028,\n",
       " '아직 모르다': 0.10454065469904963,\n",
       " '종근당 건강': 0.10401267159450897,\n",
       " '쿠팡 체험': 0.10269271383315734,\n",
       " '실리 마린': 0.10190073917634636,\n",
       " '좋다 양제': 0.10163674762407603,\n",
       " '마그네슘': 0.10137275607180571,\n",
       " '이렇게': 0.10084477296726505,\n",
       " '사다': 0.10005279831045406,\n",
       " '이렇다': 0.09978880675818373,\n",
       " '섭취 좋다': 0.0984688489968321,\n",
       " '복용 해보다': 0.09820485744456177,\n",
       " '좋아지다': 0.09609292502639916,\n",
       " '하지만': 0.09582893347412882,\n",
       " '운동': 0.09582893347412882,\n",
       " '밀크': 0.09477296726504753,\n",
       " '알약 크다': 0.09398099260823653,\n",
       " '건강 위해': 0.09318901795142555,\n",
       " '복용 좋다': 0.0926610348468849,\n",
       " '아프다': 0.09239704329461457,\n",
       " '믿다 구매': 0.09239704329461457,\n",
       " '은단 비타민': 0.09134107708553327,\n",
       " '알티 오메가': 0.09107708553326294,\n",
       " '넘김 좋다': 0.0908130939809926,\n",
       " '힘들다': 0.09054910242872229,\n",
       " '밀크 시슬': 0.09028511087645195,\n",
       " '생기다': 0.08896515311510032,\n",
       " '프로폴리스': 0.08790918690601901,\n",
       " '함량 높다': 0.0868532206969377,\n",
       " '영양 제로': 0.0868532206969377,\n",
       " '콜라겐': 0.08526927138331573,\n",
       " '편하다 좋다': 0.0850052798310454,\n",
       " '함량': 0.08474128827877508,\n",
       " '좋다 알약': 0.08421330517423442,\n",
       " '작성 구매': 0.08421330517423442,\n",
       " '괜찮다 가격': 0.0839493136219641,\n",
       " '블랙 마카': 0.08342133051742344,\n",
       " '상품 무료': 0.08342133051742344,\n",
       " '체험 이벤트': 0.08315733896515312,\n",
       " '이벤트 상품': 0.08315733896515312,\n",
       " '성분 좋다': 0.08157338965153114,\n",
       " '바꾸다': 0.08130939809926083,\n",
       " '건강 관리': 0.08025343189017951,\n",
       " '구매 가격': 0.07998944033790918,\n",
       " '만족하다': 0.07972544878563886,\n",
       " '세포 보호': 0.07972544878563886,\n",
       " '괜찮다 빨르다': 0.07972544878563886,\n",
       " '마시다': 0.0791974656810982,\n",
       " '넘김 편하다': 0.0791974656810982,\n",
       " '개선 도움': 0.07893347412882788,\n",
       " '가족': 0.0781414994720169,\n",
       " '나이': 0.0781414994720169,\n",
       " '재다 의사': 0.0781414994720169,\n",
       " '닥터스 베스트': 0.07734952481520592,\n",
       " '작다 넘김': 0.07682154171066526,\n",
       " '도움 좋다': 0.07655755015839494,\n",
       " '구매 제품': 0.07655755015839494,\n",
       " '회복 좋다': 0.07655755015839494,\n",
       " '비타민 섭취': 0.07576557550158394,\n",
       " '가격 대비': 0.07523759239704329,\n",
       " '저녁': 0.07497360084477296,\n",
       " '변비': 0.07470960929250264,\n",
       " '엄청': 0.07444561774023231,\n",
       " '안좋다': 0.07444561774023231,\n",
       " '성분': 0.07391763463569166,\n",
       " '좋다 성분': 0.07391763463569166,\n",
       " '잇다': 0.07365364308342133,\n",
       " '가격 착하다': 0.07365364308342133,\n",
       " '이유': 0.07312565997888068,\n",
       " '구매 해봤다': 0.0723336853220697,\n",
       " '걱정': 0.07127771911298839,\n",
       " '부작용': 0.07127771911298839,\n",
       " '리뷰 도움': 0.07101372756071805,\n",
       " '나서다': 0.07074973600844774,\n",
       " '마음': 0.0704857444561774,\n",
       " '다시': 0.06916578669482576,\n",
       " '느껴지다': 0.06890179514255544,\n",
       " '산소 세포': 0.06863780359028511,\n",
       " '어떻다': 0.06784582893347413,\n",
       " '유해 산소': 0.0675818373812038,\n",
       " '비싸다': 0.06731784582893348,\n",
       " '차다': 0.06731784582893348,\n",
       " '건강 보조': 0.06731784582893348,\n",
       " '보스 리아': 0.06731784582893348,\n",
       " '두다': 0.06626187961985217,\n",
       " '비타민 좋다': 0.06599788806758183,\n",
       " '브랜드': 0.06520591341077085,\n",
       " '돼다 누르다': 0.06388595564941922,\n",
       " '스피루리나': 0.06335797254487856,\n",
       " '그런데': 0.06309398099260824,\n",
       " '살다': 0.06256599788806758,\n",
       " '좋다 재다': 0.06230200633579725,\n",
       " '구매 이유': 0.0617740232312566,\n",
       " '충분하다': 0.06151003167898627,\n",
       " '구매 도움': 0.06151003167898627,\n",
       " '필요하다': 0.061246040126715945,\n",
       " '안되다': 0.061246040126715945,\n",
       " '심하다': 0.06045406546990496,\n",
       " '빠지다': 0.06045406546990496,\n",
       " '정말 좋다': 0.06019007391763464,\n",
       " '섭취 가능하다': 0.06019007391763464,\n",
       " '코큐텐': 0.05992608236536431,\n",
       " '면역 떨어지다': 0.05939809926082365,\n",
       " '적다': 0.05860612460401267,\n",
       " '개인': 0.05860612460401267,\n",
       " '문제': 0.05807814149947202,\n",
       " '시작': 0.05781414994720169,\n",
       " '제품 가격': 0.05781414994720169,\n",
       " '저렴하다 가격': 0.05781414994720169,\n",
       " '구매 해보다': 0.05781414994720169,\n",
       " '이노시톨': 0.05728616684266104,\n",
       " '항산화 작용': 0.05728616684266104,\n",
       " '갱년기 증상': 0.05675818373812038,\n",
       " '씹다': 0.0559662090813094,\n",
       " '쉬다': 0.05570221752903907,\n",
       " '선물 좋다': 0.054910242872228086,\n",
       " '피부 건강': 0.054910242872228086,\n",
       " '영양 제도': 0.05464625131995776,\n",
       " '따로': 0.05438225976768744,\n",
       " '보조 식품': 0.05438225976768744}"
      ]
     },
     "execution_count": 24,
     "metadata": {},
     "output_type": "execute_result"
    }
   ],
   "source": [
    "# count \n",
    "wordCloud.words_ "
   ]
  },
  {
   "cell_type": "code",
   "execution_count": 25,
   "id": "3ab59a0a-96c9-43a4-b7a8-c319ef6b1a2e",
   "metadata": {
    "tags": []
   },
   "outputs": [
    {
     "data": {
      "image/png": "[encoded data removed]",
      "text/plain": [
       "<Figure size 640x480 with 1 Axes>"
      ]
     },
     "metadata": {},
     "output_type": "display_data"
    }
   ],
   "source": [
    "import matplotlib.pyplot as plt\n",
    "plt.imshow(wordCloud)\n",
    "plt.axis('off') \n",
    "plt.show()"
   ]
  },
  {
   "cell_type": "markdown",
   "id": "f47a358f-df8a-443a-98d4-9835a3b532fa",
   "metadata": {},
   "source": [
    "### 별점으로 나눠보기"
   ]
  },
  {
   "cell_type": "code",
   "execution_count": 26,
   "id": "e3be7361-49be-4f19-bf6f-ad9260778527",
   "metadata": {},
   "outputs": [],
   "source": [
    "negative = df_recovery['review_star'] <= 3 \n",
    "df_recovery_negative = df_recovery[negative]"
   ]
  },
  {
   "cell_type": "code",
   "execution_count": 27,
   "id": "9dd348fb-ab3c-4d0e-b547-6c22fbc25057",
   "metadata": {},
   "outputs": [],
   "source": [
    "positive = df_recovery['review_star'] > 3 \n",
    "df_recovery_positive = df_recovery[positive]"
   ]
  },
  {
   "cell_type": "code",
   "execution_count": 28,
   "id": "8b02eb94-d3a6-4ef1-8413-caf73cdceec4",
   "metadata": {},
   "outputs": [],
   "source": [
    "df_recovery_negative.to_csv('./recovery_negative.csv')"
   ]
  },
  {
   "cell_type": "code",
   "execution_count": 29,
   "id": "66ca3765-c601-449d-9fe0-63701f96ac04",
   "metadata": {},
   "outputs": [],
   "source": [
    "df_recovery_positive.to_csv('./recovery_positive.csv')"
   ]
  },
  {
   "cell_type": "markdown",
   "id": "f719f212-85a7-40d3-9894-676aa6a8cb93",
   "metadata": {
    "tags": []
   },
   "source": [
    "#### negative \n",
    "- 별점 1,2,3"
   ]
  },
  {
   "cell_type": "code",
   "execution_count": null,
   "id": "6c90e791-f5f7-43d6-bd7a-b4ca4025ae1d",
   "metadata": {
    "tags": []
   },
   "outputs": [],
   "source": [
    "import pandas as pd"
   ]
  },
  {
   "cell_type": "code",
   "execution_count": null,
   "id": "1e10822e-fb2f-4947-9c19-070eeb0aec10",
   "metadata": {
    "tags": []
   },
   "outputs": [],
   "source": [
    "# negative = df_eyes['review_star'] <= 3 \n",
    "# df_eyes_negative = df_eyes[negative]"
   ]
  },
  {
   "cell_type": "code",
   "execution_count": null,
   "id": "40b67356-33a4-43c3-9f88-23b666953a50",
   "metadata": {
    "tags": []
   },
   "outputs": [],
   "source": [
    "# df_eyes_negative.to_csv('./eyes_negative.csv')"
   ]
  },
  {
   "cell_type": "code",
   "execution_count": null,
   "id": "942b35b7-2ce0-4342-9c8f-8e3aa3f13463",
   "metadata": {
    "tags": []
   },
   "outputs": [],
   "source": [
    "# positive = df_eyes['review_star'] > 3 \n",
    "# df_eyes_positive = df_eyes[positive]"
   ]
  },
  {
   "cell_type": "code",
   "execution_count": null,
   "id": "901c6174-218f-4d7b-982c-211bb0f0048c",
   "metadata": {
    "tags": []
   },
   "outputs": [],
   "source": [
    "# df_eyes_positive.to_csv('./eyes_positive.csv')"
   ]
  },
  {
   "cell_type": "code",
   "execution_count": null,
   "id": "ae09635b-3e97-4f97-a973-b51ffbae43cb",
   "metadata": {
    "tags": []
   },
   "outputs": [],
   "source": [
    "df_eyes_negative = pd.read_csv('./eyes_negative.csv')"
   ]
  },
  {
   "cell_type": "code",
   "execution_count": null,
   "id": "47e82d54-4a43-40fd-be73-4f4144b74de6",
   "metadata": {
    "tags": []
   },
   "outputs": [],
   "source": [
    "from gensim.corpora import Dictionary"
   ]
  },
  {
   "cell_type": "code",
   "execution_count": null,
   "id": "e3795c10-dedb-4b4d-a9c8-b58f75649e33",
   "metadata": {
    "tags": []
   },
   "outputs": [],
   "source": [
    "type(df_eyes_negative['replaced_review'])"
   ]
  },
  {
   "cell_type": "code",
   "execution_count": null,
   "id": "61d8920a-6e86-4b72-83d6-d321910d4898",
   "metadata": {
    "tags": []
   },
   "outputs": [],
   "source": [
    "# 'replaced_review' 열의 모든 값을 문자열로 변환\n",
    "df_eyes_negative['replaced_review'] = df_eyes_negative['replaced_review'].astype(str)"
   ]
  },
  {
   "cell_type": "code",
   "execution_count": null,
   "id": "0bb19bb5-aa33-486c-850a-9af3c5fdc7e5",
   "metadata": {
    "tags": []
   },
   "outputs": [],
   "source": [
    "negative_review = df_eyes_negative['replaced_review'].apply(lambda x: x.split()).values"
   ]
  },
  {
   "cell_type": "code",
   "execution_count": null,
   "id": "94327c48-4b10-48bb-9776-48faa9aba72a",
   "metadata": {
    "tags": []
   },
   "outputs": [],
   "source": [
    "negative_review"
   ]
  },
  {
   "cell_type": "code",
   "execution_count": null,
   "id": "1f254c2f-0b40-4162-a9b4-2b01ce0d4c27",
   "metadata": {
    "tags": []
   },
   "outputs": [],
   "source": [
    "dictionary = Dictionary(negative_review)\n",
    "dictionary"
   ]
  },
  {
   "cell_type": "code",
   "execution_count": null,
   "id": "fb639647-9bf3-489f-b75e-23761a6225bd",
   "metadata": {
    "tags": []
   },
   "outputs": [],
   "source": [
    "dictionary.doc2bow(negative_review[3])"
   ]
  },
  {
   "cell_type": "code",
   "execution_count": null,
   "id": "4770341a-e1e6-4f62-88db-ef2d2ba54200",
   "metadata": {
    "tags": []
   },
   "outputs": [],
   "source": [
    "# dictionary에 의한 한글 문장을 벡터화 변환\n",
    "corpus_list = list()\n",
    "for sentence in negative_review :\n",
    "  vectors = dictionary.doc2bow(sentence)\n",
    "  corpus_list.append(vectors)"
   ]
  },
  {
   "cell_type": "code",
   "execution_count": null,
   "id": "2131b274-98fc-43cd-b6c2-e05998a51d6c",
   "metadata": {
    "tags": []
   },
   "outputs": [],
   "source": [
    "df_eyes_negative['문장벡터화'] = corpus_list"
   ]
  },
  {
   "cell_type": "markdown",
   "id": "eb9b2771-eba4-43c9-a6b5-b19f16c59c4d",
   "metadata": {},
   "source": [
    "##### 토픽 잡기\n"
   ]
  },
  {
   "cell_type": "code",
   "execution_count": null,
   "id": "bd3dff23-c03a-4856-8233-9550e863f043",
   "metadata": {
    "tags": []
   },
   "outputs": [],
   "source": [
    "from gensim.models import LdaModel"
   ]
  },
  {
   "cell_type": "code",
   "execution_count": null,
   "id": "116a9520-9530-4ff1-a67b-4adb0cfb7fcd",
   "metadata": {
    "tags": []
   },
   "outputs": [],
   "source": [
    "lda_model = LdaModel(corpus=corpus_list, id2word=dictionary, num_topics=7)"
   ]
  },
  {
   "cell_type": "code",
   "execution_count": null,
   "id": "25d343d3-2b1f-42e9-b1dc-67d54fecfa43",
   "metadata": {
    "tags": []
   },
   "outputs": [],
   "source": [
    "lda_model.print_topics(num_words=7)"
   ]
  },
  {
   "cell_type": "markdown",
   "id": "738e2633-3241-42ed-a742-81c8ec2b0b24",
   "metadata": {},
   "source": [
    "###### 최적 토픽 추출하기 "
   ]
  },
  {
   "cell_type": "code",
   "execution_count": null,
   "id": "90588c4d-0d50-4518-9122-0947cdbf7a90",
   "metadata": {
    "tags": []
   },
   "outputs": [],
   "source": [
    "sentences = df_eyes_negative['replaced_review']\n",
    "sentences"
   ]
  },
  {
   "cell_type": "code",
   "execution_count": null,
   "id": "adf2f4ec-b594-4232-8cba-4ed8dacbf319",
   "metadata": {
    "tags": []
   },
   "outputs": [],
   "source": [
    "# 각 문장을 공백으로 나누어 리스트에 저장\n",
    "tokenized_sentences = [sentence.split() for sentence in sentences]"
   ]
  },
  {
   "cell_type": "code",
   "execution_count": null,
   "id": "f62891ca-77ed-4f37-95ab-cfb788286ff1",
   "metadata": {
    "tags": []
   },
   "outputs": [],
   "source": [
    "# 결과 출력\n",
    "morphs_list = list()\n",
    "for tokens in tokenized_sentences:\n",
    "    morphs_list.append(tokens)\n",
    "morphs_list"
   ]
  },
  {
   "cell_type": "code",
   "execution_count": null,
   "id": "d8093bdb-bcba-45ea-a697-e7a17ee4689d",
   "metadata": {
    "tags": []
   },
   "outputs": [],
   "source": [
    "preprocessed_sentences = morphs_list"
   ]
  },
  {
   "cell_type": "code",
   "execution_count": null,
   "id": "e476ec2c-4b91-4977-9608-5f9b898ef15a",
   "metadata": {
    "tags": []
   },
   "outputs": [],
   "source": [
    "dictionary_sentences = Dictionary(preprocessed_sentences) # fix in like sklean\n",
    "dictionary_sentences"
   ]
  },
  {
   "cell_type": "code",
   "execution_count": null,
   "id": "24fab5e6-c972-45a7-b8c9-7a3c20ba948a",
   "metadata": {
    "tags": []
   },
   "outputs": [],
   "source": [
    "from gensim.models.coherencemodel import CoherenceModel"
   ]
  },
  {
   "cell_type": "code",
   "execution_count": null,
   "id": "6c5051bd-a4da-4752-9c26-f7d69672baf1",
   "metadata": {
    "tags": []
   },
   "outputs": [],
   "source": [
    "start_topic = 2\n",
    "end_topic = 10\n",
    "coherence_scores = list()\n",
    "perplexity_scores = list()\n",
    "for topic_number in range(start_topic, end_topic+1):\n",
    "    best_lda_model = LdaModel(corpus=corpus_list, id2word=dictionary_sentences, num_topics=topic_number) # fix\n",
    "    coherenceModel = CoherenceModel(model=best_lda_model, texts=morphs_list, dictionary=dictionary_sentences)\n",
    "    coherence_scores.append(coherenceModel.get_coherence()) # 일관성 점수\n",
    "    perplexity_scores.append(best_lda_model.log_perplexity(corpus_list))"
   ]
  },
  {
   "cell_type": "code",
   "execution_count": null,
   "id": "8ede73cb-5680-407c-8276-12f150f6fee0",
   "metadata": {
    "tags": []
   },
   "outputs": [],
   "source": [
    "import pandas as pd\n",
    "scores = pd.DataFrame([coherence_scores,  perplexity_scores]).T\n",
    "scores"
   ]
  },
  {
   "cell_type": "code",
   "execution_count": null,
   "id": "5e1ee511-2798-48a1-a96c-76f91e3bbda2",
   "metadata": {
    "tags": []
   },
   "outputs": [],
   "source": [
    "import seaborn as sns\n",
    "import matplotlib.pyplot as plt"
   ]
  },
  {
   "cell_type": "code",
   "execution_count": null,
   "id": "26b61fd6-9159-4b99-8b8c-f9fefb0c43ed",
   "metadata": {
    "tags": []
   },
   "outputs": [],
   "source": [
    "sns.lineplot(coherence_scores)\n",
    "plt.show()\n",
    "sns.lineplot(perplexity_scores)\n",
    "plt.show()"
   ]
  },
  {
   "cell_type": "markdown",
   "id": "284fcf78-f4aa-4c2a-a39f-0fbed756ef70",
   "metadata": {},
   "source": [
    "##### LDA 시각화(review_negative)"
   ]
  },
  {
   "cell_type": "code",
   "execution_count": null,
   "id": "110a8ff2-219c-4b81-8d87-f9b9c5511f10",
   "metadata": {
    "tags": []
   },
   "outputs": [],
   "source": [
    "# %pip install --user pyLDAvis"
   ]
  },
  {
   "cell_type": "code",
   "execution_count": null,
   "id": "7add342e-a4f1-455d-850e-6af9514e8616",
   "metadata": {
    "tags": []
   },
   "outputs": [],
   "source": [
    "# !pip install gensim"
   ]
  },
  {
   "cell_type": "code",
   "execution_count": null,
   "id": "f83ea4a8-ae16-43a3-9527-ebf6aaf4d5bc",
   "metadata": {
    "tags": []
   },
   "outputs": [],
   "source": [
    "# !pip show pyLDAvis"
   ]
  },
  {
   "cell_type": "code",
   "execution_count": null,
   "id": "52b933e6-544b-4550-9a09-11b343358483",
   "metadata": {
    "tags": []
   },
   "outputs": [],
   "source": [
    "import pyLDAvis.gensim_models"
   ]
  },
  {
   "cell_type": "code",
   "execution_count": null,
   "id": "8052fccf-9f0e-4325-87d5-483009c05df8",
   "metadata": {
    "tags": []
   },
   "outputs": [],
   "source": [
    "lda_model = LdaModel(corpus=corpus_list, id2word=dictionary, num_topics=3)"
   ]
  },
  {
   "cell_type": "code",
   "execution_count": null,
   "id": "51c0e32e-c6bd-47ee-bb9b-cf0decb7e143",
   "metadata": {
    "tags": []
   },
   "outputs": [],
   "source": [
    "lda_model.print_topics(num_words=4)"
   ]
  },
  {
   "cell_type": "code",
   "execution_count": null,
   "id": "dba335a9-6fc4-4d9b-9c1b-485b26af3e59",
   "metadata": {},
   "outputs": [],
   "source": [
    "negative_topic=lda_model.print_topics(num_words=4)"
   ]
  },
  {
   "cell_type": "code",
   "execution_count": null,
   "id": "9086cc42-eb93-4a12-9429-7a86c052f51f",
   "metadata": {
    "tags": []
   },
   "outputs": [],
   "source": [
    "type(negative_topic)"
   ]
  },
  {
   "cell_type": "code",
   "execution_count": null,
   "id": "0442e009-ec45-4356-b08f-20230ae49842",
   "metadata": {
    "tags": []
   },
   "outputs": [],
   "source": [
    "df_negative_topic=pd.DataFrame(data=negative_topic)"
   ]
  },
  {
   "cell_type": "code",
   "execution_count": null,
   "id": "f7bb0ce4-19f4-44ec-8d7a-31a2fc6f8d95",
   "metadata": {
    "tags": []
   },
   "outputs": [],
   "source": [
    "df_negative_topic.to_excel('./negative_topic.xlsx')"
   ]
  },
  {
   "cell_type": "code",
   "execution_count": null,
   "id": "9eca3c77-67f5-4338-97d7-4e2ab7228483",
   "metadata": {},
   "outputs": [],
   "source": [
    "pyLDAvis.enable_notebook() # 일반적인 python에선 불필요\n",
    "result_visualized = pyLDAvis.gensim_models.prepare(lda_model, corpus_list, dictionary)"
   ]
  },
  {
   "cell_type": "code",
   "execution_count": null,
   "id": "bec8c3fe-82c8-49f0-baee-3b3dc3bd3759",
   "metadata": {
    "tags": []
   },
   "outputs": [],
   "source": [
    "pyLDAvis.display(result_visualized)"
   ]
  },
  {
   "cell_type": "code",
   "execution_count": null,
   "id": "6df7ddb2-eaa0-41d0-a6d2-b290388120e3",
   "metadata": {
    "tags": []
   },
   "outputs": [],
   "source": [
    "# project_nutrients_review_negative_result_visualized.html\n",
    "pyLDAvis.save_html(result_visualized, './eyes_review_negative_result_visualized.html')"
   ]
  },
  {
   "cell_type": "markdown",
   "id": "e62c0b0d-123e-482f-a7f7-ab8b2b4aba9a",
   "metadata": {},
   "source": [
    "#### positive\n",
    "- 별점 4, 5"
   ]
  },
  {
   "cell_type": "code",
   "execution_count": null,
   "id": "89b7d745-b3d4-4e1a-bfe3-6b371ff7423c",
   "metadata": {
    "tags": []
   },
   "outputs": [],
   "source": [
    "df_eyes_positive = pd.read_csv('./eyes_positive.csv')"
   ]
  },
  {
   "cell_type": "code",
   "execution_count": null,
   "id": "68b0fdd1-4732-4fc4-a802-c1b39ac8649e",
   "metadata": {
    "tags": []
   },
   "outputs": [],
   "source": [
    "# 'replaced_review' 열의 모든 값을 문자열로 변환\n",
    "df_eyes_positive['replaced_review'] = df_eyes_positive['replaced_review'].astype(str)"
   ]
  },
  {
   "cell_type": "code",
   "execution_count": null,
   "id": "7ad25ae9-8984-4bdc-8c3d-b4fa14239365",
   "metadata": {
    "tags": []
   },
   "outputs": [],
   "source": [
    "positive_review = df_eyes_positive['replaced_review'].apply(lambda x: x.split()).values"
   ]
  },
  {
   "cell_type": "code",
   "execution_count": null,
   "id": "1e367b53-ede0-4b93-8c05-045bf31b68be",
   "metadata": {
    "tags": []
   },
   "outputs": [],
   "source": [
    "positive_dictionary = Dictionary(positive_review)\n",
    "positive_dictionary"
   ]
  },
  {
   "cell_type": "code",
   "execution_count": null,
   "id": "1b3dae6a-1d41-4682-a1e3-13b48efc49a3",
   "metadata": {
    "tags": []
   },
   "outputs": [],
   "source": [
    "positive_dictionary.doc2bow(positive_review[10])"
   ]
  },
  {
   "cell_type": "code",
   "execution_count": null,
   "id": "985ed4b0-cf98-4c4f-8d74-c4aac7a023ab",
   "metadata": {
    "tags": []
   },
   "outputs": [],
   "source": [
    "# dictionary에 의한 한글 문장을 벡터화 변환\n",
    "corpus_list_pos = list()\n",
    "for sentence in positive_review :\n",
    "  vectors = positive_dictionary.doc2bow(sentence)\n",
    "  corpus_list_pos.append(vectors)"
   ]
  },
  {
   "cell_type": "code",
   "execution_count": null,
   "id": "c204ec8b-bb65-457b-b779-47c2e8ccf360",
   "metadata": {
    "tags": []
   },
   "outputs": [],
   "source": [
    "df_eyes_positive['문장벡터화'] = corpus_list_pos"
   ]
  },
  {
   "cell_type": "markdown",
   "id": "38233a93-358b-4145-a823-3a4bab095dad",
   "metadata": {},
   "source": [
    "##### 토픽잡기"
   ]
  },
  {
   "cell_type": "code",
   "execution_count": null,
   "id": "396f9127-b499-4c8c-9946-c2e54076a35f",
   "metadata": {
    "tags": []
   },
   "outputs": [],
   "source": [
    "lda_model_pos = LdaModel(corpus=corpus_list_pos, id2word=positive_dictionary, num_topics=4)"
   ]
  },
  {
   "cell_type": "code",
   "execution_count": null,
   "id": "78e2efc6-9a58-4b60-99b0-7cb5a89d5fb4",
   "metadata": {
    "tags": []
   },
   "outputs": [],
   "source": [
    "lda_model_pos.print_topics(num_words=4)"
   ]
  },
  {
   "cell_type": "markdown",
   "id": "d494547b-988d-4bf1-a13d-8eec20b53dbc",
   "metadata": {},
   "source": [
    "###### 최적 토픽 잡기_긍정"
   ]
  },
  {
   "cell_type": "code",
   "execution_count": null,
   "id": "fb24e339-e222-45cf-8689-fafeba4e51cb",
   "metadata": {
    "tags": []
   },
   "outputs": [],
   "source": [
    "sentences_pos = df_eyes_positive['replaced_review']\n",
    "sentences_pos"
   ]
  },
  {
   "cell_type": "code",
   "execution_count": null,
   "id": "a28176df-7e3c-46d1-aab0-2e2c8a580a61",
   "metadata": {
    "tags": []
   },
   "outputs": [],
   "source": [
    "# 각 문장을 공백으로 나누어 리스트에 저장\n",
    "tokenized_sentences_pos = [sentence.split() for sentence in sentences_pos]"
   ]
  },
  {
   "cell_type": "code",
   "execution_count": null,
   "id": "10038a3a-2cdd-4b46-8ab1-09a0ab08914d",
   "metadata": {
    "tags": []
   },
   "outputs": [],
   "source": [
    "# 결과 출력\n",
    "morphs_list_pos = list()\n",
    "for tokens in tokenized_sentences_pos:\n",
    "    morphs_list_pos.append(tokens)\n",
    "morphs_list_pos"
   ]
  },
  {
   "cell_type": "code",
   "execution_count": null,
   "id": "22ec24ab-f06f-4148-833a-92bdc504b253",
   "metadata": {
    "tags": []
   },
   "outputs": [],
   "source": [
    "preprocessed_sentences = morphs_list_pos"
   ]
  },
  {
   "cell_type": "code",
   "execution_count": null,
   "id": "74b27e89-1e2b-45e2-98c2-6b1aa1abfd19",
   "metadata": {
    "tags": []
   },
   "outputs": [],
   "source": [
    "dictionary_sentences = Dictionary(preprocessed_sentences) # fix in like sklean\n",
    "dictionary_sentences"
   ]
  },
  {
   "cell_type": "code",
   "execution_count": null,
   "id": "c9c9a136-0c71-43d8-b08f-ec3eb623a657",
   "metadata": {
    "tags": []
   },
   "outputs": [],
   "source": [
    "start_topic = 2\n",
    "end_topic = 10\n",
    "coherence_scores = list()\n",
    "perplexity_scores = list()\n",
    "for topic_number in range(start_topic, end_topic+1):\n",
    "    best_pos_lda_model = LdaModel(corpus=corpus_list_pos, id2word=dictionary_sentences, num_topics=topic_number) # fix\n",
    "    coherenceModel = CoherenceModel(model=best_pos_lda_model, texts=morphs_list_pos, dictionary=dictionary_sentences)\n",
    "    coherence_scores.append(coherenceModel.get_coherence()) # 일관성 점수\n",
    "    perplexity_scores.append(best_pos_lda_model.log_perplexity(corpus_list_pos))"
   ]
  },
  {
   "cell_type": "code",
   "execution_count": null,
   "id": "48b4dc17-5651-4f3d-a207-26e9b97d5d81",
   "metadata": {
    "tags": []
   },
   "outputs": [],
   "source": [
    "scores_pos = pd.DataFrame([coherence_scores,  perplexity_scores]).T\n",
    "scores_pos"
   ]
  },
  {
   "cell_type": "code",
   "execution_count": null,
   "id": "5a5ffa87-7e81-4289-b538-c85ffdc865e6",
   "metadata": {
    "tags": []
   },
   "outputs": [],
   "source": [
    "sns.lineplot(coherence_scores)\n",
    "plt.show()\n",
    "sns.lineplot(perplexity_scores)\n",
    "plt.show()"
   ]
  },
  {
   "cell_type": "code",
   "execution_count": null,
   "id": "ed5adf29-2dcf-4569-a0b3-faefc63bdefc",
   "metadata": {
    "tags": []
   },
   "outputs": [],
   "source": [
    "pos_lda_model = LdaModel(corpus=corpus_list_pos, id2word=dictionary_sentences, num_topics=3)"
   ]
  },
  {
   "cell_type": "code",
   "execution_count": null,
   "id": "dbaaea15-734b-46f1-a39f-bb21a33a75c6",
   "metadata": {
    "tags": []
   },
   "outputs": [],
   "source": [
    "positive_topic=pos_lda_model.print_topics(num_words=4)"
   ]
  },
  {
   "cell_type": "code",
   "execution_count": null,
   "id": "5a2ac300-8f72-47a9-9c7e-ec9f182939c1",
   "metadata": {
    "tags": []
   },
   "outputs": [],
   "source": [
    "pyLDAvis.enable_notebook() # 일반적인 python에선 불필요\n",
    "result_visualized = pyLDAvis.gensim_models.prepare(pos_lda_model, corpus_list_pos, dictionary_sentences)"
   ]
  },
  {
   "cell_type": "code",
   "execution_count": null,
   "id": "21a6f68a-5fd1-4c87-88f2-50ab8732e863",
   "metadata": {
    "tags": []
   },
   "outputs": [],
   "source": [
    "df_positive_topic=pd.DataFrame(data=positive_topic)"
   ]
  },
  {
   "cell_type": "code",
   "execution_count": null,
   "id": "88abf71e-61ef-4539-828b-ad3d694784da",
   "metadata": {
    "tags": []
   },
   "outputs": [],
   "source": [
    "df_positive_topic.to_excel('./positive_topic.xlsx')"
   ]
  },
  {
   "cell_type": "code",
   "execution_count": null,
   "id": "ad24527f-9c67-45e2-9e47-5ed355900531",
   "metadata": {
    "tags": []
   },
   "outputs": [],
   "source": [
    "pyLDAvis.display(result_visualized)"
   ]
  },
  {
   "cell_type": "code",
   "execution_count": null,
   "id": "5bd52f4f-9eb5-4b51-9343-60a31603a0d9",
   "metadata": {
    "tags": []
   },
   "outputs": [],
   "source": [
    "# project_nutrients_review_negative_result_visualized.html\n",
    "pyLDAvis.save_html(result_visualized, './eyes_review_positive_result_visualized.html')"
   ]
  },
  {
   "cell_type": "code",
   "execution_count": null,
   "id": "2e298aff-5053-42ad-9e3f-8a06b3a9ce91",
   "metadata": {},
   "outputs": [],
   "source": []
  }
 ],
 "metadata": {
  "kernelspec": {
   "display_name": "Python 3 (ipykernel)",
   "language": "python",
   "name": "python3"
  },
  "language_info": {
   "codemirror_mode": {
    "name": "ipython",
    "version": 3
   },
   "file_extension": ".py",
   "mimetype": "text/x-python",
   "name": "python",
   "nbconvert_exporter": "python",
   "pygments_lexer": "ipython3",
   "version": "3.11.4"
  }
 },
 "nbformat": 4,
 "nbformat_minor": 5
}
